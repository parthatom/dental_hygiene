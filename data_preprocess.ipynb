{
 "cells": [
  {
   "cell_type": "markdown",
   "metadata": {},
   "source": [
    "## Data preprocessing\n",
    "#### Nov.9.2022"
   ]
  },
  {
   "cell_type": "code",
   "execution_count": 2,
   "metadata": {},
   "outputs": [],
   "source": [
    "%%capture\n",
    "import pandas as pd\n",
    "import numpy as np\n",
    "\n",
    "df_dietary = pd.read_sas('./dataset/P_DSQTOT.XPT')\n",
    "df_nutrition = pd.read_sas('./dataset/P_DR1TOT.XPT')\n",
    "df_dental = pd.read_sas('./dataset/P_OHXDEN.XPT')\n"
   ]
  },
  {
   "cell_type": "code",
   "execution_count": 3,
   "metadata": {},
   "outputs": [
    {
     "name": "stdout",
     "output_type": "stream",
     "text": [
      "<class 'pandas.core.frame.DataFrame'>\n",
      "Int64Index: 13772 entries, 0 to 13771\n",
      "Columns: 375 entries, SEQN to OHX31SE\n",
      "dtypes: float64(245), object(130)\n",
      "memory usage: 39.5+ MB\n"
     ]
    }
   ],
   "source": [
    "df_data = pd.merge(df_dietary, df_nutrition, on='SEQN')\n",
    "df_data = pd.merge(df_data, df_dental, on='SEQN')\n",
    "df_data.info()\n",
    "df_data.head()\n",
    "df_data.to_csv('train_data.csv')"
   ]
  },
  {
   "cell_type": "code",
   "execution_count": 4,
   "metadata": {},
   "outputs": [
    {
     "name": "stdout",
     "output_type": "stream",
     "text": [
      "<class 'pandas.core.frame.DataFrame'>\n",
      "Int64Index: 0 entries\n",
      "Columns: 375 entries, SEQN to OHX31SE\n",
      "dtypes: float64(245), object(130)\n",
      "memory usage: 0.0+ bytes\n"
     ]
    }
   ],
   "source": [
    "df_dropna = df_data.dropna()\n",
    "df_dropna.info()\n"
   ]
  },
  {
   "cell_type": "markdown",
   "metadata": {},
   "source": [
    "#### Summary: Our dataset has 13772 observations and 374 features with a lot of empty entries. If we drop na, there is simply nothing left."
   ]
  }
 ],
 "metadata": {
  "kernelspec": {
   "display_name": "Python 3.9.6 64-bit",
   "language": "python",
   "name": "python3"
  },
  "language_info": {
   "codemirror_mode": {
    "name": "ipython",
    "version": 3
   },
   "file_extension": ".py",
   "mimetype": "text/x-python",
   "name": "python",
   "nbconvert_exporter": "python",
   "pygments_lexer": "ipython3",
   "version": "3.9.6"
  },
  "orig_nbformat": 4,
  "vscode": {
   "interpreter": {
    "hash": "31f2aee4e71d21fbe5cf8b01ff0e069b9275f58929596ceb00d14d90e3e16cd6"
   }
  }
 },
 "nbformat": 4,
 "nbformat_minor": 2
}

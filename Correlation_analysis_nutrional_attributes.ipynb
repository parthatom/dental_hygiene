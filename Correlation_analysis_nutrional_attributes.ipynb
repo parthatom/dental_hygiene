{
  "nbformat": 4,
  "nbformat_minor": 0,
  "metadata": {
    "colab": {
      "provenance": []
    },
    "kernelspec": {
      "name": "python3",
      "display_name": "Python 3"
    },
    "language_info": {
      "name": "python"
    }
  },
  "cells": [
    {
      "cell_type": "code",
      "source": [
        "import pandas as pd\n",
        "import numpy as np\n",
        "import os\n",
        "\n",
        "# Anterior and Posterior Teeth as defined by American Dental Association\n",
        "# https://radiopaedia.org/articles/american-dental-association-universal-numbering-system?lang=us\n",
        "\n",
        "ANTERIOR = list(range(6, 12)) + list(range(22, 28))\n",
        "POSTERIOR = list(range(1, 6)) + list(range(12, 22)) + list(range(28, 33))\n",
        "\n",
        "# Some codings for easier usage later\n",
        "CODINGS = {\n",
        "    'ABSENT': 0,\n",
        "    'PRESENT': 1,\n",
        "\n",
        "}\n",
        "\n",
        "\n",
        "def get_data(url='https://wwwn.cdc.gov/Nchs/Nhanes/2017-2018/P_OHXDEN.XPT', path='./dataset/P_OHXDEN.XPT'):\n",
        "    \"\"\"\n",
        "    Load data from path if exists, else pull from url\n",
        "    @param url: URL of the data\n",
        "    @type url: str\n",
        "    @param path: Path of dataset on file system if exists\n",
        "    @type path: str\n",
        "    @return: Entire pd.DataFrame\n",
        "    \"\"\"\n",
        "    return pd.read_sas(path if os.path.exists(path) else url)\n",
        "\n",
        "\n",
        "# OHXxxTC Column Description :\n",
        "# Code  Description\t                            Count\tCumulative  Convert Explanation\n",
        "# 1\t    Primary tooth (deciduous) present\t    0\t    0           1       Present\n",
        "# 2\t    Permanent tooth present\t                7534\t7534        1       Present\n",
        "# 3\t    Dental implant\t                        4\t    7538        0       Absent\n",
        "# 4\t    Tooth not present\t                    5609\t13147       0       Absent\n",
        "# 5\t    Permanent dental root fragment present\t131\t    13278       0       Absent\n",
        "# 9\t    Could not assess\t                    0\t    13278       0       Treat as Absent\n",
        "# .\t    Missing\t                                494\t    13772       0       Treat as Absent\n",
        "\n",
        "\n",
        "TOOTH_COUNT_CODINGS = {\n",
        "    1: 1,  # Primary tooth\n",
        "    2: 1,  # Perm tooth\n",
        "    3: 0,  # Implant\n",
        "    4: 0,\n",
        "    5: 0,\n",
        "    9: 0,\n",
        "    'nan': np.nan\n",
        "}\n",
        "\n",
        "\n",
        "def get_tc_col_name(t):\n",
        "    return 'OHX{tooth:02d}TC'.format(tooth=t)\n",
        "\n",
        "\n",
        "def get_tooth_count(df, tooth_list, codings=None):\n",
        "    \"\"\"\n",
        "    Gets tooth count from merging TOOTH_COUNT cols for all teeth in tooth_list\n",
        "    @param codings:\n",
        "    @param df: DataFrame\n",
        "    @type df: pd.DataFrame\n",
        "    @param tooth_list: ANTERIOR or POSTERIOR\n",
        "    @return: pd.Series of Tooth Count\n",
        "    \"\"\"\n",
        "    if codings is None:\n",
        "        codings = TOOTH_COUNT_CODINGS\n",
        "    cols = list(map(get_tc_col_name, tooth_list))\n",
        "    data = df[cols]\n",
        "    return data.applymap(lambda x: codings['nan'] if np.isnan(x) else codings[x]).sum(axis=1)\n",
        "\n",
        "\n",
        "#\n",
        "#\n",
        "# Code \tDescription\t                                                            Count\tCumulative  Convert\n",
        "# A\t    Primary tooth with a restored surface condition\t                        0\t    0           1\n",
        "# D\t    Sound primary tooth\t                                                    0\t    0           0\n",
        "# E\t    Missing due to dental disease\t                                        1197\t1197        3\n",
        "# F\t    Permanent tooth with a restored surface condition\t                    2908\t4105        1\n",
        "# J\t    Permanent root tip is present but no restorative replacement is present\t131\t    4236        3\n",
        "# K\t    Primary tooth with a dental carious surface condition\t                0\t    4236        2\n",
        "# M\t    Missing due to other causes\t                                            47\t    4283        3\n",
        "# P\t    Missing due to dental disease but replaced by a removable restoration\t1019\t5302        3\n",
        "# Q\t    Missing due to other causes but replaced by a removable restoration\t    37\t    5339        3\n",
        "# R\t    Missing due to dental disease but replaced by a fixed restoration\t    13\t    5352        3\n",
        "# S\t    Sound permanent tooth\t                                                4394    9746        0\n",
        "# T\t    Permanent root tip is present but a restorative replacement is present\t0\t    9746        3\n",
        "# U\t    Unerupted\t                                                            3297\t13043       nan\n",
        "# X\t    Missing due to other causes but replaced by a fixed restoration\t        0\t    13043       nan\n",
        "# Y\t    Tooth present, condition cannot be assessed\t                            11\t    13054       nan\n",
        "# Z\t    Permanent tooth with a dental carious surface condition\t                220\t    13274       2\n",
        "# nan\tMissing\t                                                                498\t    13772       nan\n",
        "\n",
        "CARIES_CODINGS = {\n",
        "    'A': 1,\n",
        "    'D': 0,\n",
        "    'E': 3,\n",
        "    'F': 1,\n",
        "    'J': 3,\n",
        "    'K': 2,\n",
        "    'M': 3,\n",
        "    'P': 3,\n",
        "    'Q': 3,\n",
        "    'R': 3,\n",
        "    'S': 0,\n",
        "    'T': 3,\n",
        "    'U': np.nan,\n",
        "    'X': np.nan,\n",
        "    'Y': np.nan,\n",
        "    'Z': 2,\n",
        "    'nan': np.nan,\n",
        "    '': np.nan\n",
        "}\n",
        "\n",
        "\n",
        "def get_tooth_caries_col_name(t):\n",
        "    return 'OHX{tooth:02d}CTC'.format(tooth=t)\n",
        "\n",
        "\n",
        "def del_not_present_cols(l, np):\n",
        "    l1 = l.copy()\n",
        "    for x in np:\n",
        "        if x in l1:\n",
        "            del l1[l1.index(x)]\n",
        "    return l1\n",
        "\n",
        "\n",
        "def get_caries_count(df, tooth_list, codings=None):\n",
        "    \"\"\"\n",
        "    Gets tooth count from merging TOOTH_COUNT cols for all teeth in tooth_list\n",
        "    @param codings:\n",
        "    @param df: DataFrame\n",
        "    @type df: pd.DataFrame\n",
        "    @param tooth_list: ANTERIOR or POSTERIOR\n",
        "    @return: pd.Series of Tooth Count\n",
        "    \"\"\"\n",
        "    if codings is None:\n",
        "        codings = CARIES_CODINGS\n",
        "    # No Caries Col for 1,32\n",
        "    tl = del_not_present_cols(tooth_list, [1, 16, 17, 32])\n",
        "\n",
        "    cols = list(map(get_tooth_caries_col_name, tl))\n",
        "    data = df[cols]\n",
        "    return data.applymap(lambda x: codings[x.decode()]).sum(axis=1)\n",
        "\n",
        "\n",
        "#  Dental Sealants Data Description\n",
        "#\n",
        "# Code  Description\t                                    Count\tCumulative\tConvert\n",
        "# 0\t    Sealant not present\t                            4194\t4194\t    0\n",
        "# 1\t    Occlusal sealant on permanent tooth\t            102 \t4296\t    1\n",
        "# 2\t    Facial sealant on permanent tooth\t            0\t    4296\t    1\n",
        "# 3\t    Lingual sealant on permanent tooth\t            0\t    4296\t    1\n",
        "# 4\t    Occlusal sealant on primary tooth\t            51\t    4347\t    1\n",
        "# 9\t    Cannot be assessed\t                            41\t    4388\t    nan\n",
        "# 12\tOcclusal-facial sealant on permanent tooth\t    0\t    4388\t    1\n",
        "# 13\tOcclusal-lingual sealant on permanent tooth\t    0\t    4388\t    1\n",
        "# nan\tMissing\t                                        9384\t13772       nan\n",
        "\n",
        "SEALANT_CODINGS = {\n",
        "    0: 0,\n",
        "    1: 1,\n",
        "    2: 1,\n",
        "    3: 1,\n",
        "    4: 1,\n",
        "    9: np.nan,\n",
        "    12: 1,\n",
        "    13: 1,\n",
        "    'nan': np.nan,\n",
        "    '': np.nan\n",
        "}\n",
        "\n",
        "\n",
        "def get_sealant_col_name(t):\n",
        "    return 'OHX{tooth:02d}SE'.format(tooth=t)\n",
        "\n",
        "\n",
        "def get_sealant_count(df, tooth_list, codings=None):\n",
        "    \"\"\"\n",
        "    Gets tooth count from merging TOOTH_COUNT cols for all teeth in tooth_list\n",
        "    @param codings:\n",
        "    @param df: DataFrame\n",
        "    @type df: pd.DataFrame\n",
        "    @param tooth_list: ANTERIOR or POSTERIOR\n",
        "    @return: pd.Series of Tooth Count\n",
        "    \"\"\"\n",
        "    if codings is None:\n",
        "        codings = SEALANT_CODINGS\n",
        "    # No Sealant Col for 1,32\n",
        "    tl = del_not_present_cols(tooth_list, [1, 6, 8, 9, 11, 16, 17, 22, 23, 24, 25, 26, 27, 32])\n",
        "    cols = list(map(get_sealant_col_name, tl))\n",
        "    data = df[cols]\n",
        "    return data.applymap(lambda x: codings[''] if not x.decode() else codings[int(x.decode())]).sum(axis=1)\n",
        "\n",
        "\n",
        "#   Root Caries, other lesions X [restored , not] Data Description\n",
        "# Code Description\t            Count   Convert\n",
        "# 1\t    Yes\t                    1085    1\n",
        "# 2\t    No\t                    6916\t0\n",
        "# 9\t    Cannot be accessed\t    7\t\tnan\n",
        "# .\t    Missing\t                5764\tnan\n",
        "\n",
        "ROOT_CODINGS = {\n",
        "    1:1,\n",
        "    2:0,\n",
        "    9: np.nan,\n",
        "    'nan': np.nan\n",
        "}\n",
        "\n",
        "def get_root_caries(df, codings=None):\n",
        "    if codings is None:\n",
        "        codings = ROOT_CODINGS\n",
        "    data = df[['OHXRCAR', 'OHXRRES']]\n",
        "    return data.applymap(lambda x: codings['nan'] if np.isnan(x) else codings[x]).sum(axis=1)\n",
        "\n",
        "def get_other_non_carious_restoration(df, codings=None):\n",
        "    if codings is None:\n",
        "        codings = ROOT_CODINGS\n",
        "    data = df[['OHXRCARO', 'OHXRRESO']]\n",
        "    return data.applymap(lambda x: codings['nan'] if np.isnan(x) else codings[x]).sum(axis=1)\n",
        "\n",
        "\n",
        "def preprocess_dental_data():\n",
        "    df = get_data()\n",
        "    data = pd.DataFrame(df['SEQN'])\n",
        "    data['ANTERIOR_TOOTH_COUNT'] = get_tooth_count(df, ANTERIOR)\n",
        "    data['POSTERIOR_TOOTH_COUNT'] = get_tooth_count(df, POSTERIOR)\n",
        "    data['ANTERIOR_CARIES_COUNT'] = get_caries_count(df, ANTERIOR)\n",
        "    data['POSTERIOR_CARIES_COUNT'] = get_caries_count(df, POSTERIOR)\n",
        "    data['ANTERIOR_DENTAL_SEALANT_COUNT'] = get_sealant_count(df, ANTERIOR)\n",
        "    data['POSTERIOR_DENTAL_SEALANT_COUNT'] = get_sealant_count(df, POSTERIOR)\n",
        "    data['ROOT_CARIES'] = get_root_caries(df)\n",
        "    data['OTHER_NON_CARIOUS_ROOT_LESION'] = get_other_non_carious_restoration(df)\n",
        "    return data\n",
        "\n",
        "\n",
        "if __name__ == \"__main__\":\n",
        "    # print(get_tooth_count(get_data(), ANTERIOR))\n",
        "    # print(get_caries_count(get_data(), ANTERIOR))\n",
        "    # print(get_sealant_count(get_data(), ANTERIOR))\n",
        "    print(get_root_caries(get_data()))\n",
        "    print(get_other_non_carious_restoration(get_data()))"
      ],
      "metadata": {
        "colab": {
          "base_uri": "https://localhost:8080/"
        },
        "id": "zVSjOP2wQB1E",
        "outputId": "6b5a50d4-0bd3-4996-c8da-801130d27da6"
      },
      "execution_count": 93,
      "outputs": [
        {
          "output_type": "stream",
          "name": "stderr",
          "text": [
            "/usr/local/lib/python3.7/dist-packages/pandas/io/sas/sas_xport.py:475: PerformanceWarning: DataFrame is highly fragmented.  This is usually the result of calling `frame.insert` many times, which has poor performance.  Consider joining all columns at once using pd.concat(axis=1) instead.  To get a de-fragmented frame, use `newframe = frame.copy()`\n",
            "  df[x] = v\n"
          ]
        },
        {
          "output_type": "stream",
          "name": "stdout",
          "text": [
            "0        0.0\n",
            "1        0.0\n",
            "2        0.0\n",
            "3        0.0\n",
            "4        0.0\n",
            "        ... \n",
            "13767    1.0\n",
            "13768    0.0\n",
            "13769    0.0\n",
            "13770    0.0\n",
            "13771    0.0\n",
            "Length: 13772, dtype: float64\n",
            "0        0.0\n",
            "1        0.0\n",
            "2        0.0\n",
            "3        0.0\n",
            "4        0.0\n",
            "        ... \n",
            "13767    0.0\n",
            "13768    0.0\n",
            "13769    0.0\n",
            "13770    1.0\n",
            "13771    0.0\n",
            "Length: 13772, dtype: float64\n"
          ]
        }
      ]
    },
    {
      "cell_type": "code",
      "source": [
        "import pandas as pd\n",
        "import numpy as np\n",
        "import os\n",
        "\n",
        "def preprocess(\n",
        "        dietary_url='https://wwwn.cdc.gov/Nchs/Nhanes/2017-2018/P_DSQTOT.XPT',\n",
        "        nutrition_url='https://wwwn.cdc.gov/Nchs/Nhanes/2017-2018/P_DR1TOT.XPT',\n",
        "        dental_url='https://wwwn.cdc.gov/Nchs/Nhanes/2017-2018/P_OHXDEN.XPT'):\n",
        "    '''\n",
        "    @description: \n",
        "        Pre-process the Dietary Supplement, Nutrient Intakes, and Dental Health data\n",
        "    @param: \n",
        "        URLs of the three data\n",
        "    @return: \n",
        "        Pre-processed Pandas DataFrame\n",
        "    '''\n",
        "    # please be patient for data download\n",
        "    dietary_path = './dataset/P_DR1TOT.XPT'\n",
        "    nutrition_path = './dataset/P_DSQTOT.XPT'\n",
        "    dental_path = './dataset/P_OHXDEN.XPT'\n",
        "\n",
        "    df_dietary = pd.read_sas(\n",
        "        dietary_path if os.path.exists(dietary_path) else dietary_url)\n",
        "    df_nutrition = pd.read_sas(nutrition_path if os.path.exists(\n",
        "        nutrition_path) else nutrition_url)\n",
        "    df_dental = preprocess_dental_data()\n",
        "\n",
        "    df_data = pd.merge(df_dietary, df_nutrition, on='SEQN')\n",
        "    df_data = pd.merge(df_data, df_dental, on='SEQN')\n",
        "\n",
        "    # fill the missing precise quantatative or special dietary data with 0\n",
        "    attrs_set_0 = ['DR1SKY']\n",
        "    for attr in df_data.columns:\n",
        "        if attr.startswith('DSQ') or attr.startswith('DRQS') or attr.startswith('DRD'):\n",
        "            attrs_set_0.append(attr)\n",
        "    df_data[attrs_set_0] = df_data[attrs_set_0].fillna(0)\n",
        "\n",
        "    # drop Coronal Caries and Sealants attributes from dental data\n",
        "    # attrs_keep = []\n",
        "    # for attr in df_data.columns:\n",
        "    #     if not (attr.startswith('OHX') and (attr.endswith('CTC') or attr.endswith('CSC')\n",
        "    #             or attr.endswith('RTC') or attr.endswith('RSC') or attr.endswith('SE'))):\n",
        "    #         attrs_keep.append(attr)\n",
        "    # df_data = df_data[attrs_keep]\n",
        "\n",
        "    # fill missing \"dental implant or not?\" with \"no\"\n",
        "    # df_data.loc[:, 'OHXIMP'].fillna(2, inplace=True)\n",
        "    # fill missing \"how often add salt?\" with \"don't know\"\n",
        "    df_data.loc[:, 'DBD100'].fillna(9, inplace=True)\n",
        "\n",
        "    # fill missing \"Root Caries, Non-carious Lesion, Root Caries Restoration, Non-carious Lesion Restoration\" with \"not detected\"\n",
        "    # df_data.update(\n",
        "    #     df_data[['OHXRCAR', 'OHXRCARO', 'OHXRRES', 'OHXRRESO']].fillna(0))\n",
        "\n",
        "    # Change 'Refused'/'Don't know'/'Incomplete' to either appropriate value or NaN\n",
        "    df_data.loc[df_data['WTDRD1PP'] == 0, 'WTDRD1PP'] = np.NaN      # incomplete -> NaN\n",
        "    df_data.loc[df_data['WTDR2DPP'] == 0, 'WTDR2DPP'] = np.NaN      # incomplete -> NaN\n",
        "    df_data.loc[df_data['DR1DRSTZ'] == 5, 'DR1DRSTZ'] = 1           # incomplete -> meet minimum criteria\n",
        "    df_data.loc[df_data['DR1MRESP'] >= 77, 'DR1MRESP'] = np.NaN     # Refused/dont know -> NaN\n",
        "    df_data.loc[df_data['DR1HELP'] >= 77, 'DR1HELP'] = np.NaN       # Refused/dont know -> NaN\n",
        "    df_data.loc[df_data['DBQ095Z'] == 99, 'DBQ095Z'] = np.NaN       # Refused/dont know -> NaN\n",
        "    df_data.loc[df_data['DBD100'] >= 7, 'DBD100'] = np.NaN          # Refused/dont know -> NaN\n",
        "    df_data.loc[(df_data['DRQSPREP'] == 9) | (df_data['DRQSPREP'] == 0), 'DRQSPREP'] = np.NaN   # Refused/dont know -> NaN\n",
        "    df_data.loc[df_data['DR1STY'] == 9, 'DR1STY'] = 2               # Refused/dont know -> 2\n",
        "    df_data.loc[(df_data['DRQSDIET'] == 9) | (df_data['DRQSDIET'] == 0), 'DRQSDIET'] = 2        # Refused/dont know -> 2\n",
        "    df_data.loc[df_data['DR1_300'] >= 7, 'DR1_300'] = 2             # Refused/dont know -> 2\n",
        "    df_data.loc[df_data['DR1TWSZ'] == 99, 'DR1TWSZ'] = np.NaN       # Refused/dont know -> NaN\n",
        "\n",
        "    df_data.loc[df_data['DSDCOUNT'] >= 77, 'DSDCOUNT'] = 0          # Refused/dont know -> 0\n",
        "    df_data.loc[df_data['DSDANCNT'] >= 77, 'DSDANCNT'] = 0          # Refused/dont know -> 0\n",
        "    df_data.loc[df_data['DSD010'] >= 7, 'DSD010'] = 2               # Refused/dont know -> 2\n",
        "    df_data.loc[df_data['DSD010AN'] >= 7, 'DSD010AN'] = 2           # Refused/dont know -> 2\n",
        "\n",
        "    # Change categorical data to categorical columns\n",
        "    cat_attrs = [\n",
        "        'DR1DRSTZ', 'DRABF', 'DRDINT', 'DR1DAY', 'DR1LANG', 'DR1MRESP', 'DR1HELP', 'DBQ095Z',\n",
        "        'DBD100', 'DRQSPREP', 'DR1STY', 'DR1SKY', 'DRQSDIET', 'DR1_300', 'DR1TWSZ',\n",
        "        \"DSD010\", \"DSD010AN\" # Dietary supplements\n",
        "    ]\n",
        "\n",
        "    # fill missing values\n",
        "    df_data[cat_attrs] = df_data[cat_attrs].fillna(df_data[cat_attrs].mode().iloc[0])\n",
        "    df_data.fillna(df_data.mean(), inplace = True)\n",
        "    df_data = df_data.dropna()\n",
        "\n",
        "    for attr in df_data.columns:\n",
        "        if attr.startswith('DRQSDT'):\n",
        "            cat_attrs.append(attr)\n",
        "    for attr in cat_attrs:\n",
        "        df_data[attr] = pd.Categorical(df_data[attr])\n",
        "\n",
        "    return df_data,df_dental\n",
        "\n",
        "\n",
        "\n",
        "if __name__ == '__main__':\n",
        "    df_data,df_dental = preprocess()\n",
        "    print(df_dental)"
      ],
      "metadata": {
        "colab": {
          "base_uri": "https://localhost:8080/"
        },
        "id": "m_Qf0rn5K4-D",
        "outputId": "0cdf27d3-61cc-4d53-d37e-f035cf90eddc"
      },
      "execution_count": 94,
      "outputs": [
        {
          "output_type": "stream",
          "name": "stdout",
          "text": [
            "           SEQN  ANTERIOR_TOOTH_COUNT  POSTERIOR_TOOTH_COUNT  \\\n",
            "0      109263.0                  12.0                    8.0   \n",
            "1      109264.0                  12.0                   16.0   \n",
            "2      109265.0                  12.0                    6.0   \n",
            "3      109266.0                  12.0                   20.0   \n",
            "4      109269.0                  12.0                    8.0   \n",
            "...         ...                   ...                    ...   \n",
            "13767  124818.0                  12.0                   11.0   \n",
            "13768  124819.0                  12.0                    8.0   \n",
            "13769  124820.0                  12.0                   10.0   \n",
            "13770  124821.0                  12.0                   12.0   \n",
            "13771  124822.0                   0.0                    0.0   \n",
            "\n",
            "       ANTERIOR_CARIES_COUNT  POSTERIOR_CARIES_COUNT  \\\n",
            "0                        0.0                     0.0   \n",
            "1                        0.0                     0.0   \n",
            "2                        0.0                     0.0   \n",
            "3                        0.0                     8.0   \n",
            "4                        0.0                     0.0   \n",
            "...                      ...                     ...   \n",
            "13767                    4.0                    17.0   \n",
            "13768                    0.0                     0.0   \n",
            "13769                    0.0                     0.0   \n",
            "13770                    0.0                    25.0   \n",
            "13771                    0.0                     0.0   \n",
            "\n",
            "       ANTERIOR_DENTAL_SEALANT_COUNT  POSTERIOR_DENTAL_SEALANT_COUNT  \\\n",
            "0                                0.0                             0.0   \n",
            "1                                0.0                             0.0   \n",
            "2                                0.0                             0.0   \n",
            "3                                0.0                             0.0   \n",
            "4                                0.0                             0.0   \n",
            "...                              ...                             ...   \n",
            "13767                            0.0                             0.0   \n",
            "13768                            0.0                             0.0   \n",
            "13769                            0.0                             0.0   \n",
            "13770                            0.0                             0.0   \n",
            "13771                            0.0                             0.0   \n",
            "\n",
            "       ROOT_CARIES  OTHER_NON_CARIOUS_ROOT_LESION  \n",
            "0              0.0                            0.0  \n",
            "1              0.0                            0.0  \n",
            "2              0.0                            0.0  \n",
            "3              0.0                            0.0  \n",
            "4              0.0                            0.0  \n",
            "...            ...                            ...  \n",
            "13767          1.0                            0.0  \n",
            "13768          0.0                            0.0  \n",
            "13769          0.0                            0.0  \n",
            "13770          0.0                            1.0  \n",
            "13771          0.0                            0.0  \n",
            "\n",
            "[13772 rows x 9 columns]\n"
          ]
        }
      ]
    },
    {
      "cell_type": "code",
      "source": [
        "#picking teh columns after data processing\n",
        "nutritions = []\n",
        "df_nutritions = pd.concat([df_data.loc[:,\"SEQN\"], df_data.loc[:,\"DSQTIODI\":\"DRD370V\"]], axis = 1)\n",
        "df_nutritions.info()"
      ],
      "metadata": {
        "colab": {
          "base_uri": "https://localhost:8080/"
        },
        "id": "UEQwdYRKK5BG",
        "outputId": "fb48fa4a-4483-4448-f026-8fa016d9c7e8"
      },
      "execution_count": 3,
      "outputs": [
        {
          "output_type": "stream",
          "name": "stdout",
          "text": [
            "<class 'pandas.core.frame.DataFrame'>\n",
            "Int64Index: 13772 entries, 0 to 13771\n",
            "Columns: 169 entries, SEQN to DRD370V\n",
            "dtypes: category(28), float64(141)\n",
            "memory usage: 15.3 MB\n"
          ]
        }
      ]
    },
    {
      "cell_type": "code",
      "source": [
        "#caries to the sugars\n",
        "import matplotlib.pyplot as plt\n",
        "import seaborn as sns\n",
        "\n",
        "print(df_dental.columns)\n",
        "df_corr = df_data[['SEQN', 'POSTERIOR_TOOTH_COUNT', 'POSTERIOR_CARIES_COUNT',\n",
        "       'ROOT_CARIES','DR1TSUGR']].corr()\n",
        "ax = sns.heatmap(df_corr, annot=True, fmt=\".3f\")\n"
      ],
      "metadata": {
        "colab": {
          "base_uri": "https://localhost:8080/",
          "height": 486
        },
        "id": "RLC66jcJiJqM",
        "outputId": "1465855d-fe58-4b2e-a05e-db3c6ca48d05"
      },
      "execution_count": 134,
      "outputs": [
        {
          "output_type": "stream",
          "name": "stdout",
          "text": [
            "Index(['SEQN', 'ANTERIOR_TOOTH_COUNT', 'POSTERIOR_TOOTH_COUNT',\n",
            "       'ANTERIOR_CARIES_COUNT', 'POSTERIOR_CARIES_COUNT',\n",
            "       'ANTERIOR_DENTAL_SEALANT_COUNT', 'POSTERIOR_DENTAL_SEALANT_COUNT',\n",
            "       'ROOT_CARIES', 'OTHER_NON_CARIOUS_ROOT_LESION'],\n",
            "      dtype='object')\n"
          ]
        },
        {
          "output_type": "display_data",
          "data": {
            "text/plain": [
              "<Figure size 432x288 with 2 Axes>"
            ],
            "image/png": "[encoded data removed]"
          },
          "metadata": {
            "needs_background": "light"
          }
        }
      ]
    },
    {
      "cell_type": "code",
      "source": [
        "#caries to the sugars\n",
        "import matplotlib.pyplot as plt\n",
        "import seaborn as sns\n",
        "\n",
        "print(df_dental.columns)\n",
        "corr= df_data[['DR1TSUGR', 'POSTERIOR_TOOTH_COUNT', 'POSTERIOR_CARIES_COUNT',\n",
        "       'ROOT_CARIES']].corr()\n",
        "\n",
        "\n",
        "# corr = np.corrcoef(np.random.randn(10, 200))\n",
        "mask = np.zeros_like(corr)\n",
        "mask[np.triu_indices_from(mask)] = True\n",
        "with sns.axes_style(\"white\"):\n",
        "    ax = sns.heatmap(corr,mask=mask,annot=True, fmt=\".03f\",vmax=.3, square=True,  cmap=\"YlGnBu\")\n",
        "    plt.show()"
      ],
      "metadata": {
        "colab": {
          "base_uri": "https://localhost:8080/",
          "height": 486
        },
        "id": "memQQCQDWsrV",
        "outputId": "37c93c91-20cc-4d36-dcfc-7e776746dfb1"
      },
      "execution_count": 141,
      "outputs": [
        {
          "output_type": "stream",
          "name": "stdout",
          "text": [
            "Index(['SEQN', 'ANTERIOR_TOOTH_COUNT', 'POSTERIOR_TOOTH_COUNT',\n",
            "       'ANTERIOR_CARIES_COUNT', 'POSTERIOR_CARIES_COUNT',\n",
            "       'ANTERIOR_DENTAL_SEALANT_COUNT', 'POSTERIOR_DENTAL_SEALANT_COUNT',\n",
            "       'ROOT_CARIES', 'OTHER_NON_CARIOUS_ROOT_LESION'],\n",
            "      dtype='object')\n"
          ]
        },
        {
          "output_type": "display_data",
          "data": {
            "text/plain": [
              "<Figure size 432x288 with 2 Axes>"
            ],
            "image/png": "[encoded data removed]"
          },
          "metadata": {}
        }
      ]
    },
    {
      "cell_type": "code",
      "source": [
        "df_corr = df_main.corr()\n",
        "plt.imshow(df_corr, cmap='hot', interpolation='nearest')\n",
        "plt.show()\n",
        "# df_corr.style.highlight_max(color='yellow').highlight_min(color='blue')\n",
        "ax = sns.heatmap(df_corr, annot=True, fmt=\".1f\")\n",
        "# ax.set(xlabel=df_continuous_limited_variables_labels, ylabel=df_continuous_limited_variables_labels)\n",
        "\n",
        "\n"
      ],
      "metadata": {
        "colab": {
          "base_uri": "https://localhost:8080/",
          "height": 562
        },
        "id": "y2HRy6ZTOXV9",
        "outputId": "593111b8-07e4-4b9f-985b-62e2c1d2c500"
      },
      "execution_count": null,
      "outputs": [
        {
          "output_type": "display_data",
          "data": {
            "text/plain": [
              "<Figure size 432x288 with 1 Axes>"
            ],
            "image/png": "[encoded data removed]"
          },
          "metadata": {
            "needs_background": "light"
          }
        },
        {
          "output_type": "display_data",
          "data": {
            "text/plain": [
              "<Figure size 432x288 with 2 Axes>"
            ],
            "image/png": "[encoded data removed]"
          },
          "metadata": {
            "needs_background": "light"
          }
        }
      ]
    },
    {
      "cell_type": "code",
      "source": [
        "print(df_nutritions)"
      ],
      "metadata": {
        "colab": {
          "base_uri": "https://localhost:8080/"
        },
        "id": "4czNXryovtIw",
        "outputId": "922d7fd4-0588-468b-fe85-da942f5cacd5"
      },
      "execution_count": 7,
      "outputs": [
        {
          "output_type": "stream",
          "name": "stdout",
          "text": [
            "           SEQN  DSQTIODI      WTDRD1PP      WTDR2DPP DR1DRSTZ  DR1EXMER  \\\n",
            "0      109263.0      21.0  7.619484e+03  1.780807e+04      1.0      14.0   \n",
            "1      109264.0       0.0  8.235896e+03  7.253762e+03      1.0      81.0   \n",
            "2      109265.0       0.0  3.353508e+04  3.561201e+04      1.0      88.0   \n",
            "3      109266.0       0.0  6.831068e+03  5.988204e+03      1.0      81.0   \n",
            "4      109269.0       0.0  7.875707e+03  1.823193e+04      1.0      88.0   \n",
            "...         ...       ...           ...           ...      ...       ...   \n",
            "13767  124818.0     250.0  1.546208e+04  1.243740e+04      1.0      49.0   \n",
            "13768  124819.0       0.0  4.091615e+03  4.100758e+03      1.0      14.0   \n",
            "13769  124820.0       0.0  3.435783e+04  3.505186e+04      1.0      86.0   \n",
            "13770  124821.0      40.0  3.043724e+03  5.397605e-79      1.0      81.0   \n",
            "13771  124822.0      50.0  5.397605e-79  2.626910e+04      2.0      14.0   \n",
            "\n",
            "      DRABF DRDINT       DR1DBIH DR1DAY  ... DRD370QQ DRD370R DRD370RQ  \\\n",
            "0       2.0    2.0  4.000000e+00    6.0  ...      0.0     0.0      0.0   \n",
            "1       2.0    2.0  5.000000e+00    6.0  ...      0.0     0.0      0.0   \n",
            "2       2.0    2.0  1.900000e+01    4.0  ...      0.0     0.0      0.0   \n",
            "3       2.0    2.0  4.000000e+00    7.0  ...      0.0     0.0      0.0   \n",
            "4       2.0    2.0  9.000000e+00    1.0  ...      0.0     0.0      0.0   \n",
            "...     ...    ...           ...    ...  ...      ...     ...      ...   \n",
            "13767   2.0    2.0  6.000000e+00    7.0  ...      0.0     2.0      0.0   \n",
            "13768   2.0    2.0  2.200000e+01    4.0  ...      0.0     0.0      0.0   \n",
            "13769   2.0    2.0  1.800000e+01    4.0  ...      0.0     0.0      0.0   \n",
            "13770   2.0    1.0  5.397605e-79    7.0  ...      0.0     2.0      0.0   \n",
            "13771   2.0    0.0  1.209536e+01    7.0  ...      0.0     0.0      0.0   \n",
            "\n",
            "      DRD370S DRD370SQ DRD370T DRD370TQ DRD370U DRD370UQ DRD370V  \n",
            "0         0.0      0.0     0.0      0.0     0.0      0.0     0.0  \n",
            "1         0.0      0.0     0.0      0.0     0.0      0.0     0.0  \n",
            "2         0.0      0.0     0.0      0.0     0.0      0.0     0.0  \n",
            "3         0.0      0.0     0.0      0.0     0.0      0.0     0.0  \n",
            "4         0.0      0.0     0.0      0.0     0.0      0.0     0.0  \n",
            "...       ...      ...     ...      ...     ...      ...     ...  \n",
            "13767     2.0      0.0     2.0      0.0     2.0      0.0     2.0  \n",
            "13768     0.0      0.0     0.0      0.0     0.0      0.0     0.0  \n",
            "13769     0.0      0.0     0.0      0.0     0.0      0.0     0.0  \n",
            "13770     2.0      0.0     2.0      0.0     2.0      0.0     2.0  \n",
            "13771     0.0      0.0     0.0      0.0     0.0      0.0     0.0  \n",
            "\n",
            "[13772 rows x 169 columns]\n"
          ]
        }
      ]
    },
    {
      "cell_type": "code",
      "source": [
        "[a1,b1,c1,a2,b2,c2,c3,a3,a4,b3,a5,a6,a7,b4,b5,b6,b7,c4,c5,c6,c7,d1,d2,d3,d4,d5,d6,d7] = [0,0,0,0,0,0,0,0,0,0,0,0,0,0,0,0,0,0,0,0,0,0,0,0,0,0,0,0]\n",
        "for index,d in df_nutritions.iterrows():\n",
        "  if(d[\"DR1DAY\"]==1):\n",
        "    a1= a1+d[\"DR1TCAFF\"]\n",
        "    b1= b1+d[\"DR1TPROT\"]\n",
        "    c1= c1+d[\"DR1TALCO\"]\n",
        "    d1= d1+d[\"DR1TALCO\"]\n",
        "  elif(d[\"DR1DAY\"]==2):\n",
        "    a2= a2+d[\"DR1TCAFF\"]\n",
        "    b2= b2+d[\"DR1TPROT\"]\n",
        "    c2= c2+d[\"DR1TALCO\"]\n",
        "    d2= d2+d[\"DR1TALCO\"]\n",
        "  elif(d[\"DR1DAY\"]==3):\n",
        "    a3= a3+d[\"DR1TCAFF\"]\n",
        "    b3= b3+d[\"DR1TPROT\"]\n",
        "    c3= c3+d[\"DR1TALCO\"]\n",
        "    d3= c3+d[\"DR1TALCO\"]\n",
        "  elif(d[\"DR1DAY\"]==4):\n",
        "    a4= a4+d[\"DR1TCAFF\"]\n",
        "    b4= b4+d[\"DR1TPROT\"]\n",
        "    c4= c4+d[\"DR1TALCO\"]\n",
        "    d4= c4+d[\"DR1TALCO\"]\n",
        "  elif(d[\"DR1DAY\"]==5):\n",
        "    a5= a5+d[\"DR1TCAFF\"]\n",
        "    b5= b5+d[\"DR1TPROT\"]\n",
        "    c5= c5+d[\"DR1TALCO\"]\n",
        "    d5= d5+d[\"DR1TALCO\"]\n",
        "  elif(d[\"DR1DAY\"]==6):\n",
        "    a6= a6+d[\"DR1TCAFF\"]\n",
        "    b6= b6+d[\"DR1TPROT\"]\n",
        "    c6= c6+d[\"DR1TALCO\"]\n",
        "    d6= d6+d[\"DR1TALCO\"]\n",
        "\n",
        "  elif(d[\"DR1DAY\"]==7):\n",
        "    a7= a7+d[\"DR1TCAFF\"]\n",
        "    b7= b7+d[\"DR1TPROT\"]\n",
        "    c7= c7+d[\"DR1TALCO\"]\n",
        "    d7= d7+d[\"DR1TALCO\"]\n",
        "Y_carb = [a1/len(df_nutritions),a2/len(df_nutritions),a3/len(df_nutritions),a4/len(df_nutritions),a4/len(df_nutritions),a6/len(df_nutritions),a7/len(df_nutritions)]\n",
        "Y_protein = [b1/len(df_nutritions),b2/len(df_nutritions),b3/len(df_nutritions),b4/len(df_nutritions),b5/len(df_nutritions),b6/len(df_nutritions),b7/len(df_nutritions)]\n",
        "Y_alcohol = [c1/len(df_nutritions),c2/len(df_nutritions),c3/len(df_nutritions),c4/len(df_nutritions),c5/len(df_nutritions),c6/len(df_nutritions),c7/len(df_nutritions)]\n",
        "Y_caffeine = [d1/len(df_nutritions),d2/len(df_nutritions),d3/len(df_nutritions),d4/len(df_nutritions),d5/len(df_nutritions),d6/len(df_nutritions),d7/len(df_nutritions)]"
      ],
      "metadata": {
        "id": "v8lHBgqsuVgo"
      },
      "execution_count": 79,
      "outputs": []
    },
    {
      "cell_type": "code",
      "source": [
        "print(Y_carb)\n",
        "print(Y_protein)\n",
        "print(Y_alcohol)\n",
        "import numpy as np \n",
        "import matplotlib.pyplot as plt \n",
        "  \n",
        "X = [\"Sunday\", \"Monday\", \"Tuesday\", \"Wednesday\", \"Thursday\", \"Friday\", \"Saturday\"]\n",
        "  \n",
        "X_axis = np.arange(len(X))\n",
        "\n",
        "plt.bar(X_axis - 0.1, Y_carb, 0.1, label = 'Carbs')\n",
        "plt.bar(X_axis - 0.2, Y_protein, 0.1, label = 'Proteins')\n",
        "plt.bar(X_axis , Y_alcohol, 0.1, label = 'Alcohol')\n",
        "plt.bar(X_axis+0.1 , Y_caffeine, 0.2, label = 'Caffeine')\n",
        "  \n",
        "plt.xticks(X_axis, X,rotation=45)\n",
        "plt.xlabel(\" Intake day of the week\")\n",
        "plt.ylabel(\"Quantity (gms)\")\n",
        "plt.title(\"Consumption to the intake day of the week\")\n",
        "plt.legend()\n",
        "plt.show()"
      ],
      "metadata": {
        "colab": {
          "base_uri": "https://localhost:8080/",
          "height": 387
        },
        "id": "7i9t6mgbw8t4",
        "outputId": "216de80a-369e-419e-b247-c203fdbcb0cf"
      },
      "execution_count": 83,
      "outputs": [
        {
          "output_type": "stream",
          "name": "stdout",
          "text": [
            "[14.754630284310155, 6.737270461715189, 9.056247154677825, 7.465557820685614, 7.465557820685614, 32.622757234497, 18.068247221668305]\n",
            "[11.257501640677713, 5.135291064029845, 5.301374709029621, 5.390948338170747, 6.226412754261769, 24.91607576784682, 15.400416257484114]\n",
            "[1.0721866774444557, 0.3266340700418921, 0.47784665068144533, 0.3719470115379686, 0.5914103785762993, 1.98911633565805, 1.5210285920959354]\n"
          ]
        },
        {
          "output_type": "display_data",
          "data": {
            "text/plain": [
              "<Figure size 432x288 with 1 Axes>"
            ],
            "image/png": "[encoded data removed]"
          },
          "metadata": {
            "needs_background": "light"
          }
        }
      ]
    },
    {
      "cell_type": "code",
      "source": [
        "[a1,b1,c1,a2,b2,c2,c3,a3,a4,b3,a5,a6,a7,b4,b5,b6,b7,c4,c5,c6,c7] = [0,0,0,0,0,0,0,0,0,0,0,0,0,0,0,0,0,0,0,0,0]\n",
        "for index,d in df_nutritions.iterrows():\n",
        "  if(d[\"DR1DAY\"]==1):\n",
        "    a1= a1+d[\"DR1TCAFF\"]\n",
        "    b1= b1+d[\"DR1TSUGR\"]\n",
        "    c1= c1+d[\"DR1TALCO\"]\n",
        "  elif(d[\"DR1DAY\"]==2):\n",
        "    a2= a2+d[\"DR1TCAFF\"]\n",
        "    b2= b2+d[\"DR1TSUGR\"]\n",
        "    c2= c2+d[\"DR1TALCO\"]\n",
        "  elif(d[\"DR1DAY\"]==3):\n",
        "    a3= a3+d[\"DR1TCAFF\"]\n",
        "    b3= b3+d[\"DR1TSUGR\"]\n",
        "    c3= c3+d[\"DR1TALCO\"]\n",
        "  elif(d[\"DR1DAY\"]==4):\n",
        "    a4= a4+d[\"DR1TCAFF\"]\n",
        "    b4= b4+d[\"DR1TSUGR\"]\n",
        "    c4= c4+d[\"DR1TALCO\"]\n",
        "  elif(d[\"DR1DAY\"]==5):\n",
        "    a5= a5+d[\"DR1TCAFF\"]\n",
        "    b5= b5+d[\"DR1TSUGR\"]\n",
        "    c5= c5+d[\"DR1TALCO\"]\n",
        "  elif(d[\"DR1DAY\"]==6):\n",
        "    a6= a6+d[\"DR1TCAFF\"]\n",
        "    b6= b6+d[\"DR1TSUGR\"]\n",
        "    c6= c6+d[\"DR1TALCO\"]\n",
        "\n",
        "  elif(d[\"DR1DAY\"]==7):\n",
        "    a7= a7+d[\"DR1TCAFF\"]\n",
        "    b7= b7+d[\"DR1TSUGR\"]\n",
        "    c7= c7+d[\"DR1TALCO\"]\n",
        "Y_carb = [a1/len(df_nutritions),a2/len(df_nutritions),a3/len(df_nutritions),a4/len(df_nutritions),a4/len(df_nutritions),a6/len(df_nutritions),a7/len(df_nutritions)]\n",
        "Y_sugar = [b1/len(df_nutritions),b2/len(df_nutritions),b3/len(df_nutritions),b4/len(df_nutritions),b5/len(df_nutritions),b6/len(df_nutritions),b7/len(df_nutritions)]\n",
        "Y_alcohol = [c1/len(df_nutritions),c2/len(df_nutritions),c3/len(df_nutritions),c4/len(df_nutritions),c5/len(df_nutritions),c6/len(df_nutritions),c7/len(df_nutritions)]\n",
        "print(Y_carb)\n",
        "print(Y_sugar)\n",
        "print(Y_sugar)\n",
        "import numpy as np \n",
        "import matplotlib.pyplot as plt \n",
        "  \n",
        "X = [\"Sunday\", \"Monday\", \"Tuesday\", \"Wednesday\", \"Thursday\", \"Friday\", \"Saturday\"]\n",
        "  \n",
        "X_axis = np.arange(len(X))\n",
        "\n",
        "plt.bar(X_axis - 0.1, Y_carb, 0.1, label = 'Carbs')\n",
        "plt.bar(X_axis - 0.2, Y_sugar, 0.1, label = 'Sugars')\n",
        "plt.bar(X_axis , Y_alcohol, 0.1, label = 'Alcohol')\n",
        "  \n",
        "plt.xticks(X_axis, X,rotation=45)\n",
        "plt.xlabel(\" Intake day of the week\")\n",
        "plt.ylabel(\"Quantity (gms)\")\n",
        "plt.title(\"Consumption to the intake day of the week\")\n",
        "plt.legend()\n",
        "plt.show()"
      ],
      "metadata": {
        "colab": {
          "base_uri": "https://localhost:8080/",
          "height": 387
        },
        "id": "4zEDRYy87Atz",
        "outputId": "0610b51c-2824-4e90-b356-26dd5b0f665a"
      },
      "execution_count": 62,
      "outputs": [
        {
          "output_type": "stream",
          "name": "stdout",
          "text": [
            "[14.754630284310155, 6.737270461715189, 9.056247154677825, 7.465557820685614, 7.465557820685614, 32.622757234497, 18.068247221668305]\n",
            "[16.57362560945168, 7.396015351556855, 7.6674286794817235, 7.91413669748269, 8.610609361458309, 36.33070135440773, 21.870306855425163]\n",
            "[16.57362560945168, 7.396015351556855, 7.6674286794817235, 7.91413669748269, 8.610609361458309, 36.33070135440773, 21.870306855425163]\n"
          ]
        },
        {
          "output_type": "display_data",
          "data": {
            "text/plain": [
              "<Figure size 432x288 with 1 Axes>"
            ],
            "image/png": "[encoded data removed]"
          },
          "metadata": {
            "needs_background": "light"
          }
        }
      ]
    },
    {
      "cell_type": "code",
      "source": [
        "import matplotlib.pyplot as plt\n",
        "df_nutritions = df_nutritions[:100]\n",
        "df_nutritions1 = df_nutritions.set_index(\"DR1DAY\")\n",
        "print(df_nutritions[\"DR1DAY\"]) #DR1DAY - Intake day of the week\n",
        "inputs = ['DR1TALCO','DR1TCAFF','DR1TSUGR']\n",
        "x= df_nutritions1[inputs]\n",
        "y = df_nutritions[\"DR1DAY\"]\n",
        "plotdata = pd.DataFrame(x)\n",
        "# Plot a bar chart\n",
        "plotdata.plot(kind=\"bar\")"
      ],
      "metadata": {
        "colab": {
          "base_uri": "https://localhost:8080/",
          "height": 591
        },
        "id": "CRUC6J1oG3r_",
        "outputId": "d40c5b7b-0431-48d1-f254-bd930eec27bb"
      },
      "execution_count": 85,
      "outputs": [
        {
          "output_type": "stream",
          "name": "stderr",
          "text": [
            "/usr/local/lib/python3.7/dist-packages/pandas/io/formats/format.py:1429: FutureWarning: Index.ravel returning ndarray is deprecated; in a future version this will return a view on self.\n",
            "  for val, m in zip(values.ravel(), mask.ravel())\n"
          ]
        },
        {
          "output_type": "stream",
          "name": "stdout",
          "text": [
            "0     6.0\n",
            "1     6.0\n",
            "2     4.0\n",
            "3     7.0\n",
            "4     1.0\n",
            "     ... \n",
            "95    6.0\n",
            "96    7.0\n",
            "97    5.0\n",
            "98    7.0\n",
            "99    1.0\n",
            "Name: DR1DAY, Length: 100, dtype: category\n",
            "Categories (7, float64): [1.0, 2.0, 3.0, 4.0, 5.0, 6.0, 7.0]\n"
          ]
        },
        {
          "output_type": "execute_result",
          "data": {
            "text/plain": [
              "<matplotlib.axes._subplots.AxesSubplot at 0x7ff6c0f79350>"
            ]
          },
          "metadata": {},
          "execution_count": 85
        },
        {
          "output_type": "display_data",
          "data": {
            "text/plain": [
              "<Figure size 432x288 with 1 Axes>"
            ],
            "image/png": "[encoded data removed]"
          },
          "metadata": {
            "needs_background": "light"
          }
        }
      ]
    },
    {
      "cell_type": "code",
      "source": [
        "# spliiting teh columns names to categorical variables and continuous variables\n",
        "binary_df_columns = []\n",
        "teritionary_df_columns = []\n",
        "constant_df_columns = []\n",
        "continuous_variables=[]\n",
        "all_categorical_columns =[]\n",
        "\n",
        "for h in df_nutritions.columns:\n",
        "  d = set(df_nutritions[h])\n",
        "  if(len(d)==2):\n",
        "    all_categorical_columns.append(h)\n",
        "    binary_df_columns.append(h)\n",
        "  elif(len(d)<=5 and len(d)>2):\n",
        "    all_categorical_columns.append(h)\n",
        "    teritionary_df_columns.append(h)\n",
        "  elif(len(d)==1):\n",
        "    constant_df_columns.append(h)\n",
        "  else:\n",
        "    continuous_variables.append(h)"
      ],
      "metadata": {
        "id": "_1VTepYeK5D6"
      },
      "execution_count": 86,
      "outputs": []
    },
    {
      "cell_type": "code",
      "source": [
        "#getting teh highly correlated values\n",
        "df_nutritions\n",
        "df_corr = df_nutritions[continuous_variables].corr()\n",
        "np.fill_diagonal(df_corr.values, 0)\n",
        "df_corr.style.highlight_max(color='yellow').highlight_min(color='blue')\n",
        "sorted_mat = df_corr.unstack().sort_values()\n",
        "sorted_mat.iloc[3::30]\n",
        "# print(\"DZ\")\n",
        "# print(sorted_mat[30:-1])\n",
        "# print(len(sorted_mat))"
      ],
      "metadata": {
        "colab": {
          "base_uri": "https://localhost:8080/"
        },
        "id": "Fs7GnncCRTsY",
        "outputId": "a821f615-dbc6-474f-89fa-af372d69ce70"
      },
      "execution_count": 87,
      "outputs": [
        {
          "output_type": "execute_result",
          "data": {
            "text/plain": [
              "DR1TS080  DR1EXMER   -0.204270\n",
              "DR1TVD    DR1_320Z   -0.149418\n",
              "DRD370MQ  DR1TRET    -0.131565\n",
              "DRD370BQ  DR1BWATZ   -0.122806\n",
              "DR1TB12A  DR1TCHOL   -0.117068\n",
              "                        ...   \n",
              "DR1TM161  DR1TTFAT    0.814980\n",
              "DR1TPROT  DR1TZINC    0.836286\n",
              "DR1TFA    DR1TFOLA    0.855528\n",
              "DR1TTFAT  DR1TS180    0.889466\n",
              "DR1TS180  DR1TSFAT    0.945425\n",
              "Length: 203, dtype: float64"
            ]
          },
          "metadata": {},
          "execution_count": 87
        }
      ]
    },
    {
      "cell_type": "code",
      "source": [
        "#Continuous variables analysis\n",
        "df_continuous_variables_all = df_nutritions[continuous_variables]\n",
        "df_continuous_variables_labels = [\"Folate\", \"Sodium\", \"Total monounsaturated fatty acids\", \"Vitamin A, RAE\", \"Phosphorus\", \"Alcohol\", \"Energy (kcal)\"]\n",
        "df_continuous_variables = [\"DR1TFDFE\", \"DR1TSODI\", \"DR1TMFAT\", \"DR1TVARA\", \"DR1TPHOS\" ,\"DR1TALCO\",\"DR1TKCAL\"]\n",
        "df_continuous_variables_labels_gms = [\"Carbohydrate\", \"Total sugars\", \"Dietary fiber\", \"Moisture\",\"Magnesium\", \"Caffeine\", \"Alcohol\"]\n",
        "df_continuous_variables_gms = [\"DR1TCARB\", \"DR1TSUGR\", \"DR1TFIBE\", \"DR1TMOIS\", \"DR1TMAGN\",\"DR1TCAFF\",\"DR1TALCO\",\"DR1TSODI\"]\n",
        "df_continuous_variables = df_nutritions[df_continuous_variables]\n",
        "df_continuous_variables_gm1 = df_nutritions[df_continuous_variables_gms[:2]]\n",
        "df_continuous_variables_gm1 =df_continuous_variables_gm1 \n",
        "df_continuous_variables_gm2 = df_nutritions[df_continuous_variables_gms[2:]]\n",
        "df_continuous_variables_gm2 =df_continuous_variables_gm2*0.001\n",
        "df_continuous_variables_gm = [df_continuous_variables_gm1,df_continuous_variables_gm2]\n",
        "result = pd.concat(df_continuous_variables_gm, axis=1)\n",
        "\n",
        "sd= [\"DR1TKCAL\",\"DR1TPROT\",\"DR1TCARB\"]\n",
        "df_nutritions[sd].corr()\n",
        "\n"
      ],
      "metadata": {
        "id": "mzxkYi6hK5Gt",
        "colab": {
          "base_uri": "https://localhost:8080/",
          "height": 143
        },
        "outputId": "ca4f51b0-51d2-401e-9cb7-0e89e8482ea7"
      },
      "execution_count": 89,
      "outputs": [
        {
          "output_type": "execute_result",
          "data": {
            "text/plain": [
              "          DR1TKCAL  DR1TPROT  DR1TCARB\n",
              "DR1TKCAL  1.000000  0.876614  0.842072\n",
              "DR1TPROT  0.876614  1.000000  0.569256\n",
              "DR1TCARB  0.842072  0.569256  1.000000"
            ],
            "text/html": [
              "\n",
              "  <div id=\"df-5662418e-ed85-4323-a781-e1224d6624a9\">\n",
              "    <div class=\"colab-df-container\">\n",
              "      <div>\n",
              "<style scoped>\n",
              "    .dataframe tbody tr th:only-of-type {\n",
              "        vertical-align: middle;\n",
              "    }\n",
              "\n",
              "    .dataframe tbody tr th {\n",
              "        vertical-align: top;\n",
              "    }\n",
              "\n",
              "    .dataframe thead th {\n",
              "        text-align: right;\n",
              "    }\n",
              "</style>\n",
              "<table border=\"1\" class=\"dataframe\">\n",
              "  <thead>\n",
              "    <tr style=\"text-align: right;\">\n",
              "      <th></th>\n",
              "      <th>DR1TKCAL</th>\n",
              "      <th>DR1TPROT</th>\n",
              "      <th>DR1TCARB</th>\n",
              "    </tr>\n",
              "  </thead>\n",
              "  <tbody>\n",
              "    <tr>\n",
              "      <th>DR1TKCAL</th>\n",
              "      <td>1.000000</td>\n",
              "      <td>0.876614</td>\n",
              "      <td>0.842072</td>\n",
              "    </tr>\n",
              "    <tr>\n",
              "      <th>DR1TPROT</th>\n",
              "      <td>0.876614</td>\n",
              "      <td>1.000000</td>\n",
              "      <td>0.569256</td>\n",
              "    </tr>\n",
              "    <tr>\n",
              "      <th>DR1TCARB</th>\n",
              "      <td>0.842072</td>\n",
              "      <td>0.569256</td>\n",
              "      <td>1.000000</td>\n",
              "    </tr>\n",
              "  </tbody>\n",
              "</table>\n",
              "</div>\n",
              "      <button class=\"colab-df-convert\" onclick=\"convertToInteractive('df-5662418e-ed85-4323-a781-e1224d6624a9')\"\n",
              "              title=\"Convert this dataframe to an interactive table.\"\n",
              "              style=\"display:none;\">\n",
              "        \n",
              "  <svg xmlns=\"http://www.w3.org/2000/svg\" height=\"24px\"viewBox=\"0 0 24 24\"\n",
              "       width=\"24px\">\n",
              "    <path d=\"M0 0h24v24H0V0z\" fill=\"none\"/>\n",
              "    <path d=\"M18.56 5.44l.94 2.06.94-2.06 2.06-.94-2.06-.94-.94-2.06-.94 2.06-2.06.94zm-11 1L8.5 8.5l.94-2.06 2.06-.94-2.06-.94L8.5 2.5l-.94 2.06-2.06.94zm10 10l.94 2.06.94-2.06 2.06-.94-2.06-.94-.94-2.06-.94 2.06-2.06.94z\"/><path d=\"M17.41 7.96l-1.37-1.37c-.4-.4-.92-.59-1.43-.59-.52 0-1.04.2-1.43.59L10.3 9.45l-7.72 7.72c-.78.78-.78 2.05 0 2.83L4 21.41c.39.39.9.59 1.41.59.51 0 1.02-.2 1.41-.59l7.78-7.78 2.81-2.81c.8-.78.8-2.07 0-2.86zM5.41 20L4 18.59l7.72-7.72 1.47 1.35L5.41 20z\"/>\n",
              "  </svg>\n",
              "      </button>\n",
              "      \n",
              "  <style>\n",
              "    .colab-df-container {\n",
              "      display:flex;\n",
              "      flex-wrap:wrap;\n",
              "      gap: 12px;\n",
              "    }\n",
              "\n",
              "    .colab-df-convert {\n",
              "      background-color: #E8F0FE;\n",
              "      border: none;\n",
              "      border-radius: 50%;\n",
              "      cursor: pointer;\n",
              "      display: none;\n",
              "      fill: #1967D2;\n",
              "      height: 32px;\n",
              "      padding: 0 0 0 0;\n",
              "      width: 32px;\n",
              "    }\n",
              "\n",
              "    .colab-df-convert:hover {\n",
              "      background-color: #E2EBFA;\n",
              "      box-shadow: 0px 1px 2px rgba(60, 64, 67, 0.3), 0px 1px 3px 1px rgba(60, 64, 67, 0.15);\n",
              "      fill: #174EA6;\n",
              "    }\n",
              "\n",
              "    [theme=dark] .colab-df-convert {\n",
              "      background-color: #3B4455;\n",
              "      fill: #D2E3FC;\n",
              "    }\n",
              "\n",
              "    [theme=dark] .colab-df-convert:hover {\n",
              "      background-color: #434B5C;\n",
              "      box-shadow: 0px 1px 3px 1px rgba(0, 0, 0, 0.15);\n",
              "      filter: drop-shadow(0px 1px 2px rgba(0, 0, 0, 0.3));\n",
              "      fill: #FFFFFF;\n",
              "    }\n",
              "  </style>\n",
              "\n",
              "      <script>\n",
              "        const buttonEl =\n",
              "          document.querySelector('#df-5662418e-ed85-4323-a781-e1224d6624a9 button.colab-df-convert');\n",
              "        buttonEl.style.display =\n",
              "          google.colab.kernel.accessAllowed ? 'block' : 'none';\n",
              "\n",
              "        async function convertToInteractive(key) {\n",
              "          const element = document.querySelector('#df-5662418e-ed85-4323-a781-e1224d6624a9');\n",
              "          const dataTable =\n",
              "            await google.colab.kernel.invokeFunction('convertToInteractive',\n",
              "                                                     [key], {});\n",
              "          if (!dataTable) return;\n",
              "\n",
              "          const docLinkHtml = 'Like what you see? Visit the ' +\n",
              "            '<a target=\"_blank\" href=https://colab.research.google.com/notebooks/data_table.ipynb>data table notebook</a>'\n",
              "            + ' to learn more about interactive tables.';\n",
              "          element.innerHTML = '';\n",
              "          dataTable['output_type'] = 'display_data';\n",
              "          await google.colab.output.renderOutput(dataTable, element);\n",
              "          const docLink = document.createElement('div');\n",
              "          docLink.innerHTML = docLinkHtml;\n",
              "          element.appendChild(docLink);\n",
              "        }\n",
              "      </script>\n",
              "    </div>\n",
              "  </div>\n",
              "  "
            ]
          },
          "metadata": {},
          "execution_count": 89
        }
      ]
    },
    {
      "cell_type": "code",
      "source": [
        "print(result)\n",
        "result.rename(columns = {'DR1TFIBE' : 'Dietary fiber', 'DR1TCARB' : 'Carbohydrate',\"DR1TMAGN\":\" Magnesium\", \"DR1TCAFF\":\"Caffeine\",\"DR1TALCO\":\"Alcohol\",\"DR1TSUGR\":\"Added Sugars\"}, inplace = True)\n",
        "print(result.columns)\n",
        "a= ['Added Sugars', 'Dietary fiber','Carbohydrate', 'Caffeine', 'Alcohol']\n",
        "from google.colab import files\n",
        "result[a].to_csv('filename.csv') \n",
        "files.download('filename.csv')"
      ],
      "metadata": {
        "colab": {
          "base_uri": "https://localhost:8080/",
          "height": 553
        },
        "id": "ec2jME5T7Zt-",
        "outputId": "b17c4557-6e8c-46b8-a195-29006eabf2a2"
      },
      "execution_count": null,
      "outputs": [
        {
          "output_type": "stream",
          "name": "stdout",
          "text": [
            "       Carbohydrate  Added Sugars  Dietary fiber  DR1TMOIS   Magnesium  \\\n",
            "0        187.650000     73.420000       0.009400  1.068500    0.175000   \n",
            "1        121.680000     27.860000       0.008200  2.097290    0.167000   \n",
            "2        246.530000    157.080000       0.007600  1.529720    0.200000   \n",
            "3        217.690000     94.200000       0.020700  3.758320    0.300000   \n",
            "4        159.990000     84.830000       0.005100  0.788860    0.085000   \n",
            "...             ...           ...            ...       ...         ...   \n",
            "13767    512.140000    278.840000       0.015000  2.800710    0.186000   \n",
            "13768    197.260000    108.360000       0.008300  1.229350    0.201000   \n",
            "13769    157.810000     65.770000       0.012300  0.702790    0.161000   \n",
            "13770    110.590000     50.570000       0.006700  2.779430    0.236000   \n",
            "13771    242.503484    106.362824       0.015196  2.439592    0.267535   \n",
            "\n",
            "           Caffeine       Alcohol  DR1TSODI  \n",
            "0      2.000000e-03  5.397605e-82   2.45600  \n",
            "1      1.000000e-03  5.397605e-82   1.70300  \n",
            "2      7.000000e-03  5.397605e-82   2.22100  \n",
            "3      1.200000e-02  5.397605e-82   2.00100  \n",
            "4      5.397605e-82  5.397605e-82   2.16200  \n",
            "...             ...           ...       ...  \n",
            "13767  2.420000e-01  5.397605e-82   7.74200  \n",
            "13768  2.400000e-02  5.397605e-82   2.87000  \n",
            "13769  1.300000e-02  5.397605e-82   2.34400  \n",
            "13770  5.397605e-82  5.397605e-82   4.71800  \n",
            "13771  9.802649e-02  6.350170e-03   3.22141  \n",
            "\n",
            "[13772 rows x 8 columns]\n",
            "Index(['Carbohydrate', 'Added Sugars', 'Dietary fiber', 'DR1TMOIS',\n",
            "       ' Magnesium', 'Caffeine', 'Alcohol', 'DR1TSODI'],\n",
            "      dtype='object')\n"
          ]
        },
        {
          "output_type": "display_data",
          "data": {
            "text/plain": [
              "<IPython.core.display.Javascript object>"
            ],
            "application/javascript": [
              "\n",
              "    async function download(id, filename, size) {\n",
              "      if (!google.colab.kernel.accessAllowed) {\n",
              "        return;\n",
              "      }\n",
              "      const div = document.createElement('div');\n",
              "      const label = document.createElement('label');\n",
              "      label.textContent = `Downloading \"${filename}\": `;\n",
              "      div.appendChild(label);\n",
              "      const progress = document.createElement('progress');\n",
              "      progress.max = size;\n",
              "      div.appendChild(progress);\n",
              "      document.body.appendChild(div);\n",
              "\n",
              "      const buffers = [];\n",
              "      let downloaded = 0;\n",
              "\n",
              "      const channel = await google.colab.kernel.comms.open(id);\n",
              "      // Send a message to notify the kernel that we're ready.\n",
              "      channel.send({})\n",
              "\n",
              "      for await (const message of channel.messages) {\n",
              "        // Send a message to notify the kernel that we're ready.\n",
              "        channel.send({})\n",
              "        if (message.buffers) {\n",
              "          for (const buffer of message.buffers) {\n",
              "            buffers.push(buffer);\n",
              "            downloaded += buffer.byteLength;\n",
              "            progress.value = downloaded;\n",
              "          }\n",
              "        }\n",
              "      }\n",
              "      const blob = new Blob(buffers, {type: 'application/binary'});\n",
              "      const a = document.createElement('a');\n",
              "      a.href = window.URL.createObjectURL(blob);\n",
              "      a.download = filename;\n",
              "      div.appendChild(a);\n",
              "      a.click();\n",
              "      div.remove();\n",
              "    }\n",
              "  "
            ]
          },
          "metadata": {}
        },
        {
          "output_type": "display_data",
          "data": {
            "text/plain": [
              "<IPython.core.display.Javascript object>"
            ],
            "application/javascript": [
              "download(\"download_59c61231-9cab-40e7-85ce-06e687acdf78\", \"filename.csv\", 1074488)"
            ]
          },
          "metadata": {}
        }
      ]
    },
    {
      "cell_type": "code",
      "source": [
        "import matplotlib.pyplot as plot\n",
        "sns.set_style(\"whitegrid\")\n",
        "  \n",
        "sns.boxplot( data = result[:2],'cyan')\n",
        "ax.set_yticklabels(df_continuous_variables_labels_gms[:2])\n",
        " \n",
        "# Adding title\n",
        "plt.title(\"Nutritional attributes box plot\")\n",
        "\n",
        "# b_plot = result.boxplot(column = df_continuous_variables_gms) \n",
        "# b_plot.plot()\n",
        "plot.show()"
      ],
      "metadata": {
        "colab": {
          "base_uri": "https://localhost:8080/",
          "height": 133
        },
        "id": "AI8zkD4fUb6K",
        "outputId": "0747c9e2-9355-45b2-c996-2687780bc49b"
      },
      "execution_count": null,
      "outputs": [
        {
          "output_type": "error",
          "ename": "SyntaxError",
          "evalue": "ignored",
          "traceback": [
            "\u001b[0;36m  File \u001b[0;32m\"<ipython-input-105-beb319aede67>\"\u001b[0;36m, line \u001b[0;32m4\u001b[0m\n\u001b[0;31m    sns.boxplot( data = result[:2],'cyan')\u001b[0m\n\u001b[0m                                  ^\u001b[0m\n\u001b[0;31mSyntaxError\u001b[0m\u001b[0;31m:\u001b[0m positional argument follows keyword argument\n"
          ]
        }
      ]
    },
    {
      "cell_type": "code",
      "source": [
        "import matplotlib.pyplot as plt\n",
        "\n",
        "def box_plot(data, edge_color, fill_color):\n",
        "    bp = ax.boxplot(data, patch_artist=True)\n",
        "    \n",
        "    for element in ['boxes', 'whiskers', 'fliers', 'means', 'medians', 'caps']:\n",
        "        plt.setp(bp[element], color=edge_color)\n",
        "\n",
        "    for patch in bp['boxes']:\n",
        "        patch.set(facecolor=fill_color)       \n",
        "        \n",
        "    return bp\n",
        "\n",
        "\n",
        "fig, ax = plt.subplots()\n",
        "bp1 = box_plot(result[:300], 'red', 'tan')\n",
        "# bp2 = box_plot(example_data2, 'blue', 'cyan')\n",
        "# ax.legend([bp1[\"boxes\"][0]], ['Data 2'])\n",
        "# ax.set_ylim(0, 10)\n",
        "plt.show()\n"
      ],
      "metadata": {
        "colab": {
          "base_uri": "https://localhost:8080/",
          "height": 265
        },
        "id": "x9qaSXaZcuo2",
        "outputId": "fef4f657-799f-4ed3-8962-3ca4f4c52b79"
      },
      "execution_count": null,
      "outputs": [
        {
          "output_type": "display_data",
          "data": {
            "text/plain": [
              "<Figure size 432x288 with 1 Axes>"
            ],
            "image/png": "[encoded data removed]"
          },
          "metadata": {}
        }
      ]
    },
    {
      "cell_type": "code",
      "source": [
        "print(df_continuous_variables_labels_gms[:3])"
      ],
      "metadata": {
        "colab": {
          "base_uri": "https://localhost:8080/"
        },
        "id": "NCDlgyKYiOIL",
        "outputId": "f2324d50-477e-46d2-a3f8-7b86d491b0db"
      },
      "execution_count": null,
      "outputs": [
        {
          "output_type": "stream",
          "name": "stdout",
          "text": [
            "['Carbohydrate', 'Total sugars', 'Dietary fiber']\n"
          ]
        }
      ]
    },
    {
      "cell_type": "code",
      "source": [
        "print(result)"
      ],
      "metadata": {
        "colab": {
          "base_uri": "https://localhost:8080/"
        },
        "id": "mPhTNQhrsPG7",
        "outputId": "8a4f43f6-ffd5-4ae4-d94e-c4942e8c49d2"
      },
      "execution_count": null,
      "outputs": [
        {
          "output_type": "stream",
          "name": "stdout",
          "text": [
            "     Carbohydrate  Total sugars   Dietary fiber  Moisture   Magnesium  \\\n",
            "0      187.650000     73.420000        0.009400  1.068500    0.175000   \n",
            "1      121.680000     27.860000        0.008200  2.097290    0.167000   \n",
            "2      246.530000    157.080000        0.007600  1.529720    0.200000   \n",
            "3      217.690000     94.200000        0.020700  3.758320    0.300000   \n",
            "4      159.990000     84.830000        0.005100  0.788860    0.085000   \n",
            "..            ...           ...             ...       ...         ...   \n",
            "295    329.290000    123.660000        0.024700  7.213810    0.352000   \n",
            "296    258.790000    110.670000        0.017600  5.951040    0.404000   \n",
            "297    242.503484    106.362824        0.015196  2.439592    0.267535   \n",
            "298    120.200000     34.970000        0.012900  2.653300    0.169000   \n",
            "299    230.600000    127.270000        0.015600  2.942240    0.333000   \n",
            "\n",
            "         Caffeine       Alcohol   Sodium  \n",
            "0    2.000000e-03  5.397605e-82  2.45600  \n",
            "1    1.000000e-03  5.397605e-82  1.70300  \n",
            "2    7.000000e-03  5.397605e-82  2.22100  \n",
            "3    1.200000e-02  5.397605e-82  2.00100  \n",
            "4    5.397605e-82  5.397605e-82  2.16200  \n",
            "..            ...           ...      ...  \n",
            "295  1.470000e-01  5.397605e-82  3.88900  \n",
            "296  5.100000e-02  5.397605e-82  4.26800  \n",
            "297  9.802649e-02  6.350170e-03  3.22141  \n",
            "298  5.397605e-82  5.397605e-82  2.71500  \n",
            "299  6.000000e-02  8.200000e-03  3.63100  \n",
            "\n",
            "[300 rows x 8 columns]\n"
          ]
        }
      ]
    },
    {
      "cell_type": "code",
      "source": [
        "#plotting second outlierrs plot\n",
        "import matplotlib.pyplot as plot\n",
        "sns.set_style(\"whitegrid\")\n",
        "df_continuous_variables_labels_gms = [\"Carbohydrate\", \"Total sugars\", \"Dietary fiber\", \"Moisture\",\"Magnesium\", \"Caffeine\", \"Alcohol\",\"Sodium\"]\n",
        "df_continuous_variables_gms = [\"DR1TCARB\", \"DR1TSUGR\", \"DR1TFIBE\", \"DR1TMOIS\", \"DR1TMAGN\",\"DR1TCAFF\",\"DR1TALCO\",\"DR1TSODI\"]\n",
        "# a = [\"Carbohydrate\", \"DR1TSUGR\"]\n",
        "\n",
        "result.rename(columns = {'DR1TFIBE' : 'Dietary fiber', 'DR1TMOIS' : 'Moisture',\"DR1TMAGN\":\" Magnesium\", \"DR1TCAFF\":\"Caffeine\",\"DR1TALCO\":\"Alcohol\",\"DR1TSODI\":\"Sodium\"}, inplace = True)\n",
        "# result.columns = result.columns.str.replace(df_continuous_variables_labels_gms)\n",
        "result = result[:300]\n",
        "print(result.columns)\n",
        "a= [' Dietary fiber', 'Moisture',' Magnesium', 'Caffeine', 'Alcohol', 'Sodium']\n",
        "ax = sns.boxplot( data = result[a])\n",
        "ax.set(xlabel=\"\", ylabel=\"\")\n",
        "ax.xaxis.tick_top()\n",
        "# ax.set_yticklabels(df_continuous_variables_labels_gms[:3])\n",
        "# ax.set(xlabel='df_continuous_variables_labels_gms', ylabel='Amount (gms)')\n",
        "# plt.xlabel(df_continuous_variables_labels_gms)\n",
        "plt.ylabel(\"Amount (gms)\")\n",
        "# # Adding title\n",
        "# plt.title(\"Nutritional attributes box plot\")\n",
        "\n",
        "# b_plot = result.boxplot(column = df_continuous_variables_gms) \n",
        "# b_plot.plot()\n",
        "plot.show()"
      ],
      "metadata": {
        "colab": {
          "base_uri": "https://localhost:8080/",
          "height": 319
        },
        "id": "iGpTMWW-wo-E",
        "outputId": "206f6d4c-6098-46ee-90e3-f57134d60f41"
      },
      "execution_count": null,
      "outputs": [
        {
          "output_type": "stream",
          "name": "stdout",
          "text": [
            "Index(['Carbohydrate', 'Total sugars', ' Dietary fiber', 'Moisture',\n",
            "       ' Magnesium', 'Caffeine', 'Alcohol', 'Sodium'],\n",
            "      dtype='object')\n"
          ]
        },
        {
          "output_type": "display_data",
          "data": {
            "text/plain": [
              "<Figure size 432x288 with 1 Axes>"
            ],
            "image/png": "[encoded data removed]"
          },
          "metadata": {}
        }
      ]
    },
    {
      "cell_type": "code",
      "source": [
        "import matplotlib.pyplot as plot\n",
        "sns.set_style(\"whitegrid\")\n",
        "df_continuous_variables_labels_gms = [\"Carbohydrate\", \"Total sugars\", \"Dietary fiber\", \"Moisture\",\"Magnesium\", \"Caffeine\", \"Alcohol\",\"Sodium\"]\n",
        "df_continuous_variables_gms = [\"DR1TCARB\", \"DR1TSUGR\", \"DR1TFIBE\", \"DR1TMOIS\", \"DR1TMAGN\",\"DR1TCAFF\",\"DR1TALCO\",\"DR1TSODI\"]\n",
        "# a = [\"Carbohydrate\", \"DR1TSUGR\"]\n",
        "\n",
        "result.rename(columns = {'cc' : 'Carbohydrate', 'DR1TSUGR' : 'Total sugars',\"DR1TFIBE\":\" Dietary fiber\"}, inplace = True)\n",
        "# result.columns = result.columns.str.replace(df_continuous_variables_labels_gms)\n",
        "result = result[:300]\n",
        "print(result.columns)\n",
        "a= ['Carbohydrate', 'Total sugars']\n",
        "ax = sns.boxplot( data = result[a])\n",
        "ax.set(xlabel=\"\", ylabel=\"\")\n",
        "ax.xaxis.tick_top()\n",
        "# ax.set_yticklabels(df_continuous_variables_labels_gms[:3])\n",
        "# ax.set(xlabel='df_continuous_variables_labels_gms', ylabel='Amount (gms)')\n",
        "# plt.xlabel(df_continuous_variables_labels_gms)\n",
        "plt.ylabel(\"Amount (gms)\")\n",
        "# # Adding title\n",
        "# plt.title(\"Nutritional attributes box plot\")\n",
        "\n",
        "# b_plot = result.boxplot(column = df_continuous_variables_gms) \n",
        "# b_plot.plot()\n",
        "plot.show()"
      ],
      "metadata": {
        "colab": {
          "base_uri": "https://localhost:8080/",
          "height": 319
        },
        "id": "71kAw_MdhZCn",
        "outputId": "e1c7652e-ace9-4236-e0f6-8f550c56c86f"
      },
      "execution_count": null,
      "outputs": [
        {
          "output_type": "display_data",
          "data": {
            "text/plain": [
              "<IPython.core.display.Javascript object>"
            ],
            "application/javascript": [
              "\n",
              "    async function download(id, filename, size) {\n",
              "      if (!google.colab.kernel.accessAllowed) {\n",
              "        return;\n",
              "      }\n",
              "      const div = document.createElement('div');\n",
              "      const label = document.createElement('label');\n",
              "      label.textContent = `Downloading \"${filename}\": `;\n",
              "      div.appendChild(label);\n",
              "      const progress = document.createElement('progress');\n",
              "      progress.max = size;\n",
              "      div.appendChild(progress);\n",
              "      document.body.appendChild(div);\n",
              "\n",
              "      const buffers = [];\n",
              "      let downloaded = 0;\n",
              "\n",
              "      const channel = await google.colab.kernel.comms.open(id);\n",
              "      // Send a message to notify the kernel that we're ready.\n",
              "      channel.send({})\n",
              "\n",
              "      for await (const message of channel.messages) {\n",
              "        // Send a message to notify the kernel that we're ready.\n",
              "        channel.send({})\n",
              "        if (message.buffers) {\n",
              "          for (const buffer of message.buffers) {\n",
              "            buffers.push(buffer);\n",
              "            downloaded += buffer.byteLength;\n",
              "            progress.value = downloaded;\n",
              "          }\n",
              "        }\n",
              "      }\n",
              "      const blob = new Blob(buffers, {type: 'application/binary'});\n",
              "      const a = document.createElement('a');\n",
              "      a.href = window.URL.createObjectURL(blob);\n",
              "      a.download = filename;\n",
              "      div.appendChild(a);\n",
              "      a.click();\n",
              "      div.remove();\n",
              "    }\n",
              "  "
            ]
          },
          "metadata": {}
        },
        {
          "output_type": "display_data",
          "data": {
            "text/plain": [
              "<IPython.core.display.Javascript object>"
            ],
            "application/javascript": [
              "download(\"download_ea11a5b6-ede2-4101-bd43-34045558c1cc\", \"filename.csv\", 33111)"
            ]
          },
          "metadata": {}
        },
        {
          "output_type": "stream",
          "name": "stdout",
          "text": [
            "Index(['Carbohydrate', 'Total sugars', ' Dietary fiber', 'Moisture',\n",
            "       ' Magnesium', 'Caffeine', 'Alcohol', 'Sodium'],\n",
            "      dtype='object')\n"
          ]
        },
        {
          "output_type": "display_data",
          "data": {
            "text/plain": [
              "<Figure size 432x288 with 1 Axes>"
            ],
            "image/png": "[encoded data removed]"
          },
          "metadata": {}
        }
      ]
    },
    {
      "cell_type": "code",
      "source": [
        "print"
      ],
      "metadata": {
        "id": "V7Q4jfjfsiTB"
      },
      "execution_count": null,
      "outputs": []
    },
    {
      "cell_type": "code",
      "source": [
        "import matplotlib.pyplot as plot\n",
        "sns.set_style(\"whitegrid\")\n",
        "  \n",
        "sns.boxplot( data = result[:-4])\n",
        "ax.set_yticklabels(df_continuous_variables_labels_gms[2:])\n",
        " \n",
        "# Adding title\n",
        "plt.title(\"Nutritional attributes box plot\")\n",
        "\n",
        "# b_plot = result.boxplot(column = df_continuous_variables_gms) \n",
        "# b_plot.plot()\n",
        "plot.show()"
      ],
      "metadata": {
        "colab": {
          "base_uri": "https://localhost:8080/",
          "height": 281
        },
        "id": "y12Qs4vkZru1",
        "outputId": "684e5667-dde9-4cae-f207-9c26475f58ee"
      },
      "execution_count": null,
      "outputs": [
        {
          "output_type": "display_data",
          "data": {
            "text/plain": [
              "<Figure size 432x288 with 1 Axes>"
            ],
            "image/png": "[encoded data removed]"
          },
          "metadata": {}
        }
      ]
    },
    {
      "cell_type": "code",
      "source": [
        "# Import libraries\n",
        "import matplotlib.pyplot as plt\n",
        "import numpy as np\n",
        "\n",
        "c= [\"DR1TMAGN\",\"DR1TCAFF\" ,\"DR1TALCO\"]\n",
        "# Creating plot\n",
        "plt.boxplot(result[\"DR1TFIBE\"])\n",
        " \n",
        "# show plot\n",
        "plt.show()"
      ],
      "metadata": {
        "colab": {
          "base_uri": "https://localhost:8080/",
          "height": 265
        },
        "id": "TRh_8VeODaoK",
        "outputId": "4838f087-3648-4db8-a4fb-7ba0d1362933"
      },
      "execution_count": null,
      "outputs": [
        {
          "output_type": "display_data",
          "data": {
            "text/plain": [
              "<Figure size 432x288 with 1 Axes>"
            ],
            "image/png": "[encoded data removed]"
          },
          "metadata": {}
        }
      ]
    },
    {
      "cell_type": "code",
      "source": [
        "# Import libraries\n",
        "import matplotlib.pyplot as plt\n",
        "import numpy as np\n",
        "\n",
        "c= [\"DR1TMAGN\",\"DR1TCAFF\" ,\"DR1TALCO\"]\n",
        "# Creating plot\n",
        "plt.boxplot(result[c[0:2]])\n",
        " \n",
        "# show plot\n",
        "plt.show()"
      ],
      "metadata": {
        "id": "d7q36AHX4jvh"
      },
      "execution_count": null,
      "outputs": []
    },
    {
      "cell_type": "code",
      "source": [
        "\n",
        "# Import libraries\n",
        "import matplotlib.pyplot as plt\n",
        "import numpy as np\n",
        " \n",
        " \n",
        "fig = plt.figure(figsize =(10, 7))\n",
        " \n",
        "# Creating axes instance\n",
        "ax = fig.add_axes([0, 0, 1, 1])\n",
        " \n",
        "# Creating plot\n",
        "bp = ax.boxplot(result[:7])\n",
        " \n",
        "# show plot\n",
        "plt.show()"
      ],
      "metadata": {
        "id": "9bNZuzhI3dmy"
      },
      "execution_count": null,
      "outputs": []
    },
    {
      "cell_type": "code",
      "source": [
        "import numpy as np\n",
        "\n",
        "fig = plt.figure(figsize =(10, 7))\n",
        "ax = fig.add_subplot(111)\n",
        " \n",
        "# Creating axes instance\n",
        "bp = ax.boxplot(result[:7], patch_artist = True,\n",
        "                notch ='True', vert = 0)\n",
        " \n",
        "colors = ['#0000FF', '#00FF00',\n",
        "          '#FFFF00', '#FF00FF']\n",
        " \n",
        "for patch, color in zip(bp['boxes'], colors):\n",
        "    patch.set_facecolor(color)\n",
        " \n",
        "# changing color and linewidth of\n",
        "# whiskers\n",
        "for whisker in bp['whiskers']:\n",
        "    whisker.set(color ='#8B008B',\n",
        "                linewidth = 1.5,\n",
        "                linestyle =\":\")\n",
        " \n",
        "# changing color and linewidth of\n",
        "# caps\n",
        "for cap in bp['caps']:\n",
        "    cap.set(color ='#8B008B',\n",
        "            linewidth = 2)\n",
        " \n",
        "# changing color and linewidth of\n",
        "# medians\n",
        "for median in bp['medians']:\n",
        "    median.set(color ='red',\n",
        "               linewidth = 3)\n",
        " \n",
        "# changing style of fliers\n",
        "for flier in bp['fliers']:\n",
        "    flier.set(marker ='D',\n",
        "              color ='#e7298a',\n",
        "              alpha = 0.5)\n",
        "     \n",
        "# x-axis labels\n",
        "ax.set_yticklabels(df_continuous_variables_labels_gms)\n",
        " \n",
        "# Adding title\n",
        "plt.title(\"Nutritional attributes box plot\")\n",
        " \n",
        "# Removing top axes and right axes\n",
        "# ticks\n",
        "ax.get_xaxis().tick_bottom()\n",
        "ax.get_yaxis().tick_left()\n",
        "     \n",
        "# show plot\n",
        "plt.show()"
      ],
      "metadata": {
        "id": "tCTcWD5R4KzC"
      },
      "execution_count": null,
      "outputs": []
    },
    {
      "cell_type": "code",
      "source": [
        "sns.set_style(\"whitegrid\")\n",
        "  \n",
        "sns.boxplot(x = 'day', y = 'total_bill', data = result)"
      ],
      "metadata": {
        "colab": {
          "base_uri": "https://localhost:8080/",
          "height": 204
        },
        "id": "M4xcgbgEA09o",
        "outputId": "5945e0dc-cea3-4ab9-bc29-507c38a6df44"
      },
      "execution_count": null,
      "outputs": [
        {
          "output_type": "error",
          "ename": "NameError",
          "evalue": "ignored",
          "traceback": [
            "\u001b[0;31m---------------------------------------------------------------------------\u001b[0m",
            "\u001b[0;31mNameError\u001b[0m                                 Traceback (most recent call last)",
            "\u001b[0;32m<ipython-input-15-26b74eba9008>\u001b[0m in \u001b[0;36m<module>\u001b[0;34m\u001b[0m\n\u001b[0;32m----> 1\u001b[0;31m \u001b[0msns\u001b[0m\u001b[0;34m.\u001b[0m\u001b[0mset_style\u001b[0m\u001b[0;34m(\u001b[0m\u001b[0;34m\"whitegrid\"\u001b[0m\u001b[0;34m)\u001b[0m\u001b[0;34m\u001b[0m\u001b[0;34m\u001b[0m\u001b[0m\n\u001b[0m\u001b[1;32m      2\u001b[0m \u001b[0;34m\u001b[0m\u001b[0m\n\u001b[1;32m      3\u001b[0m \u001b[0msns\u001b[0m\u001b[0;34m.\u001b[0m\u001b[0mboxplot\u001b[0m\u001b[0;34m(\u001b[0m\u001b[0mx\u001b[0m \u001b[0;34m=\u001b[0m \u001b[0;34m'day'\u001b[0m\u001b[0;34m,\u001b[0m \u001b[0my\u001b[0m \u001b[0;34m=\u001b[0m \u001b[0;34m'total_bill'\u001b[0m\u001b[0;34m,\u001b[0m \u001b[0mdata\u001b[0m \u001b[0;34m=\u001b[0m \u001b[0mresult\u001b[0m\u001b[0;34m)\u001b[0m\u001b[0;34m\u001b[0m\u001b[0;34m\u001b[0m\u001b[0m\n",
            "\u001b[0;31mNameError\u001b[0m: name 'sns' is not defined"
          ]
        }
      ]
    },
    {
      "cell_type": "code",
      "source": [
        "import seaborn as sns\n",
        "sns.set_style('whitegrid')\n",
        "ax= sns.boxplot(x=df_continuous_variables_labels_gms,y='Age',data=result)\n",
        "ax = sns.stripplot(x=\"Survived\", y=\"Age\",data=result)\n"
      ],
      "metadata": {
        "id": "H_icuXDTA05u"
      },
      "execution_count": null,
      "outputs": []
    },
    {
      "cell_type": "code",
      "source": [
        "df_continuous_variables"
      ],
      "metadata": {
        "id": "CwDVCVS7K5Je"
      },
      "execution_count": null,
      "outputs": []
    },
    {
      "cell_type": "code",
      "source": [
        "df_corr = df_continuous_variables.corr()\n",
        "np.fill_diagonal(df_corr.values, 0)\n",
        "df_corr.style.highlight_max(color='yellow').highlight_min(color='blue')"
      ],
      "metadata": {
        "id": "upJJLc1Vy4z5"
      },
      "execution_count": null,
      "outputs": []
    },
    {
      "cell_type": "code",
      "source": [
        "from scipy.stats import chi2_contingency\n",
        "import matplotlib.pyplot as plt\n",
        "import seaborn as sns\n",
        "plt.imshow(df_corr, cmap='hot', interpolation='nearest')\n",
        "# df_corr.style.highlight_max(color='yellow').highlight_min(color='blue')\n",
        "ax = sns.heatmap(df_corr, annot=True, fmt=\".1f\")\n"
      ],
      "metadata": {
        "id": "unn4Vnv1zCxX"
      },
      "execution_count": null,
      "outputs": []
    },
    {
      "cell_type": "code",
      "source": [
        "#getting csv file for grpahs plotting\n",
        "from google.colab import files\n",
        "df_continuous_variables.to_csv('filename.csv') \n",
        "files.download('filename.csv')"
      ],
      "metadata": {
        "id": "soJytPSWVJrW"
      },
      "execution_count": null,
      "outputs": []
    },
    {
      "cell_type": "code",
      "source": [
        "#salmon vs mackeral eaten last 30 days\n",
        "import matplotlib.pyplot as plt\n",
        "  \n",
        "# x axis values\n",
        "x = df_nutritions[\"DRD370MQ\"]\n",
        "# corresponding y axis values\n",
        "y = df_nutritions[\"DRD370HQ\"]\n",
        "\n",
        "plt.plot(x, y)\n",
        "\n",
        "plt.xlabel('# of times salmon eaten past 30 days')\n",
        "# naming the y axis\n",
        "plt.ylabel('# of times mackerel eaten past 30 days')\n",
        "  \n",
        "# giving a title to my graph\n",
        "plt.title('My first graph!')\n",
        "  \n",
        "# function to show the plot\n",
        "plt.show()\n"
      ],
      "metadata": {
        "id": "RPh7Ea1BPjUT"
      },
      "execution_count": null,
      "outputs": []
    },
    {
      "cell_type": "code",
      "source": [],
      "metadata": {
        "id": "QBLp2GMrSnNk"
      },
      "execution_count": null,
      "outputs": []
    }
  ]
}
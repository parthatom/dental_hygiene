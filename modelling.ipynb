{
 "cells": [
  {
   "cell_type": "code",
   "execution_count": 15,
   "metadata": {
    "collapsed": true
   },
   "outputs": [],
   "source": [
    "import numpy as np\n",
    "import pandas as pd\n",
    "import matplotlib as plt\n",
    "from preprocess_dental import preprocess_dental_data"
   ]
  },
  {
   "cell_type": "code",
   "execution_count": 36,
   "outputs": [
    {
     "name": "stderr",
     "output_type": "stream",
     "text": [
      "/Users/kamehameya/UCSD/Courses/ECE 143/dental_hygiene/preprocess_dental.py:28: PerformanceWarning: DataFrame is highly fragmented.  This is usually the result of calling `frame.insert` many times, which has poor performance.  Consider joining all columns at once using pd.concat(axis=1) instead. To get a de-fragmented frame, use `newframe = frame.copy()`\n",
      "  return pd.read_sas(path if os.path.exists(path) else url)\n",
      "/Users/kamehameya/UCSD/Courses/ECE 143/dental_hygiene/preprocess_dental.py:28: PerformanceWarning: DataFrame is highly fragmented.  This is usually the result of calling `frame.insert` many times, which has poor performance.  Consider joining all columns at once using pd.concat(axis=1) instead. To get a de-fragmented frame, use `newframe = frame.copy()`\n",
      "  return pd.read_sas(path if os.path.exists(path) else url)\n",
      "/Users/kamehameya/UCSD/Courses/ECE 143/dental_hygiene/preprocess_dental.py:28: PerformanceWarning: DataFrame is highly fragmented.  This is usually the result of calling `frame.insert` many times, which has poor performance.  Consider joining all columns at once using pd.concat(axis=1) instead. To get a de-fragmented frame, use `newframe = frame.copy()`\n",
      "  return pd.read_sas(path if os.path.exists(path) else url)\n",
      "/Users/kamehameya/UCSD/Courses/ECE 143/dental_hygiene/preprocess_dental.py:28: PerformanceWarning: DataFrame is highly fragmented.  This is usually the result of calling `frame.insert` many times, which has poor performance.  Consider joining all columns at once using pd.concat(axis=1) instead. To get a de-fragmented frame, use `newframe = frame.copy()`\n",
      "  return pd.read_sas(path if os.path.exists(path) else url)\n",
      "/Users/kamehameya/UCSD/Courses/ECE 143/dental_hygiene/preprocess_dental.py:28: PerformanceWarning: DataFrame is highly fragmented.  This is usually the result of calling `frame.insert` many times, which has poor performance.  Consider joining all columns at once using pd.concat(axis=1) instead. To get a de-fragmented frame, use `newframe = frame.copy()`\n",
      "  return pd.read_sas(path if os.path.exists(path) else url)\n",
      "/Users/kamehameya/UCSD/Courses/ECE 143/dental_hygiene/preprocess_dental.py:28: PerformanceWarning: DataFrame is highly fragmented.  This is usually the result of calling `frame.insert` many times, which has poor performance.  Consider joining all columns at once using pd.concat(axis=1) instead. To get a de-fragmented frame, use `newframe = frame.copy()`\n",
      "  return pd.read_sas(path if os.path.exists(path) else url)\n",
      "/Users/kamehameya/UCSD/Courses/ECE 143/dental_hygiene/preprocess_dental.py:28: PerformanceWarning: DataFrame is highly fragmented.  This is usually the result of calling `frame.insert` many times, which has poor performance.  Consider joining all columns at once using pd.concat(axis=1) instead. To get a de-fragmented frame, use `newframe = frame.copy()`\n",
      "  return pd.read_sas(path if os.path.exists(path) else url)\n",
      "/Users/kamehameya/UCSD/Courses/ECE 143/dental_hygiene/preprocess_dental.py:28: PerformanceWarning: DataFrame is highly fragmented.  This is usually the result of calling `frame.insert` many times, which has poor performance.  Consider joining all columns at once using pd.concat(axis=1) instead. To get a de-fragmented frame, use `newframe = frame.copy()`\n",
      "  return pd.read_sas(path if os.path.exists(path) else url)\n",
      "/Users/kamehameya/UCSD/Courses/ECE 143/dental_hygiene/preprocess_dental.py:28: PerformanceWarning: DataFrame is highly fragmented.  This is usually the result of calling `frame.insert` many times, which has poor performance.  Consider joining all columns at once using pd.concat(axis=1) instead. To get a de-fragmented frame, use `newframe = frame.copy()`\n",
      "  return pd.read_sas(path if os.path.exists(path) else url)\n",
      "/Users/kamehameya/UCSD/Courses/ECE 143/dental_hygiene/preprocess_dental.py:28: PerformanceWarning: DataFrame is highly fragmented.  This is usually the result of calling `frame.insert` many times, which has poor performance.  Consider joining all columns at once using pd.concat(axis=1) instead. To get a de-fragmented frame, use `newframe = frame.copy()`\n",
      "  return pd.read_sas(path if os.path.exists(path) else url)\n",
      "/Users/kamehameya/UCSD/Courses/ECE 143/dental_hygiene/preprocess_dental.py:28: PerformanceWarning: DataFrame is highly fragmented.  This is usually the result of calling `frame.insert` many times, which has poor performance.  Consider joining all columns at once using pd.concat(axis=1) instead. To get a de-fragmented frame, use `newframe = frame.copy()`\n",
      "  return pd.read_sas(path if os.path.exists(path) else url)\n",
      "/Users/kamehameya/UCSD/Courses/ECE 143/dental_hygiene/preprocess_dental.py:28: PerformanceWarning: DataFrame is highly fragmented.  This is usually the result of calling `frame.insert` many times, which has poor performance.  Consider joining all columns at once using pd.concat(axis=1) instead. To get a de-fragmented frame, use `newframe = frame.copy()`\n",
      "  return pd.read_sas(path if os.path.exists(path) else url)\n",
      "/Users/kamehameya/UCSD/Courses/ECE 143/dental_hygiene/preprocess_dental.py:28: PerformanceWarning: DataFrame is highly fragmented.  This is usually the result of calling `frame.insert` many times, which has poor performance.  Consider joining all columns at once using pd.concat(axis=1) instead. To get a de-fragmented frame, use `newframe = frame.copy()`\n",
      "  return pd.read_sas(path if os.path.exists(path) else url)\n",
      "/Users/kamehameya/UCSD/Courses/ECE 143/dental_hygiene/preprocess_dental.py:28: PerformanceWarning: DataFrame is highly fragmented.  This is usually the result of calling `frame.insert` many times, which has poor performance.  Consider joining all columns at once using pd.concat(axis=1) instead. To get a de-fragmented frame, use `newframe = frame.copy()`\n",
      "  return pd.read_sas(path if os.path.exists(path) else url)\n",
      "/Users/kamehameya/UCSD/Courses/ECE 143/dental_hygiene/preprocess_dental.py:28: PerformanceWarning: DataFrame is highly fragmented.  This is usually the result of calling `frame.insert` many times, which has poor performance.  Consider joining all columns at once using pd.concat(axis=1) instead. To get a de-fragmented frame, use `newframe = frame.copy()`\n",
      "  return pd.read_sas(path if os.path.exists(path) else url)\n",
      "/Users/kamehameya/UCSD/Courses/ECE 143/dental_hygiene/preprocess_dental.py:28: PerformanceWarning: DataFrame is highly fragmented.  This is usually the result of calling `frame.insert` many times, which has poor performance.  Consider joining all columns at once using pd.concat(axis=1) instead. To get a de-fragmented frame, use `newframe = frame.copy()`\n",
      "  return pd.read_sas(path if os.path.exists(path) else url)\n",
      "/Users/kamehameya/UCSD/Courses/ECE 143/dental_hygiene/preprocess_dental.py:28: PerformanceWarning: DataFrame is highly fragmented.  This is usually the result of calling `frame.insert` many times, which has poor performance.  Consider joining all columns at once using pd.concat(axis=1) instead. To get a de-fragmented frame, use `newframe = frame.copy()`\n",
      "  return pd.read_sas(path if os.path.exists(path) else url)\n",
      "/Users/kamehameya/UCSD/Courses/ECE 143/dental_hygiene/preprocess_dental.py:28: PerformanceWarning: DataFrame is highly fragmented.  This is usually the result of calling `frame.insert` many times, which has poor performance.  Consider joining all columns at once using pd.concat(axis=1) instead. To get a de-fragmented frame, use `newframe = frame.copy()`\n",
      "  return pd.read_sas(path if os.path.exists(path) else url)\n",
      "/Users/kamehameya/UCSD/Courses/ECE 143/dental_hygiene/preprocess_dental.py:28: PerformanceWarning: DataFrame is highly fragmented.  This is usually the result of calling `frame.insert` many times, which has poor performance.  Consider joining all columns at once using pd.concat(axis=1) instead. To get a de-fragmented frame, use `newframe = frame.copy()`\n",
      "  return pd.read_sas(path if os.path.exists(path) else url)\n",
      "/Users/kamehameya/UCSD/Courses/ECE 143/dental_hygiene/preprocess_dental.py:28: PerformanceWarning: DataFrame is highly fragmented.  This is usually the result of calling `frame.insert` many times, which has poor performance.  Consider joining all columns at once using pd.concat(axis=1) instead. To get a de-fragmented frame, use `newframe = frame.copy()`\n",
      "  return pd.read_sas(path if os.path.exists(path) else url)\n",
      "/Users/kamehameya/UCSD/Courses/ECE 143/dental_hygiene/preprocess_dental.py:28: PerformanceWarning: DataFrame is highly fragmented.  This is usually the result of calling `frame.insert` many times, which has poor performance.  Consider joining all columns at once using pd.concat(axis=1) instead. To get a de-fragmented frame, use `newframe = frame.copy()`\n",
      "  return pd.read_sas(path if os.path.exists(path) else url)\n",
      "/Users/kamehameya/UCSD/Courses/ECE 143/dental_hygiene/preprocess_dental.py:28: PerformanceWarning: DataFrame is highly fragmented.  This is usually the result of calling `frame.insert` many times, which has poor performance.  Consider joining all columns at once using pd.concat(axis=1) instead. To get a de-fragmented frame, use `newframe = frame.copy()`\n",
      "  return pd.read_sas(path if os.path.exists(path) else url)\n",
      "/Users/kamehameya/UCSD/Courses/ECE 143/dental_hygiene/preprocess_dental.py:28: PerformanceWarning: DataFrame is highly fragmented.  This is usually the result of calling `frame.insert` many times, which has poor performance.  Consider joining all columns at once using pd.concat(axis=1) instead. To get a de-fragmented frame, use `newframe = frame.copy()`\n",
      "  return pd.read_sas(path if os.path.exists(path) else url)\n",
      "/Users/kamehameya/UCSD/Courses/ECE 143/dental_hygiene/preprocess_dental.py:28: PerformanceWarning: DataFrame is highly fragmented.  This is usually the result of calling `frame.insert` many times, which has poor performance.  Consider joining all columns at once using pd.concat(axis=1) instead. To get a de-fragmented frame, use `newframe = frame.copy()`\n",
      "  return pd.read_sas(path if os.path.exists(path) else url)\n",
      "/Users/kamehameya/UCSD/Courses/ECE 143/dental_hygiene/preprocess_dental.py:28: PerformanceWarning: DataFrame is highly fragmented.  This is usually the result of calling `frame.insert` many times, which has poor performance.  Consider joining all columns at once using pd.concat(axis=1) instead. To get a de-fragmented frame, use `newframe = frame.copy()`\n",
      "  return pd.read_sas(path if os.path.exists(path) else url)\n",
      "/Users/kamehameya/UCSD/Courses/ECE 143/dental_hygiene/preprocess_dental.py:28: PerformanceWarning: DataFrame is highly fragmented.  This is usually the result of calling `frame.insert` many times, which has poor performance.  Consider joining all columns at once using pd.concat(axis=1) instead. To get a de-fragmented frame, use `newframe = frame.copy()`\n",
      "  return pd.read_sas(path if os.path.exists(path) else url)\n",
      "/Users/kamehameya/UCSD/Courses/ECE 143/dental_hygiene/preprocess_dental.py:28: PerformanceWarning: DataFrame is highly fragmented.  This is usually the result of calling `frame.insert` many times, which has poor performance.  Consider joining all columns at once using pd.concat(axis=1) instead. To get a de-fragmented frame, use `newframe = frame.copy()`\n",
      "  return pd.read_sas(path if os.path.exists(path) else url)\n",
      "/Users/kamehameya/UCSD/Courses/ECE 143/dental_hygiene/preprocess_dental.py:28: PerformanceWarning: DataFrame is highly fragmented.  This is usually the result of calling `frame.insert` many times, which has poor performance.  Consider joining all columns at once using pd.concat(axis=1) instead. To get a de-fragmented frame, use `newframe = frame.copy()`\n",
      "  return pd.read_sas(path if os.path.exists(path) else url)\n",
      "/Users/kamehameya/UCSD/Courses/ECE 143/dental_hygiene/preprocess_dental.py:28: PerformanceWarning: DataFrame is highly fragmented.  This is usually the result of calling `frame.insert` many times, which has poor performance.  Consider joining all columns at once using pd.concat(axis=1) instead. To get a de-fragmented frame, use `newframe = frame.copy()`\n",
      "  return pd.read_sas(path if os.path.exists(path) else url)\n",
      "/Users/kamehameya/UCSD/Courses/ECE 143/dental_hygiene/preprocess_dental.py:28: PerformanceWarning: DataFrame is highly fragmented.  This is usually the result of calling `frame.insert` many times, which has poor performance.  Consider joining all columns at once using pd.concat(axis=1) instead. To get a de-fragmented frame, use `newframe = frame.copy()`\n",
      "  return pd.read_sas(path if os.path.exists(path) else url)\n",
      "/Users/kamehameya/UCSD/Courses/ECE 143/dental_hygiene/preprocess_dental.py:28: PerformanceWarning: DataFrame is highly fragmented.  This is usually the result of calling `frame.insert` many times, which has poor performance.  Consider joining all columns at once using pd.concat(axis=1) instead. To get a de-fragmented frame, use `newframe = frame.copy()`\n",
      "  return pd.read_sas(path if os.path.exists(path) else url)\n",
      "/Users/kamehameya/UCSD/Courses/ECE 143/dental_hygiene/preprocess_dental.py:28: PerformanceWarning: DataFrame is highly fragmented.  This is usually the result of calling `frame.insert` many times, which has poor performance.  Consider joining all columns at once using pd.concat(axis=1) instead. To get a de-fragmented frame, use `newframe = frame.copy()`\n",
      "  return pd.read_sas(path if os.path.exists(path) else url)\n",
      "/Users/kamehameya/UCSD/Courses/ECE 143/dental_hygiene/preprocess_dental.py:28: PerformanceWarning: DataFrame is highly fragmented.  This is usually the result of calling `frame.insert` many times, which has poor performance.  Consider joining all columns at once using pd.concat(axis=1) instead. To get a de-fragmented frame, use `newframe = frame.copy()`\n",
      "  return pd.read_sas(path if os.path.exists(path) else url)\n",
      "/Users/kamehameya/UCSD/Courses/ECE 143/dental_hygiene/preprocess_dental.py:28: PerformanceWarning: DataFrame is highly fragmented.  This is usually the result of calling `frame.insert` many times, which has poor performance.  Consider joining all columns at once using pd.concat(axis=1) instead. To get a de-fragmented frame, use `newframe = frame.copy()`\n",
      "  return pd.read_sas(path if os.path.exists(path) else url)\n",
      "/Users/kamehameya/UCSD/Courses/ECE 143/dental_hygiene/preprocess_dental.py:28: PerformanceWarning: DataFrame is highly fragmented.  This is usually the result of calling `frame.insert` many times, which has poor performance.  Consider joining all columns at once using pd.concat(axis=1) instead. To get a de-fragmented frame, use `newframe = frame.copy()`\n",
      "  return pd.read_sas(path if os.path.exists(path) else url)\n",
      "/Users/kamehameya/UCSD/Courses/ECE 143/dental_hygiene/preprocess_dental.py:28: PerformanceWarning: DataFrame is highly fragmented.  This is usually the result of calling `frame.insert` many times, which has poor performance.  Consider joining all columns at once using pd.concat(axis=1) instead. To get a de-fragmented frame, use `newframe = frame.copy()`\n",
      "  return pd.read_sas(path if os.path.exists(path) else url)\n",
      "/Users/kamehameya/UCSD/Courses/ECE 143/dental_hygiene/preprocess_dental.py:28: PerformanceWarning: DataFrame is highly fragmented.  This is usually the result of calling `frame.insert` many times, which has poor performance.  Consider joining all columns at once using pd.concat(axis=1) instead. To get a de-fragmented frame, use `newframe = frame.copy()`\n",
      "  return pd.read_sas(path if os.path.exists(path) else url)\n",
      "/Users/kamehameya/UCSD/Courses/ECE 143/dental_hygiene/preprocess_dental.py:28: PerformanceWarning: DataFrame is highly fragmented.  This is usually the result of calling `frame.insert` many times, which has poor performance.  Consider joining all columns at once using pd.concat(axis=1) instead. To get a de-fragmented frame, use `newframe = frame.copy()`\n",
      "  return pd.read_sas(path if os.path.exists(path) else url)\n",
      "/Users/kamehameya/UCSD/Courses/ECE 143/dental_hygiene/preprocess_dental.py:28: PerformanceWarning: DataFrame is highly fragmented.  This is usually the result of calling `frame.insert` many times, which has poor performance.  Consider joining all columns at once using pd.concat(axis=1) instead. To get a de-fragmented frame, use `newframe = frame.copy()`\n",
      "  return pd.read_sas(path if os.path.exists(path) else url)\n",
      "/Users/kamehameya/UCSD/Courses/ECE 143/dental_hygiene/preprocess_dental.py:28: PerformanceWarning: DataFrame is highly fragmented.  This is usually the result of calling `frame.insert` many times, which has poor performance.  Consider joining all columns at once using pd.concat(axis=1) instead. To get a de-fragmented frame, use `newframe = frame.copy()`\n",
      "  return pd.read_sas(path if os.path.exists(path) else url)\n",
      "/Users/kamehameya/UCSD/Courses/ECE 143/dental_hygiene/preprocess_dental.py:28: PerformanceWarning: DataFrame is highly fragmented.  This is usually the result of calling `frame.insert` many times, which has poor performance.  Consider joining all columns at once using pd.concat(axis=1) instead. To get a de-fragmented frame, use `newframe = frame.copy()`\n",
      "  return pd.read_sas(path if os.path.exists(path) else url)\n",
      "/Users/kamehameya/UCSD/Courses/ECE 143/dental_hygiene/preprocess_dental.py:28: PerformanceWarning: DataFrame is highly fragmented.  This is usually the result of calling `frame.insert` many times, which has poor performance.  Consider joining all columns at once using pd.concat(axis=1) instead. To get a de-fragmented frame, use `newframe = frame.copy()`\n",
      "  return pd.read_sas(path if os.path.exists(path) else url)\n",
      "/Users/kamehameya/UCSD/Courses/ECE 143/dental_hygiene/preprocess_dental.py:28: PerformanceWarning: DataFrame is highly fragmented.  This is usually the result of calling `frame.insert` many times, which has poor performance.  Consider joining all columns at once using pd.concat(axis=1) instead. To get a de-fragmented frame, use `newframe = frame.copy()`\n",
      "  return pd.read_sas(path if os.path.exists(path) else url)\n",
      "/Users/kamehameya/UCSD/Courses/ECE 143/dental_hygiene/preprocess_dental.py:28: PerformanceWarning: DataFrame is highly fragmented.  This is usually the result of calling `frame.insert` many times, which has poor performance.  Consider joining all columns at once using pd.concat(axis=1) instead. To get a de-fragmented frame, use `newframe = frame.copy()`\n",
      "  return pd.read_sas(path if os.path.exists(path) else url)\n",
      "/Users/kamehameya/UCSD/Courses/ECE 143/dental_hygiene/preprocess_dental.py:28: PerformanceWarning: DataFrame is highly fragmented.  This is usually the result of calling `frame.insert` many times, which has poor performance.  Consider joining all columns at once using pd.concat(axis=1) instead. To get a de-fragmented frame, use `newframe = frame.copy()`\n",
      "  return pd.read_sas(path if os.path.exists(path) else url)\n",
      "/Users/kamehameya/UCSD/Courses/ECE 143/dental_hygiene/preprocess_dental.py:28: PerformanceWarning: DataFrame is highly fragmented.  This is usually the result of calling `frame.insert` many times, which has poor performance.  Consider joining all columns at once using pd.concat(axis=1) instead. To get a de-fragmented frame, use `newframe = frame.copy()`\n",
      "  return pd.read_sas(path if os.path.exists(path) else url)\n",
      "/Users/kamehameya/UCSD/Courses/ECE 143/dental_hygiene/preprocess_dental.py:28: PerformanceWarning: DataFrame is highly fragmented.  This is usually the result of calling `frame.insert` many times, which has poor performance.  Consider joining all columns at once using pd.concat(axis=1) instead. To get a de-fragmented frame, use `newframe = frame.copy()`\n",
      "  return pd.read_sas(path if os.path.exists(path) else url)\n",
      "/Users/kamehameya/UCSD/Courses/ECE 143/dental_hygiene/preprocess_dental.py:28: PerformanceWarning: DataFrame is highly fragmented.  This is usually the result of calling `frame.insert` many times, which has poor performance.  Consider joining all columns at once using pd.concat(axis=1) instead. To get a de-fragmented frame, use `newframe = frame.copy()`\n",
      "  return pd.read_sas(path if os.path.exists(path) else url)\n",
      "/Users/kamehameya/UCSD/Courses/ECE 143/dental_hygiene/preprocess_dental.py:28: PerformanceWarning: DataFrame is highly fragmented.  This is usually the result of calling `frame.insert` many times, which has poor performance.  Consider joining all columns at once using pd.concat(axis=1) instead. To get a de-fragmented frame, use `newframe = frame.copy()`\n",
      "  return pd.read_sas(path if os.path.exists(path) else url)\n",
      "/Users/kamehameya/UCSD/Courses/ECE 143/dental_hygiene/preprocess_dental.py:28: PerformanceWarning: DataFrame is highly fragmented.  This is usually the result of calling `frame.insert` many times, which has poor performance.  Consider joining all columns at once using pd.concat(axis=1) instead. To get a de-fragmented frame, use `newframe = frame.copy()`\n",
      "  return pd.read_sas(path if os.path.exists(path) else url)\n",
      "/Users/kamehameya/UCSD/Courses/ECE 143/dental_hygiene/preprocess_dental.py:28: PerformanceWarning: DataFrame is highly fragmented.  This is usually the result of calling `frame.insert` many times, which has poor performance.  Consider joining all columns at once using pd.concat(axis=1) instead. To get a de-fragmented frame, use `newframe = frame.copy()`\n",
      "  return pd.read_sas(path if os.path.exists(path) else url)\n",
      "/Users/kamehameya/UCSD/Courses/ECE 143/dental_hygiene/preprocess_dental.py:28: PerformanceWarning: DataFrame is highly fragmented.  This is usually the result of calling `frame.insert` many times, which has poor performance.  Consider joining all columns at once using pd.concat(axis=1) instead. To get a de-fragmented frame, use `newframe = frame.copy()`\n",
      "  return pd.read_sas(path if os.path.exists(path) else url)\n",
      "/Users/kamehameya/UCSD/Courses/ECE 143/dental_hygiene/preprocess_dental.py:28: PerformanceWarning: DataFrame is highly fragmented.  This is usually the result of calling `frame.insert` many times, which has poor performance.  Consider joining all columns at once using pd.concat(axis=1) instead. To get a de-fragmented frame, use `newframe = frame.copy()`\n",
      "  return pd.read_sas(path if os.path.exists(path) else url)\n",
      "/Users/kamehameya/UCSD/Courses/ECE 143/dental_hygiene/preprocess_dental.py:28: PerformanceWarning: DataFrame is highly fragmented.  This is usually the result of calling `frame.insert` many times, which has poor performance.  Consider joining all columns at once using pd.concat(axis=1) instead. To get a de-fragmented frame, use `newframe = frame.copy()`\n",
      "  return pd.read_sas(path if os.path.exists(path) else url)\n",
      "/Users/kamehameya/UCSD/Courses/ECE 143/dental_hygiene/preprocess_dental.py:28: PerformanceWarning: DataFrame is highly fragmented.  This is usually the result of calling `frame.insert` many times, which has poor performance.  Consider joining all columns at once using pd.concat(axis=1) instead. To get a de-fragmented frame, use `newframe = frame.copy()`\n",
      "  return pd.read_sas(path if os.path.exists(path) else url)\n",
      "/Users/kamehameya/UCSD/Courses/ECE 143/dental_hygiene/preprocess_dental.py:28: PerformanceWarning: DataFrame is highly fragmented.  This is usually the result of calling `frame.insert` many times, which has poor performance.  Consider joining all columns at once using pd.concat(axis=1) instead. To get a de-fragmented frame, use `newframe = frame.copy()`\n",
      "  return pd.read_sas(path if os.path.exists(path) else url)\n",
      "/Users/kamehameya/UCSD/Courses/ECE 143/dental_hygiene/preprocess_dental.py:28: PerformanceWarning: DataFrame is highly fragmented.  This is usually the result of calling `frame.insert` many times, which has poor performance.  Consider joining all columns at once using pd.concat(axis=1) instead. To get a de-fragmented frame, use `newframe = frame.copy()`\n",
      "  return pd.read_sas(path if os.path.exists(path) else url)\n",
      "/Users/kamehameya/UCSD/Courses/ECE 143/dental_hygiene/preprocess_dental.py:28: PerformanceWarning: DataFrame is highly fragmented.  This is usually the result of calling `frame.insert` many times, which has poor performance.  Consider joining all columns at once using pd.concat(axis=1) instead. To get a de-fragmented frame, use `newframe = frame.copy()`\n",
      "  return pd.read_sas(path if os.path.exists(path) else url)\n",
      "/Users/kamehameya/UCSD/Courses/ECE 143/dental_hygiene/preprocess_dental.py:28: PerformanceWarning: DataFrame is highly fragmented.  This is usually the result of calling `frame.insert` many times, which has poor performance.  Consider joining all columns at once using pd.concat(axis=1) instead. To get a de-fragmented frame, use `newframe = frame.copy()`\n",
      "  return pd.read_sas(path if os.path.exists(path) else url)\n",
      "/Users/kamehameya/UCSD/Courses/ECE 143/dental_hygiene/preprocess_dental.py:28: PerformanceWarning: DataFrame is highly fragmented.  This is usually the result of calling `frame.insert` many times, which has poor performance.  Consider joining all columns at once using pd.concat(axis=1) instead. To get a de-fragmented frame, use `newframe = frame.copy()`\n",
      "  return pd.read_sas(path if os.path.exists(path) else url)\n",
      "/Users/kamehameya/UCSD/Courses/ECE 143/dental_hygiene/preprocess_dental.py:28: PerformanceWarning: DataFrame is highly fragmented.  This is usually the result of calling `frame.insert` many times, which has poor performance.  Consider joining all columns at once using pd.concat(axis=1) instead. To get a de-fragmented frame, use `newframe = frame.copy()`\n",
      "  return pd.read_sas(path if os.path.exists(path) else url)\n",
      "/Users/kamehameya/UCSD/Courses/ECE 143/dental_hygiene/preprocess_dental.py:28: PerformanceWarning: DataFrame is highly fragmented.  This is usually the result of calling `frame.insert` many times, which has poor performance.  Consider joining all columns at once using pd.concat(axis=1) instead. To get a de-fragmented frame, use `newframe = frame.copy()`\n",
      "  return pd.read_sas(path if os.path.exists(path) else url)\n",
      "/Users/kamehameya/UCSD/Courses/ECE 143/dental_hygiene/preprocess_dental.py:28: PerformanceWarning: DataFrame is highly fragmented.  This is usually the result of calling `frame.insert` many times, which has poor performance.  Consider joining all columns at once using pd.concat(axis=1) instead. To get a de-fragmented frame, use `newframe = frame.copy()`\n",
      "  return pd.read_sas(path if os.path.exists(path) else url)\n",
      "/Users/kamehameya/UCSD/Courses/ECE 143/dental_hygiene/preprocess_dental.py:28: PerformanceWarning: DataFrame is highly fragmented.  This is usually the result of calling `frame.insert` many times, which has poor performance.  Consider joining all columns at once using pd.concat(axis=1) instead. To get a de-fragmented frame, use `newframe = frame.copy()`\n",
      "  return pd.read_sas(path if os.path.exists(path) else url)\n",
      "/Users/kamehameya/UCSD/Courses/ECE 143/dental_hygiene/preprocess_dental.py:28: PerformanceWarning: DataFrame is highly fragmented.  This is usually the result of calling `frame.insert` many times, which has poor performance.  Consider joining all columns at once using pd.concat(axis=1) instead. To get a de-fragmented frame, use `newframe = frame.copy()`\n",
      "  return pd.read_sas(path if os.path.exists(path) else url)\n",
      "/Users/kamehameya/UCSD/Courses/ECE 143/dental_hygiene/preprocess_dental.py:28: PerformanceWarning: DataFrame is highly fragmented.  This is usually the result of calling `frame.insert` many times, which has poor performance.  Consider joining all columns at once using pd.concat(axis=1) instead. To get a de-fragmented frame, use `newframe = frame.copy()`\n",
      "  return pd.read_sas(path if os.path.exists(path) else url)\n",
      "/Users/kamehameya/UCSD/Courses/ECE 143/dental_hygiene/preprocess_dental.py:28: PerformanceWarning: DataFrame is highly fragmented.  This is usually the result of calling `frame.insert` many times, which has poor performance.  Consider joining all columns at once using pd.concat(axis=1) instead. To get a de-fragmented frame, use `newframe = frame.copy()`\n",
      "  return pd.read_sas(path if os.path.exists(path) else url)\n",
      "/Users/kamehameya/UCSD/Courses/ECE 143/dental_hygiene/preprocess_dental.py:28: PerformanceWarning: DataFrame is highly fragmented.  This is usually the result of calling `frame.insert` many times, which has poor performance.  Consider joining all columns at once using pd.concat(axis=1) instead. To get a de-fragmented frame, use `newframe = frame.copy()`\n",
      "  return pd.read_sas(path if os.path.exists(path) else url)\n",
      "/Users/kamehameya/UCSD/Courses/ECE 143/dental_hygiene/preprocess_dental.py:28: PerformanceWarning: DataFrame is highly fragmented.  This is usually the result of calling `frame.insert` many times, which has poor performance.  Consider joining all columns at once using pd.concat(axis=1) instead. To get a de-fragmented frame, use `newframe = frame.copy()`\n",
      "  return pd.read_sas(path if os.path.exists(path) else url)\n",
      "/Users/kamehameya/UCSD/Courses/ECE 143/dental_hygiene/preprocess_dental.py:28: PerformanceWarning: DataFrame is highly fragmented.  This is usually the result of calling `frame.insert` many times, which has poor performance.  Consider joining all columns at once using pd.concat(axis=1) instead. To get a de-fragmented frame, use `newframe = frame.copy()`\n",
      "  return pd.read_sas(path if os.path.exists(path) else url)\n"
     ]
    },
    {
     "data": {
      "text/plain": "<bound method DataFrame.info of            SEQN  ANTERIOR_TOOTH_COUNT  POSTERIOR_TOOTH_COUNT  \\\n0      109263.0                  12.0                    8.0   \n1      109264.0                  12.0                   16.0   \n2      109265.0                  12.0                    6.0   \n3      109266.0                  12.0                   20.0   \n4      109269.0                  12.0                    8.0   \n...         ...                   ...                    ...   \n13767  124818.0                  12.0                   11.0   \n13768  124819.0                  12.0                    8.0   \n13769  124820.0                  12.0                   10.0   \n13770  124821.0                  12.0                   12.0   \n13771  124822.0                   NaN                    NaN   \n\n       ANTERIOR_CARIES_COUNT  POSTERIOR_CARIES_COUNT  \\\n0                        0.0                     NaN   \n1                        0.0                     0.0   \n2                        0.0                     NaN   \n3                        0.0                     8.0   \n4                        0.0                     NaN   \n...                      ...                     ...   \n13767                    3.0                     6.0   \n13768                    0.0                     NaN   \n13769                    0.0                     NaN   \n13770                    0.0                    13.0   \n13771                    NaN                     NaN   \n\n       ANTERIOR_DENTAL_SEALANT_COUNT  POSTERIOR_DENTAL_SEALANT_COUNT  \\\n0                                NaN                             NaN   \n1                                0.0                             0.0   \n2                                NaN                             NaN   \n3                                NaN                             NaN   \n4                                NaN                             NaN   \n...                              ...                             ...   \n13767                            NaN                             NaN   \n13768                            NaN                             NaN   \n13769                            NaN                             NaN   \n13770                            NaN                             NaN   \n13771                            NaN                             NaN   \n\n       ROOT_CARIES  OTHER_NON_CARIOUS_ROOT_LESION  \n0              NaN                            NaN  \n1              NaN                            NaN  \n2              NaN                            NaN  \n3              0.0                            0.0  \n4              NaN                            NaN  \n...            ...                            ...  \n13767          1.0                            0.0  \n13768          NaN                            NaN  \n13769          NaN                            NaN  \n13770          0.0                            1.0  \n13771          NaN                            NaN  \n\n[13772 rows x 9 columns]>"
     },
     "execution_count": 36,
     "metadata": {},
     "output_type": "execute_result"
    }
   ],
   "source": [
    "dental_data_01 = preprocess_dental_data(usage='01', skipna=False)\n",
    "dental_data_01.describe()\n",
    "dental_data_01.info\n",
    "#print(dental_data)"
   ],
   "metadata": {
    "collapsed": false
   }
  },
  {
   "cell_type": "code",
   "execution_count": 37,
   "outputs": [
    {
     "name": "stdout",
     "output_type": "stream",
     "text": [
      "SEQN  :  0\n",
      "ANTERIOR_TOOTH_COUNT  :  494\n",
      "POSTERIOR_TOOTH_COUNT  :  494\n",
      "ANTERIOR_CARIES_COUNT  :  2093\n",
      "POSTERIOR_CARIES_COUNT  :  3972\n",
      "ANTERIOR_DENTAL_SEALANT_COUNT  :  10781\n",
      "POSTERIOR_DENTAL_SEALANT_COUNT  :  12165\n",
      "ROOT_CARIES  :  5771\n",
      "OTHER_NON_CARIOUS_ROOT_LESION  :  5773\n"
     ]
    }
   ],
   "source": [
    "#dental_data_01['OTHER_NON_CARIOUS_ROOT_LESION'].plot.hist()\n",
    "for x in dental_data_01.columns:\n",
    "    print(x, ' : ',dental_data_01[x].isna().sum())"
   ],
   "metadata": {
    "collapsed": false
   }
  },
  {
   "cell_type": "code",
   "execution_count": 38,
   "outputs": [
    {
     "data": {
      "text/plain": "       ANTERIOR_TOOTH_COUNT  POSTERIOR_TOOTH_COUNT  ANTERIOR_CARIES_COUNT  \\\ncount            347.000000             347.000000             347.000000   \nmean              11.974063              16.876081               0.170029   \nstd                0.206586               1.413878               0.638297   \nmin                9.000000              15.000000               0.000000   \n25%               12.000000              16.000000               0.000000   \n50%               12.000000              16.000000               0.000000   \n75%               12.000000              18.000000               0.000000   \nmax               12.000000              20.000000               5.000000   \n\n       POSTERIOR_CARIES_COUNT  ANTERIOR_DENTAL_SEALANT_COUNT  \\\ncount              347.000000                          347.0   \nmean                 3.000000                            0.0   \nstd                  3.415368                            0.0   \nmin                  0.000000                            0.0   \n25%                  0.000000                            0.0   \n50%                  2.000000                            0.0   \n75%                  5.000000                            0.0   \nmax                 16.000000                            0.0   \n\n       POSTERIOR_DENTAL_SEALANT_COUNT  ROOT_CARIES  \\\ncount                      347.000000   347.000000   \nmean                         1.357349     0.014409   \nstd                          2.807756     0.119343   \nmin                          0.000000     0.000000   \n25%                          0.000000     0.000000   \n50%                          0.000000     0.000000   \n75%                          1.500000     0.000000   \nmax                         16.000000     1.000000   \n\n       OTHER_NON_CARIOUS_ROOT_LESION  \ncount                     347.000000  \nmean                        0.002882  \nstd                         0.053683  \nmin                         0.000000  \n25%                         0.000000  \n50%                         0.000000  \n75%                         0.000000  \nmax                         1.000000  ",
      "text/html": "<div>\n<style scoped>\n    .dataframe tbody tr th:only-of-type {\n        vertical-align: middle;\n    }\n\n    .dataframe tbody tr th {\n        vertical-align: top;\n    }\n\n    .dataframe thead th {\n        text-align: right;\n    }\n</style>\n<table border=\"1\" class=\"dataframe\">\n  <thead>\n    <tr style=\"text-align: right;\">\n      <th></th>\n      <th>ANTERIOR_TOOTH_COUNT</th>\n      <th>POSTERIOR_TOOTH_COUNT</th>\n      <th>ANTERIOR_CARIES_COUNT</th>\n      <th>POSTERIOR_CARIES_COUNT</th>\n      <th>ANTERIOR_DENTAL_SEALANT_COUNT</th>\n      <th>POSTERIOR_DENTAL_SEALANT_COUNT</th>\n      <th>ROOT_CARIES</th>\n      <th>OTHER_NON_CARIOUS_ROOT_LESION</th>\n    </tr>\n  </thead>\n  <tbody>\n    <tr>\n      <th>count</th>\n      <td>347.000000</td>\n      <td>347.000000</td>\n      <td>347.000000</td>\n      <td>347.000000</td>\n      <td>347.0</td>\n      <td>347.000000</td>\n      <td>347.000000</td>\n      <td>347.000000</td>\n    </tr>\n    <tr>\n      <th>mean</th>\n      <td>11.974063</td>\n      <td>16.876081</td>\n      <td>0.170029</td>\n      <td>3.000000</td>\n      <td>0.0</td>\n      <td>1.357349</td>\n      <td>0.014409</td>\n      <td>0.002882</td>\n    </tr>\n    <tr>\n      <th>std</th>\n      <td>0.206586</td>\n      <td>1.413878</td>\n      <td>0.638297</td>\n      <td>3.415368</td>\n      <td>0.0</td>\n      <td>2.807756</td>\n      <td>0.119343</td>\n      <td>0.053683</td>\n    </tr>\n    <tr>\n      <th>min</th>\n      <td>9.000000</td>\n      <td>15.000000</td>\n      <td>0.000000</td>\n      <td>0.000000</td>\n      <td>0.0</td>\n      <td>0.000000</td>\n      <td>0.000000</td>\n      <td>0.000000</td>\n    </tr>\n    <tr>\n      <th>25%</th>\n      <td>12.000000</td>\n      <td>16.000000</td>\n      <td>0.000000</td>\n      <td>0.000000</td>\n      <td>0.0</td>\n      <td>0.000000</td>\n      <td>0.000000</td>\n      <td>0.000000</td>\n    </tr>\n    <tr>\n      <th>50%</th>\n      <td>12.000000</td>\n      <td>16.000000</td>\n      <td>0.000000</td>\n      <td>2.000000</td>\n      <td>0.0</td>\n      <td>0.000000</td>\n      <td>0.000000</td>\n      <td>0.000000</td>\n    </tr>\n    <tr>\n      <th>75%</th>\n      <td>12.000000</td>\n      <td>18.000000</td>\n      <td>0.000000</td>\n      <td>5.000000</td>\n      <td>0.0</td>\n      <td>1.500000</td>\n      <td>0.000000</td>\n      <td>0.000000</td>\n    </tr>\n    <tr>\n      <th>max</th>\n      <td>12.000000</td>\n      <td>20.000000</td>\n      <td>5.000000</td>\n      <td>16.000000</td>\n      <td>0.0</td>\n      <td>16.000000</td>\n      <td>1.000000</td>\n      <td>1.000000</td>\n    </tr>\n  </tbody>\n</table>\n</div>"
     },
     "execution_count": 38,
     "metadata": {},
     "output_type": "execute_result"
    }
   ],
   "source": [
    "dental_data_01 = dental_data_01.set_index('SEQN')\n",
    "dental_data_01.dropna(subset=['ANTERIOR_CARIES_COUNT', 'POSTERIOR_CARIES_COUNT', 'ANTERIOR_DENTAL_SEALANT_COUNT', 'POSTERIOR_DENTAL_SEALANT_COUNT', 'ROOT_CARIES', 'OTHER_NON_CARIOUS_ROOT_LESION'], how='any').describe()\n"
   ],
   "metadata": {
    "collapsed": false
   }
  },
  {
   "cell_type": "code",
   "execution_count": 39,
   "outputs": [
    {
     "data": {
      "text/plain": "       ANTERIOR_TOOTH_COUNT  POSTERIOR_TOOTH_COUNT  ANTERIOR_CARIES_COUNT  \\\ncount          12755.000000           12755.000000           11679.000000   \nmean              10.838887              12.500274               1.704512   \nstd                2.983751               5.144294               3.362081   \nmin                0.000000               0.000000               0.000000   \n25%               12.000000               9.000000               0.000000   \n50%               12.000000              14.000000               0.000000   \n75%               12.000000              16.000000               2.000000   \nmax               12.000000              20.000000              12.000000   \n\n       POSTERIOR_CARIES_COUNT  ANTERIOR_DENTAL_SEALANT_COUNT  \\\ncount             9800.000000                    2991.000000   \nmean                 8.128061                       0.004346   \nstd                  5.672494                       0.087598   \nmin                  0.000000                       0.000000   \n25%                  3.000000                       0.000000   \n50%                  8.000000                       0.000000   \n75%                 14.000000                       0.000000   \nmax                 16.000000                       2.000000   \n\n       POSTERIOR_DENTAL_SEALANT_COUNT  ROOT_CARIES  \\\ncount                     1607.000000  8001.000000   \nmean                         1.669571     0.179353   \nstd                          3.059756     0.420064   \nmin                          0.000000     0.000000   \n25%                          0.000000     0.000000   \n50%                          0.000000     0.000000   \n75%                          2.000000     0.000000   \nmax                         16.000000     2.000000   \n\n       OTHER_NON_CARIOUS_ROOT_LESION  \ncount                    7999.000000  \nmean                        0.240280  \nstd                         0.503822  \nmin                         0.000000  \n25%                         0.000000  \n50%                         0.000000  \n75%                         0.000000  \nmax                         2.000000  ",
      "text/html": "<div>\n<style scoped>\n    .dataframe tbody tr th:only-of-type {\n        vertical-align: middle;\n    }\n\n    .dataframe tbody tr th {\n        vertical-align: top;\n    }\n\n    .dataframe thead th {\n        text-align: right;\n    }\n</style>\n<table border=\"1\" class=\"dataframe\">\n  <thead>\n    <tr style=\"text-align: right;\">\n      <th></th>\n      <th>ANTERIOR_TOOTH_COUNT</th>\n      <th>POSTERIOR_TOOTH_COUNT</th>\n      <th>ANTERIOR_CARIES_COUNT</th>\n      <th>POSTERIOR_CARIES_COUNT</th>\n      <th>ANTERIOR_DENTAL_SEALANT_COUNT</th>\n      <th>POSTERIOR_DENTAL_SEALANT_COUNT</th>\n      <th>ROOT_CARIES</th>\n      <th>OTHER_NON_CARIOUS_ROOT_LESION</th>\n    </tr>\n  </thead>\n  <tbody>\n    <tr>\n      <th>count</th>\n      <td>12755.000000</td>\n      <td>12755.000000</td>\n      <td>11679.000000</td>\n      <td>9800.000000</td>\n      <td>2991.000000</td>\n      <td>1607.000000</td>\n      <td>8001.000000</td>\n      <td>7999.000000</td>\n    </tr>\n    <tr>\n      <th>mean</th>\n      <td>10.838887</td>\n      <td>12.500274</td>\n      <td>1.704512</td>\n      <td>8.128061</td>\n      <td>0.004346</td>\n      <td>1.669571</td>\n      <td>0.179353</td>\n      <td>0.240280</td>\n    </tr>\n    <tr>\n      <th>std</th>\n      <td>2.983751</td>\n      <td>5.144294</td>\n      <td>3.362081</td>\n      <td>5.672494</td>\n      <td>0.087598</td>\n      <td>3.059756</td>\n      <td>0.420064</td>\n      <td>0.503822</td>\n    </tr>\n    <tr>\n      <th>min</th>\n      <td>0.000000</td>\n      <td>0.000000</td>\n      <td>0.000000</td>\n      <td>0.000000</td>\n      <td>0.000000</td>\n      <td>0.000000</td>\n      <td>0.000000</td>\n      <td>0.000000</td>\n    </tr>\n    <tr>\n      <th>25%</th>\n      <td>12.000000</td>\n      <td>9.000000</td>\n      <td>0.000000</td>\n      <td>3.000000</td>\n      <td>0.000000</td>\n      <td>0.000000</td>\n      <td>0.000000</td>\n      <td>0.000000</td>\n    </tr>\n    <tr>\n      <th>50%</th>\n      <td>12.000000</td>\n      <td>14.000000</td>\n      <td>0.000000</td>\n      <td>8.000000</td>\n      <td>0.000000</td>\n      <td>0.000000</td>\n      <td>0.000000</td>\n      <td>0.000000</td>\n    </tr>\n    <tr>\n      <th>75%</th>\n      <td>12.000000</td>\n      <td>16.000000</td>\n      <td>2.000000</td>\n      <td>14.000000</td>\n      <td>0.000000</td>\n      <td>2.000000</td>\n      <td>0.000000</td>\n      <td>0.000000</td>\n    </tr>\n    <tr>\n      <th>max</th>\n      <td>12.000000</td>\n      <td>20.000000</td>\n      <td>12.000000</td>\n      <td>16.000000</td>\n      <td>2.000000</td>\n      <td>16.000000</td>\n      <td>2.000000</td>\n      <td>2.000000</td>\n    </tr>\n  </tbody>\n</table>\n</div>"
     },
     "execution_count": 39,
     "metadata": {},
     "output_type": "execute_result"
    }
   ],
   "source": [
    "dental_data_01.dropna(subset=['ANTERIOR_CARIES_COUNT', 'POSTERIOR_CARIES_COUNT', 'ANTERIOR_DENTAL_SEALANT_COUNT', 'POSTERIOR_DENTAL_SEALANT_COUNT', 'ROOT_CARIES', 'OTHER_NON_CARIOUS_ROOT_LESION'], how='all').describe()\n"
   ],
   "metadata": {
    "collapsed": false
   }
  },
  {
   "cell_type": "code",
   "execution_count": null,
   "outputs": [],
   "source": [],
   "metadata": {
    "collapsed": false
   }
  }
 ],
 "metadata": {
  "kernelspec": {
   "display_name": "Python 3",
   "language": "python",
   "name": "python3"
  },
  "language_info": {
   "codemirror_mode": {
    "name": "ipython",
    "version": 2
   },
   "file_extension": ".py",
   "mimetype": "text/x-python",
   "name": "python",
   "nbconvert_exporter": "python",
   "pygments_lexer": "ipython2",
   "version": "2.7.6"
  }
 },
 "nbformat": 4,
 "nbformat_minor": 0
}

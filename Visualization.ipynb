{
  "nbformat": 4,
  "nbformat_minor": 0,
  "metadata": {
    "colab": {
      "provenance": []
    },
    "kernelspec": {
      "name": "python3",
      "display_name": "Python 3"
    },
    "language_info": {
      "name": "python"
    }
  },
  "cells": [
    {
      "cell_type": "markdown",
      "source": [
        "# Import libraries and modules"
      ],
      "metadata": {
        "id": "fo1ZgpnUPbgY"
      }
    },
    {
      "cell_type": "code",
      "execution_count": null,
      "metadata": {
        "id": "zvZaK0_3yPXH"
      },
      "outputs": [],
      "source": [
        "import pandas as pd\n",
        "import numpy as np\n",
        "import matplotlib.pyplot as plt\n",
        "plt.style.use('ggplot')"
      ]
    },
    {
      "cell_type": "code",
      "source": [
        "from data_preprocess import preprocess\n",
        "from preprocess_dental import preprocess_dental_data"
      ],
      "metadata": {
        "id": "BAPWN5NDR1E1"
      },
      "execution_count": 6,
      "outputs": []
    },
    {
      "cell_type": "markdown",
      "source": [
        "# Load and preprocess data"
      ],
      "metadata": {
        "id": "e107vrwSThUo"
      }
    },
    {
      "cell_type": "code",
      "source": [
        "df_dental = preprocess_dental_data()\n",
        "df_data = preprocess()"
      ],
      "metadata": {
        "id": "JeSQiwYCyqGW"
      },
      "execution_count": 8,
      "outputs": []
    },
    {
      "cell_type": "code",
      "source": [
        "df_data.info()"
      ],
      "metadata": {
        "colab": {
          "base_uri": "https://localhost:8080/"
        },
        "id": "E86A4P-OCum6",
        "outputId": "c8107535-515c-4466-e96e-6a60d751a3fe"
      },
      "execution_count": null,
      "outputs": [
        {
          "output_type": "stream",
          "name": "stdout",
          "text": [
            "<class 'pandas.core.frame.DataFrame'>\n",
            "Int64Index: 13772 entries, 0 to 13771\n",
            "Columns: 214 entries, SEQN to OTHER_NON_CARIOUS_ROOT_LESION\n",
            "dtypes: category(30), float64(184)\n",
            "memory usage: 20.3 MB\n"
          ]
        }
      ]
    },
    {
      "cell_type": "code",
      "source": [
        "df_dental.info()"
      ],
      "metadata": {
        "colab": {
          "base_uri": "https://localhost:8080/"
        },
        "id": "wFzQrY6zC-Jn",
        "outputId": "4002ab02-86cb-4288-adf9-2991e48c8167"
      },
      "execution_count": null,
      "outputs": [
        {
          "output_type": "stream",
          "name": "stdout",
          "text": [
            "<class 'pandas.core.frame.DataFrame'>\n",
            "RangeIndex: 13772 entries, 0 to 13771\n",
            "Data columns (total 9 columns):\n",
            " #   Column                          Non-Null Count  Dtype  \n",
            "---  ------                          --------------  -----  \n",
            " 0   SEQN                            13772 non-null  float64\n",
            " 1   ANTERIOR_TOOTH_COUNT            13772 non-null  float64\n",
            " 2   POSTERIOR_TOOTH_COUNT           13772 non-null  float64\n",
            " 3   ANTERIOR_CARIES_COUNT           13772 non-null  float64\n",
            " 4   POSTERIOR_CARIES_COUNT          13772 non-null  float64\n",
            " 5   ANTERIOR_DENTAL_SEALANT_COUNT   13772 non-null  float64\n",
            " 6   POSTERIOR_DENTAL_SEALANT_COUNT  13772 non-null  float64\n",
            " 7   ROOT_CARIES                     13772 non-null  float64\n",
            " 8   OTHER_NON_CARIOUS_ROOT_LESION   13772 non-null  float64\n",
            "dtypes: float64(9)\n",
            "memory usage: 968.5 KB\n"
          ]
        }
      ]
    },
    {
      "cell_type": "markdown",
      "source": [
        "## Load Column descriptions"
      ],
      "metadata": {
        "id": "v1nAC1CYToNm"
      }
    },
    {
      "cell_type": "code",
      "source": [
        "def load_codenames(file_path):\n",
        "  \"\"\"\n",
        "  Loads a file containing the descriptions of codes\n",
        "  and returns a dictionary\n",
        "  \"\"\"\n",
        "  with open(file_path, \"r\") as f:\n",
        "    s = f.readlines()\n",
        "\n",
        "  codedict = dict()\n",
        "  for l in s:\n",
        "    l = l[:-1]\n",
        "    lt = l.split(\"-\")\n",
        "    codedict[lt[0].strip()] = \" \".join(lt[1:]).strip()\n",
        "  return codedict"
      ],
      "metadata": {
        "id": "EOlftXxV6BzB"
      },
      "execution_count": null,
      "outputs": []
    },
    {
      "cell_type": "code",
      "source": [
        "dental_codes = load_codenames(\"dataset/dentalcodenames.txt\")\n",
        "diet_codes = load_codenames(\"dataset/dietarycodenames.txt\")\n",
        "nutr_codes = load_codenames(\"dataset/nutritionalcodenames.txt\")\n",
        "all_codes = load_codenames(\"dataset/codenames.txt\")\n",
        "\n",
        "for i in df_dental.columns:\n",
        "  dental_codes[i] = i.replace(\"_\", \" \")\n",
        "  all_codes[i] = i.replace(\"_\", \" \")"
      ],
      "metadata": {
        "id": "G43R938J6LZx"
      },
      "execution_count": null,
      "outputs": []
    },
    {
      "cell_type": "code",
      "source": [
        "def check_which_data(c):\n",
        "  \"\"\"\n",
        "  Checks which dataset a particular column is from\n",
        "  \"\"\"\n",
        "  if c in diet_codes:\n",
        "    return \"diet\"\n",
        "  if c in dental_codes:\n",
        "    return \"dental\"\n",
        "  if c in nutr_codes:\n",
        "    return \"nutrition\""
      ],
      "metadata": {
        "id": "mQhqL0zR9Le7"
      },
      "execution_count": 1,
      "outputs": []
    },
    {
      "cell_type": "markdown",
      "source": [
        "# Cross dataset correlation"
      ],
      "metadata": {
        "id": "8Pkj_1isTxVe"
      }
    },
    {
      "cell_type": "markdown",
      "source": [
        "## Correlations between pairs of continous variables"
      ],
      "metadata": {
        "id": "l9iToMfOT1jP"
      }
    },
    {
      "cell_type": "code",
      "source": [
        "df_corr = df_data.drop(columns = [\"SEQN\"]).corr(method = \"spearman\")\n",
        "dfs = df_corr.stack()\n",
        "\n",
        "corr_count = dict()\n",
        "for corr in range(1, 10):\n",
        "  corr_count[corr/10] = 0\n",
        "  for a, v in zip(dfs.index, dfs):\n",
        "    c1 = a[0]\n",
        "    c2 = a[1]\n",
        "    if c1 == c2 or check_which_data(c1) ==  check_which_data(c2) or abs(v) <corr/10:\n",
        "      continue  \n",
        "    corr_count[corr/10] += 1\n",
        "\n",
        "plt.bar(np.arange(9), pd.Series(corr_count).values/2)"
      ],
      "metadata": {
        "id": "lF9ro54t2XZ7",
        "colab": {
          "base_uri": "https://localhost:8080/",
          "height": 286
        },
        "outputId": "b528e211-1c12-4823-e234-9bb2343a3e6f"
      },
      "execution_count": null,
      "outputs": [
        {
          "output_type": "execute_result",
          "data": {
            "text/plain": [
              "<BarContainer object of 9 artists>"
            ]
          },
          "metadata": {},
          "execution_count": 67
        },
        {
          "output_type": "display_data",
          "data": {
            "text/plain": [
              "<Figure size 432x288 with 1 Axes>"
            ],
            "image/png": "[encoded data removed]"
          },
          "metadata": {}
        }
      ]
    },
    {
      "cell_type": "code",
      "source": [
        "print(corr_count)"
      ],
      "metadata": {
        "colab": {
          "base_uri": "https://localhost:8080/"
        },
        "id": "Xn4ZaOivKUt2",
        "outputId": "243b022d-28f7-4cb6-8d2b-66ced2656948"
      },
      "execution_count": null,
      "outputs": [
        {
          "output_type": "stream",
          "name": "stdout",
          "text": [
            "{0.1: 1336, 0.2: 18, 0.3: 2, 0.4: 0, 0.5: 0, 0.6: 0, 0.7: 0, 0.8: 0, 0.9: 0}\n"
          ]
        }
      ]
    },
    {
      "cell_type": "code",
      "source": [
        "c = 0\n",
        "for i, (a, v) in enumerate(zip(dfs.index, dfs)):\n",
        "  if i > len(dfs)/2:\n",
        "    break\n",
        "  c1 = a[0]\n",
        "  c2 = a[1]\n",
        "  if c1 == c2 or check_which_data(c1) ==  check_which_data(c2) or abs(v) <0.22:\n",
        "    continue  \n",
        "  print(all_codes[c1], \"(\",c1,\")-\", check_which_data(c1), \"is correlated with\", all_codes[c2], \"(\",c2,\")-\",check_which_data(c2), \"---\",v)\n",
        "  c += 1\n",
        "print(c)"
      ],
      "metadata": {
        "colab": {
          "base_uri": "https://localhost:8080/"
        },
        "id": "OmuAfcI3_UzS",
        "outputId": "f471c19b-4733-4f83-a8b7-444bf060cb2b"
      },
      "execution_count": null,
      "outputs": [
        {
          "output_type": "stream",
          "name": "stdout",
          "text": [
            "Total # of Dietary Supplements Taken ( DSDCOUNT )- diet is correlated with Number of foods/beverages reported ( DR1TNUMF )- nutrition --- 0.2308343099006234\n",
            "Total # of Dietary Supplements Taken ( DSDCOUNT )- diet is correlated with POSTERIOR CARIES COUNT ( POSTERIOR_CARIES_COUNT )- dental --- 0.25023287256478755\n",
            "Calcium (mg) ( DSQTCALC )- diet is correlated with POSTERIOR CARIES COUNT ( POSTERIOR_CARIES_COUNT )- dental --- 0.2516762159546641\n",
            "Magnesium (mg) ( DSQTMAGN )- diet is correlated with POSTERIOR CARIES COUNT ( POSTERIOR_CARIES_COUNT )- dental --- 0.2309082596469845\n",
            "Number of foods/beverages reported ( DR1TNUMF )- nutrition is correlated with Total # of Dietary Supplements Taken ( DSDCOUNT )- diet --- 0.2308343099006234\n",
            "Caffeine (mg) ( DR1TCAFF )- nutrition is correlated with ANTERIOR CARIES COUNT ( ANTERIOR_CARIES_COUNT )- dental --- 0.2284445216299341\n",
            "Caffeine (mg) ( DR1TCAFF )- nutrition is correlated with POSTERIOR CARIES COUNT ( POSTERIOR_CARIES_COUNT )- dental --- 0.316604966674618\n",
            "Moisture (gm) ( DR1TMOIS )- nutrition is correlated with POSTERIOR CARIES COUNT ( POSTERIOR_CARIES_COUNT )- dental --- 0.23912256311398575\n",
            "8\n"
          ]
        }
      ]
    },
    {
      "cell_type": "markdown",
      "source": [
        "Caffiene is correlated with both anteriour and posterior caries, that is expected."
      ],
      "metadata": {
        "id": "zFmgGkuuT-H_"
      }
    },
    {
      "cell_type": "markdown",
      "source": [
        "## Insights via grouping continous variables according to categorical variables"
      ],
      "metadata": {
        "id": "3vuFL8rLUNfH"
      }
    },
    {
      "cell_type": "code",
      "source": [
        "dfgd = df_data.drop(columns = [\"SEQN\"]).groupby(\"DR1LANG\").describe()"
      ],
      "metadata": {
        "id": "2Cpi2qOJRUpK"
      },
      "execution_count": null,
      "outputs": []
    },
    {
      "cell_type": "code",
      "source": [
        "num_bars = 9\n",
        "x = dfgd[(\"DSQTCAFF\", \"mean\")].index.values\n",
        "y = dfgd[(\"DSQTCAFF\", \"mean\")].values\n",
        "# y.extend(count[0:7]) \n",
        "x_label=[\"English only\", \"Spanish\", \"English and Spanish\", \"Other\", \"Asian Languages\", \"Asian and English\"]\n",
        "colors = [plt.get_cmap('BrBG')(0.25), 'grey'] + [plt.get_cmap('BrBG')(0.25)] * 7\n",
        "plt.xticks(x, x_label, rotation = 45)\n",
        "plt.bar(x,y, color=colors)\n",
        "plt.grid(False)\n",
        "plt.title('Mean (in gm) Caffeine consumptions of\\ndifferent Language speaking groups', color=plt.get_cmap('Greys')(0.8))"
      ],
      "metadata": {
        "colab": {
          "base_uri": "https://localhost:8080/",
          "height": 384
        },
        "id": "IKPR0qb7e5mi",
        "outputId": "519aedee-32a1-43b6-de44-a8dc9822fde1"
      },
      "execution_count": null,
      "outputs": [
        {
          "output_type": "execute_result",
          "data": {
            "text/plain": [
              "Text(0.5, 1.0, 'Mean (in gm) Caffeine consumptions of\\ndifferent Language speaking groups')"
            ]
          },
          "metadata": {},
          "execution_count": 28
        },
        {
          "output_type": "display_data",
          "data": {
            "text/plain": [
              "<Figure size 432x288 with 1 Axes>"
            ],
            "image/png": "[encoded data removed]"
          },
          "metadata": {}
        }
      ]
    },
    {
      "cell_type": "code",
      "source": [
        "dfgg = df_data.drop(columns = [\"SEQN\"]).groupby([\"DSD010\", \"DR1MRESP\"]).size()\n",
        "a = []\n",
        "for i in range (1, 12):\n",
        "  if i == 4:\n",
        "    continue\n",
        "  a.append(dfgg[(2, i)])\n",
        "a = np.array(a)/df_data.drop(columns = [\"SEQN\"]).groupby(\"DR1MRESP\").count()[\"DSDCOUNT\"].values"
      ],
      "metadata": {
        "id": "DT4xsTnM6EKJ"
      },
      "execution_count": null,
      "outputs": []
    },
    {
      "cell_type": "code",
      "source": [
        "y = a\n",
        "x = np.arange(1, len(y)+1)\n",
        "num_bars = len(x)\n",
        "# y.extend(count[0:7]) \n",
        "x_label=['SP',\n",
        " 'Mother of SP',\n",
        " 'Father of SP',\n",
        " 'Spouse of SP',\n",
        " 'Child of SP',\n",
        " 'Grandparent of SP',\n",
        " 'Friend, non-relative',\n",
        " 'Translator',\n",
        " 'Child care provider',\n",
        " 'Other relative']\n",
        "colors = [plt.get_cmap('BrBG')(0.25)] * len(x)\n",
        "plt.xticks(x, x_label, rotation = 90)\n",
        "plt.bar(x,y, color=colors)\n",
        "plt.grid(False)\n",
        "plt.title('% distribution of respondents who take supplements', color=plt.get_cmap('Greys')(0.8))"
      ],
      "metadata": {
        "colab": {
          "base_uri": "https://localhost:8080/",
          "height": 387
        },
        "id": "50NOwx0J_gdG",
        "outputId": "cc9bd1f3-4541-4924-8105-d056a616f7ed"
      },
      "execution_count": null,
      "outputs": [
        {
          "output_type": "execute_result",
          "data": {
            "text/plain": [
              "Text(0.5, 1.0, '% distribution of respondents who take supplements')"
            ]
          },
          "metadata": {},
          "execution_count": 90
        },
        {
          "output_type": "display_data",
          "data": {
            "text/plain": [
              "<Figure size 432x288 with 1 Axes>"
            ],
            "image/png": "[encoded data removed]"
          },
          "metadata": {}
        }
      ]
    },
    {
      "cell_type": "code",
      "source": [
        "dfgd = df_data.drop(columns = [\"SEQN\"]).groupby(\"DR1MRESP\").describe()"
      ],
      "metadata": {
        "id": "g7susXKqiuAf"
      },
      "execution_count": null,
      "outputs": []
    },
    {
      "cell_type": "code",
      "source": [
        "y = dfgd[(\"DSQTPHOS\", \"mean\")].values\n",
        "x = np.arange(1, len(y)+1)\n",
        "num_bars = len(x)\n",
        "# y.extend(count[0:7]) \n",
        "x_label=['SP',\n",
        " 'Mother of SP',\n",
        " 'Father of SP',\n",
        " 'Spouse of SP',\n",
        " 'Child of SP',\n",
        " 'Grandparent of SP',\n",
        " 'Friend, non-relative',\n",
        " 'Translator',\n",
        " 'Child care provider',\n",
        " 'Other relative']\n",
        "colors = [plt.get_cmap('BrBG')(0.25)] * len(x)\n",
        "plt.xticks(x, x_label, rotation = 90)\n",
        "plt.bar(x,y, color=colors)\n",
        "plt.grid(False)\n",
        "plt.title('Mean (in mg) Phosphorous Supplements taken', color=plt.get_cmap('Greys')(0.8))"
      ],
      "metadata": {
        "colab": {
          "base_uri": "https://localhost:8080/",
          "height": 387
        },
        "id": "ng0JyLIVhX5d",
        "outputId": "f26f1330-df42-4309-bcb3-aac79cdbb3aa"
      },
      "execution_count": null,
      "outputs": [
        {
          "output_type": "execute_result",
          "data": {
            "text/plain": [
              "Text(0.5, 1.0, 'Mean (in mg) Phosphorous Supplements taken')"
            ]
          },
          "metadata": {},
          "execution_count": 87
        },
        {
          "output_type": "display_data",
          "data": {
            "text/plain": [
              "<Figure size 432x288 with 1 Axes>"
            ],
            "image/png": "[encoded data removed]"
          },
          "metadata": {}
        }
      ]
    }
  ]
}
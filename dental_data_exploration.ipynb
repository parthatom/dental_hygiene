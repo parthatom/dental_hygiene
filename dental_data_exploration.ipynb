{
 "cells": [
  {
   "cell_type": "code",
   "execution_count": 1,
   "metadata": {
    "collapsed": true
   },
   "outputs": [],
   "source": [
    "import numpy as np\n",
    "import pandas as pd\n",
    "import matplotlib as plt\n",
    "from preprocess_dental import preprocess_dental_data"
   ]
  },
  {
   "cell_type": "code",
   "execution_count": 2,
   "outputs": [
    {
     "name": "stderr",
     "output_type": "stream",
     "text": [
      "/Users/kamehameya/UCSD/Courses/ECE 143/dental_hygiene/preprocess_dental.py:29: PerformanceWarning: DataFrame is highly fragmented.  This is usually the result of calling `frame.insert` many times, which has poor performance.  Consider joining all columns at once using pd.concat(axis=1) instead. To get a de-fragmented frame, use `newframe = frame.copy()`\n",
      "  return pd.read_sas(path if os.path.exists(path) else url)\n",
      "/Users/kamehameya/UCSD/Courses/ECE 143/dental_hygiene/preprocess_dental.py:29: PerformanceWarning: DataFrame is highly fragmented.  This is usually the result of calling `frame.insert` many times, which has poor performance.  Consider joining all columns at once using pd.concat(axis=1) instead. To get a de-fragmented frame, use `newframe = frame.copy()`\n",
      "  return pd.read_sas(path if os.path.exists(path) else url)\n",
      "/Users/kamehameya/UCSD/Courses/ECE 143/dental_hygiene/preprocess_dental.py:29: PerformanceWarning: DataFrame is highly fragmented.  This is usually the result of calling `frame.insert` many times, which has poor performance.  Consider joining all columns at once using pd.concat(axis=1) instead. To get a de-fragmented frame, use `newframe = frame.copy()`\n",
      "  return pd.read_sas(path if os.path.exists(path) else url)\n",
      "/Users/kamehameya/UCSD/Courses/ECE 143/dental_hygiene/preprocess_dental.py:29: PerformanceWarning: DataFrame is highly fragmented.  This is usually the result of calling `frame.insert` many times, which has poor performance.  Consider joining all columns at once using pd.concat(axis=1) instead. To get a de-fragmented frame, use `newframe = frame.copy()`\n",
      "  return pd.read_sas(path if os.path.exists(path) else url)\n",
      "/Users/kamehameya/UCSD/Courses/ECE 143/dental_hygiene/preprocess_dental.py:29: PerformanceWarning: DataFrame is highly fragmented.  This is usually the result of calling `frame.insert` many times, which has poor performance.  Consider joining all columns at once using pd.concat(axis=1) instead. To get a de-fragmented frame, use `newframe = frame.copy()`\n",
      "  return pd.read_sas(path if os.path.exists(path) else url)\n",
      "/Users/kamehameya/UCSD/Courses/ECE 143/dental_hygiene/preprocess_dental.py:29: PerformanceWarning: DataFrame is highly fragmented.  This is usually the result of calling `frame.insert` many times, which has poor performance.  Consider joining all columns at once using pd.concat(axis=1) instead. To get a de-fragmented frame, use `newframe = frame.copy()`\n",
      "  return pd.read_sas(path if os.path.exists(path) else url)\n",
      "/Users/kamehameya/UCSD/Courses/ECE 143/dental_hygiene/preprocess_dental.py:29: PerformanceWarning: DataFrame is highly fragmented.  This is usually the result of calling `frame.insert` many times, which has poor performance.  Consider joining all columns at once using pd.concat(axis=1) instead. To get a de-fragmented frame, use `newframe = frame.copy()`\n",
      "  return pd.read_sas(path if os.path.exists(path) else url)\n",
      "/Users/kamehameya/UCSD/Courses/ECE 143/dental_hygiene/preprocess_dental.py:29: PerformanceWarning: DataFrame is highly fragmented.  This is usually the result of calling `frame.insert` many times, which has poor performance.  Consider joining all columns at once using pd.concat(axis=1) instead. To get a de-fragmented frame, use `newframe = frame.copy()`\n",
      "  return pd.read_sas(path if os.path.exists(path) else url)\n",
      "/Users/kamehameya/UCSD/Courses/ECE 143/dental_hygiene/preprocess_dental.py:29: PerformanceWarning: DataFrame is highly fragmented.  This is usually the result of calling `frame.insert` many times, which has poor performance.  Consider joining all columns at once using pd.concat(axis=1) instead. To get a de-fragmented frame, use `newframe = frame.copy()`\n",
      "  return pd.read_sas(path if os.path.exists(path) else url)\n",
      "/Users/kamehameya/UCSD/Courses/ECE 143/dental_hygiene/preprocess_dental.py:29: PerformanceWarning: DataFrame is highly fragmented.  This is usually the result of calling `frame.insert` many times, which has poor performance.  Consider joining all columns at once using pd.concat(axis=1) instead. To get a de-fragmented frame, use `newframe = frame.copy()`\n",
      "  return pd.read_sas(path if os.path.exists(path) else url)\n",
      "/Users/kamehameya/UCSD/Courses/ECE 143/dental_hygiene/preprocess_dental.py:29: PerformanceWarning: DataFrame is highly fragmented.  This is usually the result of calling `frame.insert` many times, which has poor performance.  Consider joining all columns at once using pd.concat(axis=1) instead. To get a de-fragmented frame, use `newframe = frame.copy()`\n",
      "  return pd.read_sas(path if os.path.exists(path) else url)\n",
      "/Users/kamehameya/UCSD/Courses/ECE 143/dental_hygiene/preprocess_dental.py:29: PerformanceWarning: DataFrame is highly fragmented.  This is usually the result of calling `frame.insert` many times, which has poor performance.  Consider joining all columns at once using pd.concat(axis=1) instead. To get a de-fragmented frame, use `newframe = frame.copy()`\n",
      "  return pd.read_sas(path if os.path.exists(path) else url)\n",
      "/Users/kamehameya/UCSD/Courses/ECE 143/dental_hygiene/preprocess_dental.py:29: PerformanceWarning: DataFrame is highly fragmented.  This is usually the result of calling `frame.insert` many times, which has poor performance.  Consider joining all columns at once using pd.concat(axis=1) instead. To get a de-fragmented frame, use `newframe = frame.copy()`\n",
      "  return pd.read_sas(path if os.path.exists(path) else url)\n",
      "/Users/kamehameya/UCSD/Courses/ECE 143/dental_hygiene/preprocess_dental.py:29: PerformanceWarning: DataFrame is highly fragmented.  This is usually the result of calling `frame.insert` many times, which has poor performance.  Consider joining all columns at once using pd.concat(axis=1) instead. To get a de-fragmented frame, use `newframe = frame.copy()`\n",
      "  return pd.read_sas(path if os.path.exists(path) else url)\n",
      "/Users/kamehameya/UCSD/Courses/ECE 143/dental_hygiene/preprocess_dental.py:29: PerformanceWarning: DataFrame is highly fragmented.  This is usually the result of calling `frame.insert` many times, which has poor performance.  Consider joining all columns at once using pd.concat(axis=1) instead. To get a de-fragmented frame, use `newframe = frame.copy()`\n",
      "  return pd.read_sas(path if os.path.exists(path) else url)\n",
      "/Users/kamehameya/UCSD/Courses/ECE 143/dental_hygiene/preprocess_dental.py:29: PerformanceWarning: DataFrame is highly fragmented.  This is usually the result of calling `frame.insert` many times, which has poor performance.  Consider joining all columns at once using pd.concat(axis=1) instead. To get a de-fragmented frame, use `newframe = frame.copy()`\n",
      "  return pd.read_sas(path if os.path.exists(path) else url)\n",
      "/Users/kamehameya/UCSD/Courses/ECE 143/dental_hygiene/preprocess_dental.py:29: PerformanceWarning: DataFrame is highly fragmented.  This is usually the result of calling `frame.insert` many times, which has poor performance.  Consider joining all columns at once using pd.concat(axis=1) instead. To get a de-fragmented frame, use `newframe = frame.copy()`\n",
      "  return pd.read_sas(path if os.path.exists(path) else url)\n",
      "/Users/kamehameya/UCSD/Courses/ECE 143/dental_hygiene/preprocess_dental.py:29: PerformanceWarning: DataFrame is highly fragmented.  This is usually the result of calling `frame.insert` many times, which has poor performance.  Consider joining all columns at once using pd.concat(axis=1) instead. To get a de-fragmented frame, use `newframe = frame.copy()`\n",
      "  return pd.read_sas(path if os.path.exists(path) else url)\n",
      "/Users/kamehameya/UCSD/Courses/ECE 143/dental_hygiene/preprocess_dental.py:29: PerformanceWarning: DataFrame is highly fragmented.  This is usually the result of calling `frame.insert` many times, which has poor performance.  Consider joining all columns at once using pd.concat(axis=1) instead. To get a de-fragmented frame, use `newframe = frame.copy()`\n",
      "  return pd.read_sas(path if os.path.exists(path) else url)\n",
      "/Users/kamehameya/UCSD/Courses/ECE 143/dental_hygiene/preprocess_dental.py:29: PerformanceWarning: DataFrame is highly fragmented.  This is usually the result of calling `frame.insert` many times, which has poor performance.  Consider joining all columns at once using pd.concat(axis=1) instead. To get a de-fragmented frame, use `newframe = frame.copy()`\n",
      "  return pd.read_sas(path if os.path.exists(path) else url)\n",
      "/Users/kamehameya/UCSD/Courses/ECE 143/dental_hygiene/preprocess_dental.py:29: PerformanceWarning: DataFrame is highly fragmented.  This is usually the result of calling `frame.insert` many times, which has poor performance.  Consider joining all columns at once using pd.concat(axis=1) instead. To get a de-fragmented frame, use `newframe = frame.copy()`\n",
      "  return pd.read_sas(path if os.path.exists(path) else url)\n",
      "/Users/kamehameya/UCSD/Courses/ECE 143/dental_hygiene/preprocess_dental.py:29: PerformanceWarning: DataFrame is highly fragmented.  This is usually the result of calling `frame.insert` many times, which has poor performance.  Consider joining all columns at once using pd.concat(axis=1) instead. To get a de-fragmented frame, use `newframe = frame.copy()`\n",
      "  return pd.read_sas(path if os.path.exists(path) else url)\n",
      "/Users/kamehameya/UCSD/Courses/ECE 143/dental_hygiene/preprocess_dental.py:29: PerformanceWarning: DataFrame is highly fragmented.  This is usually the result of calling `frame.insert` many times, which has poor performance.  Consider joining all columns at once using pd.concat(axis=1) instead. To get a de-fragmented frame, use `newframe = frame.copy()`\n",
      "  return pd.read_sas(path if os.path.exists(path) else url)\n",
      "/Users/kamehameya/UCSD/Courses/ECE 143/dental_hygiene/preprocess_dental.py:29: PerformanceWarning: DataFrame is highly fragmented.  This is usually the result of calling `frame.insert` many times, which has poor performance.  Consider joining all columns at once using pd.concat(axis=1) instead. To get a de-fragmented frame, use `newframe = frame.copy()`\n",
      "  return pd.read_sas(path if os.path.exists(path) else url)\n",
      "/Users/kamehameya/UCSD/Courses/ECE 143/dental_hygiene/preprocess_dental.py:29: PerformanceWarning: DataFrame is highly fragmented.  This is usually the result of calling `frame.insert` many times, which has poor performance.  Consider joining all columns at once using pd.concat(axis=1) instead. To get a de-fragmented frame, use `newframe = frame.copy()`\n",
      "  return pd.read_sas(path if os.path.exists(path) else url)\n",
      "/Users/kamehameya/UCSD/Courses/ECE 143/dental_hygiene/preprocess_dental.py:29: PerformanceWarning: DataFrame is highly fragmented.  This is usually the result of calling `frame.insert` many times, which has poor performance.  Consider joining all columns at once using pd.concat(axis=1) instead. To get a de-fragmented frame, use `newframe = frame.copy()`\n",
      "  return pd.read_sas(path if os.path.exists(path) else url)\n",
      "/Users/kamehameya/UCSD/Courses/ECE 143/dental_hygiene/preprocess_dental.py:29: PerformanceWarning: DataFrame is highly fragmented.  This is usually the result of calling `frame.insert` many times, which has poor performance.  Consider joining all columns at once using pd.concat(axis=1) instead. To get a de-fragmented frame, use `newframe = frame.copy()`\n",
      "  return pd.read_sas(path if os.path.exists(path) else url)\n",
      "/Users/kamehameya/UCSD/Courses/ECE 143/dental_hygiene/preprocess_dental.py:29: PerformanceWarning: DataFrame is highly fragmented.  This is usually the result of calling `frame.insert` many times, which has poor performance.  Consider joining all columns at once using pd.concat(axis=1) instead. To get a de-fragmented frame, use `newframe = frame.copy()`\n",
      "  return pd.read_sas(path if os.path.exists(path) else url)\n",
      "/Users/kamehameya/UCSD/Courses/ECE 143/dental_hygiene/preprocess_dental.py:29: PerformanceWarning: DataFrame is highly fragmented.  This is usually the result of calling `frame.insert` many times, which has poor performance.  Consider joining all columns at once using pd.concat(axis=1) instead. To get a de-fragmented frame, use `newframe = frame.copy()`\n",
      "  return pd.read_sas(path if os.path.exists(path) else url)\n",
      "/Users/kamehameya/UCSD/Courses/ECE 143/dental_hygiene/preprocess_dental.py:29: PerformanceWarning: DataFrame is highly fragmented.  This is usually the result of calling `frame.insert` many times, which has poor performance.  Consider joining all columns at once using pd.concat(axis=1) instead. To get a de-fragmented frame, use `newframe = frame.copy()`\n",
      "  return pd.read_sas(path if os.path.exists(path) else url)\n",
      "/Users/kamehameya/UCSD/Courses/ECE 143/dental_hygiene/preprocess_dental.py:29: PerformanceWarning: DataFrame is highly fragmented.  This is usually the result of calling `frame.insert` many times, which has poor performance.  Consider joining all columns at once using pd.concat(axis=1) instead. To get a de-fragmented frame, use `newframe = frame.copy()`\n",
      "  return pd.read_sas(path if os.path.exists(path) else url)\n",
      "/Users/kamehameya/UCSD/Courses/ECE 143/dental_hygiene/preprocess_dental.py:29: PerformanceWarning: DataFrame is highly fragmented.  This is usually the result of calling `frame.insert` many times, which has poor performance.  Consider joining all columns at once using pd.concat(axis=1) instead. To get a de-fragmented frame, use `newframe = frame.copy()`\n",
      "  return pd.read_sas(path if os.path.exists(path) else url)\n",
      "/Users/kamehameya/UCSD/Courses/ECE 143/dental_hygiene/preprocess_dental.py:29: PerformanceWarning: DataFrame is highly fragmented.  This is usually the result of calling `frame.insert` many times, which has poor performance.  Consider joining all columns at once using pd.concat(axis=1) instead. To get a de-fragmented frame, use `newframe = frame.copy()`\n",
      "  return pd.read_sas(path if os.path.exists(path) else url)\n",
      "/Users/kamehameya/UCSD/Courses/ECE 143/dental_hygiene/preprocess_dental.py:29: PerformanceWarning: DataFrame is highly fragmented.  This is usually the result of calling `frame.insert` many times, which has poor performance.  Consider joining all columns at once using pd.concat(axis=1) instead. To get a de-fragmented frame, use `newframe = frame.copy()`\n",
      "  return pd.read_sas(path if os.path.exists(path) else url)\n",
      "/Users/kamehameya/UCSD/Courses/ECE 143/dental_hygiene/preprocess_dental.py:29: PerformanceWarning: DataFrame is highly fragmented.  This is usually the result of calling `frame.insert` many times, which has poor performance.  Consider joining all columns at once using pd.concat(axis=1) instead. To get a de-fragmented frame, use `newframe = frame.copy()`\n",
      "  return pd.read_sas(path if os.path.exists(path) else url)\n",
      "/Users/kamehameya/UCSD/Courses/ECE 143/dental_hygiene/preprocess_dental.py:29: PerformanceWarning: DataFrame is highly fragmented.  This is usually the result of calling `frame.insert` many times, which has poor performance.  Consider joining all columns at once using pd.concat(axis=1) instead. To get a de-fragmented frame, use `newframe = frame.copy()`\n",
      "  return pd.read_sas(path if os.path.exists(path) else url)\n",
      "/Users/kamehameya/UCSD/Courses/ECE 143/dental_hygiene/preprocess_dental.py:29: PerformanceWarning: DataFrame is highly fragmented.  This is usually the result of calling `frame.insert` many times, which has poor performance.  Consider joining all columns at once using pd.concat(axis=1) instead. To get a de-fragmented frame, use `newframe = frame.copy()`\n",
      "  return pd.read_sas(path if os.path.exists(path) else url)\n",
      "/Users/kamehameya/UCSD/Courses/ECE 143/dental_hygiene/preprocess_dental.py:29: PerformanceWarning: DataFrame is highly fragmented.  This is usually the result of calling `frame.insert` many times, which has poor performance.  Consider joining all columns at once using pd.concat(axis=1) instead. To get a de-fragmented frame, use `newframe = frame.copy()`\n",
      "  return pd.read_sas(path if os.path.exists(path) else url)\n",
      "/Users/kamehameya/UCSD/Courses/ECE 143/dental_hygiene/preprocess_dental.py:29: PerformanceWarning: DataFrame is highly fragmented.  This is usually the result of calling `frame.insert` many times, which has poor performance.  Consider joining all columns at once using pd.concat(axis=1) instead. To get a de-fragmented frame, use `newframe = frame.copy()`\n",
      "  return pd.read_sas(path if os.path.exists(path) else url)\n",
      "/Users/kamehameya/UCSD/Courses/ECE 143/dental_hygiene/preprocess_dental.py:29: PerformanceWarning: DataFrame is highly fragmented.  This is usually the result of calling `frame.insert` many times, which has poor performance.  Consider joining all columns at once using pd.concat(axis=1) instead. To get a de-fragmented frame, use `newframe = frame.copy()`\n",
      "  return pd.read_sas(path if os.path.exists(path) else url)\n",
      "/Users/kamehameya/UCSD/Courses/ECE 143/dental_hygiene/preprocess_dental.py:29: PerformanceWarning: DataFrame is highly fragmented.  This is usually the result of calling `frame.insert` many times, which has poor performance.  Consider joining all columns at once using pd.concat(axis=1) instead. To get a de-fragmented frame, use `newframe = frame.copy()`\n",
      "  return pd.read_sas(path if os.path.exists(path) else url)\n",
      "/Users/kamehameya/UCSD/Courses/ECE 143/dental_hygiene/preprocess_dental.py:29: PerformanceWarning: DataFrame is highly fragmented.  This is usually the result of calling `frame.insert` many times, which has poor performance.  Consider joining all columns at once using pd.concat(axis=1) instead. To get a de-fragmented frame, use `newframe = frame.copy()`\n",
      "  return pd.read_sas(path if os.path.exists(path) else url)\n",
      "/Users/kamehameya/UCSD/Courses/ECE 143/dental_hygiene/preprocess_dental.py:29: PerformanceWarning: DataFrame is highly fragmented.  This is usually the result of calling `frame.insert` many times, which has poor performance.  Consider joining all columns at once using pd.concat(axis=1) instead. To get a de-fragmented frame, use `newframe = frame.copy()`\n",
      "  return pd.read_sas(path if os.path.exists(path) else url)\n",
      "/Users/kamehameya/UCSD/Courses/ECE 143/dental_hygiene/preprocess_dental.py:29: PerformanceWarning: DataFrame is highly fragmented.  This is usually the result of calling `frame.insert` many times, which has poor performance.  Consider joining all columns at once using pd.concat(axis=1) instead. To get a de-fragmented frame, use `newframe = frame.copy()`\n",
      "  return pd.read_sas(path if os.path.exists(path) else url)\n",
      "/Users/kamehameya/UCSD/Courses/ECE 143/dental_hygiene/preprocess_dental.py:29: PerformanceWarning: DataFrame is highly fragmented.  This is usually the result of calling `frame.insert` many times, which has poor performance.  Consider joining all columns at once using pd.concat(axis=1) instead. To get a de-fragmented frame, use `newframe = frame.copy()`\n",
      "  return pd.read_sas(path if os.path.exists(path) else url)\n",
      "/Users/kamehameya/UCSD/Courses/ECE 143/dental_hygiene/preprocess_dental.py:29: PerformanceWarning: DataFrame is highly fragmented.  This is usually the result of calling `frame.insert` many times, which has poor performance.  Consider joining all columns at once using pd.concat(axis=1) instead. To get a de-fragmented frame, use `newframe = frame.copy()`\n",
      "  return pd.read_sas(path if os.path.exists(path) else url)\n",
      "/Users/kamehameya/UCSD/Courses/ECE 143/dental_hygiene/preprocess_dental.py:29: PerformanceWarning: DataFrame is highly fragmented.  This is usually the result of calling `frame.insert` many times, which has poor performance.  Consider joining all columns at once using pd.concat(axis=1) instead. To get a de-fragmented frame, use `newframe = frame.copy()`\n",
      "  return pd.read_sas(path if os.path.exists(path) else url)\n",
      "/Users/kamehameya/UCSD/Courses/ECE 143/dental_hygiene/preprocess_dental.py:29: PerformanceWarning: DataFrame is highly fragmented.  This is usually the result of calling `frame.insert` many times, which has poor performance.  Consider joining all columns at once using pd.concat(axis=1) instead. To get a de-fragmented frame, use `newframe = frame.copy()`\n",
      "  return pd.read_sas(path if os.path.exists(path) else url)\n",
      "/Users/kamehameya/UCSD/Courses/ECE 143/dental_hygiene/preprocess_dental.py:29: PerformanceWarning: DataFrame is highly fragmented.  This is usually the result of calling `frame.insert` many times, which has poor performance.  Consider joining all columns at once using pd.concat(axis=1) instead. To get a de-fragmented frame, use `newframe = frame.copy()`\n",
      "  return pd.read_sas(path if os.path.exists(path) else url)\n",
      "/Users/kamehameya/UCSD/Courses/ECE 143/dental_hygiene/preprocess_dental.py:29: PerformanceWarning: DataFrame is highly fragmented.  This is usually the result of calling `frame.insert` many times, which has poor performance.  Consider joining all columns at once using pd.concat(axis=1) instead. To get a de-fragmented frame, use `newframe = frame.copy()`\n",
      "  return pd.read_sas(path if os.path.exists(path) else url)\n",
      "/Users/kamehameya/UCSD/Courses/ECE 143/dental_hygiene/preprocess_dental.py:29: PerformanceWarning: DataFrame is highly fragmented.  This is usually the result of calling `frame.insert` many times, which has poor performance.  Consider joining all columns at once using pd.concat(axis=1) instead. To get a de-fragmented frame, use `newframe = frame.copy()`\n",
      "  return pd.read_sas(path if os.path.exists(path) else url)\n",
      "/Users/kamehameya/UCSD/Courses/ECE 143/dental_hygiene/preprocess_dental.py:29: PerformanceWarning: DataFrame is highly fragmented.  This is usually the result of calling `frame.insert` many times, which has poor performance.  Consider joining all columns at once using pd.concat(axis=1) instead. To get a de-fragmented frame, use `newframe = frame.copy()`\n",
      "  return pd.read_sas(path if os.path.exists(path) else url)\n",
      "/Users/kamehameya/UCSD/Courses/ECE 143/dental_hygiene/preprocess_dental.py:29: PerformanceWarning: DataFrame is highly fragmented.  This is usually the result of calling `frame.insert` many times, which has poor performance.  Consider joining all columns at once using pd.concat(axis=1) instead. To get a de-fragmented frame, use `newframe = frame.copy()`\n",
      "  return pd.read_sas(path if os.path.exists(path) else url)\n",
      "/Users/kamehameya/UCSD/Courses/ECE 143/dental_hygiene/preprocess_dental.py:29: PerformanceWarning: DataFrame is highly fragmented.  This is usually the result of calling `frame.insert` many times, which has poor performance.  Consider joining all columns at once using pd.concat(axis=1) instead. To get a de-fragmented frame, use `newframe = frame.copy()`\n",
      "  return pd.read_sas(path if os.path.exists(path) else url)\n",
      "/Users/kamehameya/UCSD/Courses/ECE 143/dental_hygiene/preprocess_dental.py:29: PerformanceWarning: DataFrame is highly fragmented.  This is usually the result of calling `frame.insert` many times, which has poor performance.  Consider joining all columns at once using pd.concat(axis=1) instead. To get a de-fragmented frame, use `newframe = frame.copy()`\n",
      "  return pd.read_sas(path if os.path.exists(path) else url)\n",
      "/Users/kamehameya/UCSD/Courses/ECE 143/dental_hygiene/preprocess_dental.py:29: PerformanceWarning: DataFrame is highly fragmented.  This is usually the result of calling `frame.insert` many times, which has poor performance.  Consider joining all columns at once using pd.concat(axis=1) instead. To get a de-fragmented frame, use `newframe = frame.copy()`\n",
      "  return pd.read_sas(path if os.path.exists(path) else url)\n",
      "/Users/kamehameya/UCSD/Courses/ECE 143/dental_hygiene/preprocess_dental.py:29: PerformanceWarning: DataFrame is highly fragmented.  This is usually the result of calling `frame.insert` many times, which has poor performance.  Consider joining all columns at once using pd.concat(axis=1) instead. To get a de-fragmented frame, use `newframe = frame.copy()`\n",
      "  return pd.read_sas(path if os.path.exists(path) else url)\n",
      "/Users/kamehameya/UCSD/Courses/ECE 143/dental_hygiene/preprocess_dental.py:29: PerformanceWarning: DataFrame is highly fragmented.  This is usually the result of calling `frame.insert` many times, which has poor performance.  Consider joining all columns at once using pd.concat(axis=1) instead. To get a de-fragmented frame, use `newframe = frame.copy()`\n",
      "  return pd.read_sas(path if os.path.exists(path) else url)\n",
      "/Users/kamehameya/UCSD/Courses/ECE 143/dental_hygiene/preprocess_dental.py:29: PerformanceWarning: DataFrame is highly fragmented.  This is usually the result of calling `frame.insert` many times, which has poor performance.  Consider joining all columns at once using pd.concat(axis=1) instead. To get a de-fragmented frame, use `newframe = frame.copy()`\n",
      "  return pd.read_sas(path if os.path.exists(path) else url)\n",
      "/Users/kamehameya/UCSD/Courses/ECE 143/dental_hygiene/preprocess_dental.py:29: PerformanceWarning: DataFrame is highly fragmented.  This is usually the result of calling `frame.insert` many times, which has poor performance.  Consider joining all columns at once using pd.concat(axis=1) instead. To get a de-fragmented frame, use `newframe = frame.copy()`\n",
      "  return pd.read_sas(path if os.path.exists(path) else url)\n",
      "/Users/kamehameya/UCSD/Courses/ECE 143/dental_hygiene/preprocess_dental.py:29: PerformanceWarning: DataFrame is highly fragmented.  This is usually the result of calling `frame.insert` many times, which has poor performance.  Consider joining all columns at once using pd.concat(axis=1) instead. To get a de-fragmented frame, use `newframe = frame.copy()`\n",
      "  return pd.read_sas(path if os.path.exists(path) else url)\n",
      "/Users/kamehameya/UCSD/Courses/ECE 143/dental_hygiene/preprocess_dental.py:29: PerformanceWarning: DataFrame is highly fragmented.  This is usually the result of calling `frame.insert` many times, which has poor performance.  Consider joining all columns at once using pd.concat(axis=1) instead. To get a de-fragmented frame, use `newframe = frame.copy()`\n",
      "  return pd.read_sas(path if os.path.exists(path) else url)\n",
      "/Users/kamehameya/UCSD/Courses/ECE 143/dental_hygiene/preprocess_dental.py:29: PerformanceWarning: DataFrame is highly fragmented.  This is usually the result of calling `frame.insert` many times, which has poor performance.  Consider joining all columns at once using pd.concat(axis=1) instead. To get a de-fragmented frame, use `newframe = frame.copy()`\n",
      "  return pd.read_sas(path if os.path.exists(path) else url)\n",
      "/Users/kamehameya/UCSD/Courses/ECE 143/dental_hygiene/preprocess_dental.py:29: PerformanceWarning: DataFrame is highly fragmented.  This is usually the result of calling `frame.insert` many times, which has poor performance.  Consider joining all columns at once using pd.concat(axis=1) instead. To get a de-fragmented frame, use `newframe = frame.copy()`\n",
      "  return pd.read_sas(path if os.path.exists(path) else url)\n",
      "/Users/kamehameya/UCSD/Courses/ECE 143/dental_hygiene/preprocess_dental.py:29: PerformanceWarning: DataFrame is highly fragmented.  This is usually the result of calling `frame.insert` many times, which has poor performance.  Consider joining all columns at once using pd.concat(axis=1) instead. To get a de-fragmented frame, use `newframe = frame.copy()`\n",
      "  return pd.read_sas(path if os.path.exists(path) else url)\n",
      "/Users/kamehameya/UCSD/Courses/ECE 143/dental_hygiene/preprocess_dental.py:29: PerformanceWarning: DataFrame is highly fragmented.  This is usually the result of calling `frame.insert` many times, which has poor performance.  Consider joining all columns at once using pd.concat(axis=1) instead. To get a de-fragmented frame, use `newframe = frame.copy()`\n",
      "  return pd.read_sas(path if os.path.exists(path) else url)\n",
      "/Users/kamehameya/UCSD/Courses/ECE 143/dental_hygiene/preprocess_dental.py:29: PerformanceWarning: DataFrame is highly fragmented.  This is usually the result of calling `frame.insert` many times, which has poor performance.  Consider joining all columns at once using pd.concat(axis=1) instead. To get a de-fragmented frame, use `newframe = frame.copy()`\n",
      "  return pd.read_sas(path if os.path.exists(path) else url)\n",
      "/Users/kamehameya/UCSD/Courses/ECE 143/dental_hygiene/preprocess_dental.py:29: PerformanceWarning: DataFrame is highly fragmented.  This is usually the result of calling `frame.insert` many times, which has poor performance.  Consider joining all columns at once using pd.concat(axis=1) instead. To get a de-fragmented frame, use `newframe = frame.copy()`\n",
      "  return pd.read_sas(path if os.path.exists(path) else url)\n",
      "/Users/kamehameya/UCSD/Courses/ECE 143/dental_hygiene/preprocess_dental.py:29: PerformanceWarning: DataFrame is highly fragmented.  This is usually the result of calling `frame.insert` many times, which has poor performance.  Consider joining all columns at once using pd.concat(axis=1) instead. To get a de-fragmented frame, use `newframe = frame.copy()`\n",
      "  return pd.read_sas(path if os.path.exists(path) else url)\n",
      "/Users/kamehameya/UCSD/Courses/ECE 143/dental_hygiene/preprocess_dental.py:29: PerformanceWarning: DataFrame is highly fragmented.  This is usually the result of calling `frame.insert` many times, which has poor performance.  Consider joining all columns at once using pd.concat(axis=1) instead. To get a de-fragmented frame, use `newframe = frame.copy()`\n",
      "  return pd.read_sas(path if os.path.exists(path) else url)\n"
     ]
    },
    {
     "data": {
      "text/plain": "<bound method DataFrame.info of            SEQN  ANTERIOR_TOOTH_COUNT  POSTERIOR_TOOTH_COUNT  \\\n0      109263.0                  12.0                    8.0   \n1      109264.0                  12.0                   16.0   \n2      109265.0                  12.0                    6.0   \n3      109266.0                  12.0                   20.0   \n4      109269.0                  12.0                    8.0   \n...         ...                   ...                    ...   \n13767  124818.0                  12.0                   11.0   \n13768  124819.0                  12.0                    8.0   \n13769  124820.0                  12.0                   10.0   \n13770  124821.0                  12.0                   12.0   \n13771  124822.0                   NaN                    NaN   \n\n       TOTAL_TOOTH_COUNT  ANTERIOR_CARIES_COUNT  POSTERIOR_CARIES_COUNT  \\\n0                   20.0                    0.0                     NaN   \n1                   28.0                    0.0                     0.0   \n2                   18.0                    0.0                     NaN   \n3                   32.0                    0.0                     8.0   \n4                   20.0                    0.0                     NaN   \n...                  ...                    ...                     ...   \n13767               23.0                    3.0                     6.0   \n13768               20.0                    0.0                     NaN   \n13769               22.0                    0.0                     NaN   \n13770               24.0                    0.0                    13.0   \n13771                NaN                    NaN                     NaN   \n\n       TOTAL_CARIES_COUNT  ANTERIOR_DENTAL_SEALANT_COUNT  \\\n0                     NaN                            NaN   \n1                     0.0                            0.0   \n2                     NaN                            NaN   \n3                     8.0                            NaN   \n4                     NaN                            NaN   \n...                   ...                            ...   \n13767                 9.0                            NaN   \n13768                 NaN                            NaN   \n13769                 NaN                            NaN   \n13770                13.0                            NaN   \n13771                 NaN                            NaN   \n\n       POSTERIOR_DENTAL_SEALANT_COUNT  TOTAL_SEALANT_COUNT  ROOT_CARIES  \\\n0                                 NaN                  NaN          NaN   \n1                                 0.0                  0.0          NaN   \n2                                 NaN                  NaN          NaN   \n3                                 NaN                  NaN          0.0   \n4                                 NaN                  NaN          NaN   \n...                               ...                  ...          ...   \n13767                             NaN                  NaN          1.0   \n13768                             NaN                  NaN          NaN   \n13769                             NaN                  NaN          NaN   \n13770                             NaN                  NaN          0.0   \n13771                             NaN                  NaN          NaN   \n\n       OTHER_NON_CARIOUS_ROOT_LESION  ANTERIOR_SIMPLE_01  POSTERIOR_SIMPLE_01  \\\n0                                NaN                   0                    0   \n1                                NaN                   0                    0   \n2                                NaN                   0                    0   \n3                                0.0                   0                    1   \n4                                NaN                   0                    0   \n...                              ...                 ...                  ...   \n13767                            0.0                   1                    1   \n13768                            NaN                   0                    0   \n13769                            NaN                   0                    0   \n13770                            1.0                   1                    1   \n13771                            NaN                   0                    0   \n\n       TOTAL_SIMPLE_01  \n0                    0  \n1                    0  \n2                    0  \n3                    1  \n4                    0  \n...                ...  \n13767                1  \n13768                0  \n13769                0  \n13770                1  \n13771                0  \n\n[13772 rows x 15 columns]>"
     },
     "execution_count": 2,
     "metadata": {},
     "output_type": "execute_result"
    }
   ],
   "source": [
    "dental_data_01 = preprocess_dental_data(usage='01', skipna=False)\n",
    "dental_data_01.describe()\n",
    "dental_data_01.info\n",
    "#print(dental_data)"
   ],
   "metadata": {
    "collapsed": false
   }
  },
  {
   "cell_type": "code",
   "execution_count": 3,
   "outputs": [
    {
     "name": "stdout",
     "output_type": "stream",
     "text": [
      "SEQN  :  0\n",
      "ANTERIOR_TOOTH_COUNT  :  494\n",
      "POSTERIOR_TOOTH_COUNT  :  494\n",
      "TOTAL_TOOTH_COUNT  :  494\n",
      "ANTERIOR_CARIES_COUNT  :  2093\n",
      "POSTERIOR_CARIES_COUNT  :  3972\n",
      "TOTAL_CARIES_COUNT  :  4818\n",
      "ANTERIOR_DENTAL_SEALANT_COUNT  :  10781\n",
      "POSTERIOR_DENTAL_SEALANT_COUNT  :  12165\n",
      "TOTAL_SEALANT_COUNT  :  12185\n",
      "ROOT_CARIES  :  5771\n",
      "OTHER_NON_CARIOUS_ROOT_LESION  :  5773\n",
      "ANTERIOR_SIMPLE_01  :  0\n",
      "POSTERIOR_SIMPLE_01  :  0\n",
      "TOTAL_SIMPLE_01  :  0\n"
     ]
    }
   ],
   "source": [
    "#dental_data_01['OTHER_NON_CARIOUS_ROOT_LESION'].plot.hist()\n",
    "for x in dental_data_01.columns:\n",
    "    print(x, ' : ',dental_data_01[x].isna().sum())"
   ],
   "metadata": {
    "collapsed": false
   }
  },
  {
   "cell_type": "code",
   "execution_count": 4,
   "outputs": [
    {
     "data": {
      "text/plain": "       ANTERIOR_TOOTH_COUNT  POSTERIOR_TOOTH_COUNT  TOTAL_TOOTH_COUNT  \\\ncount            347.000000             347.000000         347.000000   \nmean              11.974063              16.876081          28.850144   \nstd                0.206586               1.413878           1.436727   \nmin                9.000000              15.000000          25.000000   \n25%               12.000000              16.000000          28.000000   \n50%               12.000000              16.000000          28.000000   \n75%               12.000000              18.000000          30.000000   \nmax               12.000000              20.000000          32.000000   \n\n       ANTERIOR_CARIES_COUNT  POSTERIOR_CARIES_COUNT  TOTAL_CARIES_COUNT  \\\ncount             347.000000              347.000000          347.000000   \nmean                0.170029                3.000000            3.170029   \nstd                 0.638297                3.415368            3.626719   \nmin                 0.000000                0.000000            0.000000   \n25%                 0.000000                0.000000            0.000000   \n50%                 0.000000                2.000000            2.000000   \n75%                 0.000000                5.000000            5.000000   \nmax                 5.000000               16.000000           16.000000   \n\n       ANTERIOR_DENTAL_SEALANT_COUNT  POSTERIOR_DENTAL_SEALANT_COUNT  \\\ncount                          347.0                      347.000000   \nmean                             0.0                        1.357349   \nstd                              0.0                        2.807756   \nmin                              0.0                        0.000000   \n25%                              0.0                        0.000000   \n50%                              0.0                        0.000000   \n75%                              0.0                        1.500000   \nmax                              0.0                       16.000000   \n\n       TOTAL_SEALANT_COUNT  ROOT_CARIES  OTHER_NON_CARIOUS_ROOT_LESION  \\\ncount           347.000000   347.000000                     347.000000   \nmean              1.357349     0.014409                       0.002882   \nstd               2.807756     0.119343                       0.053683   \nmin               0.000000     0.000000                       0.000000   \n25%               0.000000     0.000000                       0.000000   \n50%               0.000000     0.000000                       0.000000   \n75%               1.500000     0.000000                       0.000000   \nmax              16.000000     1.000000                       1.000000   \n\n       ANTERIOR_SIMPLE_01  POSTERIOR_SIMPLE_01  TOTAL_SIMPLE_01  \ncount          347.000000           347.000000        347.00000  \nmean             0.106628             0.778098          0.78098  \nstd              0.309086             0.416126          0.41418  \nmin              0.000000             0.000000          0.00000  \n25%              0.000000             1.000000          1.00000  \n50%              0.000000             1.000000          1.00000  \n75%              0.000000             1.000000          1.00000  \nmax              1.000000             1.000000          1.00000  ",
      "text/html": "<div>\n<style scoped>\n    .dataframe tbody tr th:only-of-type {\n        vertical-align: middle;\n    }\n\n    .dataframe tbody tr th {\n        vertical-align: top;\n    }\n\n    .dataframe thead th {\n        text-align: right;\n    }\n</style>\n<table border=\"1\" class=\"dataframe\">\n  <thead>\n    <tr style=\"text-align: right;\">\n      <th></th>\n      <th>ANTERIOR_TOOTH_COUNT</th>\n      <th>POSTERIOR_TOOTH_COUNT</th>\n      <th>TOTAL_TOOTH_COUNT</th>\n      <th>ANTERIOR_CARIES_COUNT</th>\n      <th>POSTERIOR_CARIES_COUNT</th>\n      <th>TOTAL_CARIES_COUNT</th>\n      <th>ANTERIOR_DENTAL_SEALANT_COUNT</th>\n      <th>POSTERIOR_DENTAL_SEALANT_COUNT</th>\n      <th>TOTAL_SEALANT_COUNT</th>\n      <th>ROOT_CARIES</th>\n      <th>OTHER_NON_CARIOUS_ROOT_LESION</th>\n      <th>ANTERIOR_SIMPLE_01</th>\n      <th>POSTERIOR_SIMPLE_01</th>\n      <th>TOTAL_SIMPLE_01</th>\n    </tr>\n  </thead>\n  <tbody>\n    <tr>\n      <th>count</th>\n      <td>347.000000</td>\n      <td>347.000000</td>\n      <td>347.000000</td>\n      <td>347.000000</td>\n      <td>347.000000</td>\n      <td>347.000000</td>\n      <td>347.0</td>\n      <td>347.000000</td>\n      <td>347.000000</td>\n      <td>347.000000</td>\n      <td>347.000000</td>\n      <td>347.000000</td>\n      <td>347.000000</td>\n      <td>347.00000</td>\n    </tr>\n    <tr>\n      <th>mean</th>\n      <td>11.974063</td>\n      <td>16.876081</td>\n      <td>28.850144</td>\n      <td>0.170029</td>\n      <td>3.000000</td>\n      <td>3.170029</td>\n      <td>0.0</td>\n      <td>1.357349</td>\n      <td>1.357349</td>\n      <td>0.014409</td>\n      <td>0.002882</td>\n      <td>0.106628</td>\n      <td>0.778098</td>\n      <td>0.78098</td>\n    </tr>\n    <tr>\n      <th>std</th>\n      <td>0.206586</td>\n      <td>1.413878</td>\n      <td>1.436727</td>\n      <td>0.638297</td>\n      <td>3.415368</td>\n      <td>3.626719</td>\n      <td>0.0</td>\n      <td>2.807756</td>\n      <td>2.807756</td>\n      <td>0.119343</td>\n      <td>0.053683</td>\n      <td>0.309086</td>\n      <td>0.416126</td>\n      <td>0.41418</td>\n    </tr>\n    <tr>\n      <th>min</th>\n      <td>9.000000</td>\n      <td>15.000000</td>\n      <td>25.000000</td>\n      <td>0.000000</td>\n      <td>0.000000</td>\n      <td>0.000000</td>\n      <td>0.0</td>\n      <td>0.000000</td>\n      <td>0.000000</td>\n      <td>0.000000</td>\n      <td>0.000000</td>\n      <td>0.000000</td>\n      <td>0.000000</td>\n      <td>0.00000</td>\n    </tr>\n    <tr>\n      <th>25%</th>\n      <td>12.000000</td>\n      <td>16.000000</td>\n      <td>28.000000</td>\n      <td>0.000000</td>\n      <td>0.000000</td>\n      <td>0.000000</td>\n      <td>0.0</td>\n      <td>0.000000</td>\n      <td>0.000000</td>\n      <td>0.000000</td>\n      <td>0.000000</td>\n      <td>0.000000</td>\n      <td>1.000000</td>\n      <td>1.00000</td>\n    </tr>\n    <tr>\n      <th>50%</th>\n      <td>12.000000</td>\n      <td>16.000000</td>\n      <td>28.000000</td>\n      <td>0.000000</td>\n      <td>2.000000</td>\n      <td>2.000000</td>\n      <td>0.0</td>\n      <td>0.000000</td>\n      <td>0.000000</td>\n      <td>0.000000</td>\n      <td>0.000000</td>\n      <td>0.000000</td>\n      <td>1.000000</td>\n      <td>1.00000</td>\n    </tr>\n    <tr>\n      <th>75%</th>\n      <td>12.000000</td>\n      <td>18.000000</td>\n      <td>30.000000</td>\n      <td>0.000000</td>\n      <td>5.000000</td>\n      <td>5.000000</td>\n      <td>0.0</td>\n      <td>1.500000</td>\n      <td>1.500000</td>\n      <td>0.000000</td>\n      <td>0.000000</td>\n      <td>0.000000</td>\n      <td>1.000000</td>\n      <td>1.00000</td>\n    </tr>\n    <tr>\n      <th>max</th>\n      <td>12.000000</td>\n      <td>20.000000</td>\n      <td>32.000000</td>\n      <td>5.000000</td>\n      <td>16.000000</td>\n      <td>16.000000</td>\n      <td>0.0</td>\n      <td>16.000000</td>\n      <td>16.000000</td>\n      <td>1.000000</td>\n      <td>1.000000</td>\n      <td>1.000000</td>\n      <td>1.000000</td>\n      <td>1.00000</td>\n    </tr>\n  </tbody>\n</table>\n</div>"
     },
     "execution_count": 4,
     "metadata": {},
     "output_type": "execute_result"
    }
   ],
   "source": [
    "dental_data_01 = dental_data_01.set_index('SEQN')\n",
    "dental_data_01.dropna(subset=['ANTERIOR_CARIES_COUNT', 'POSTERIOR_CARIES_COUNT', 'ANTERIOR_DENTAL_SEALANT_COUNT', 'POSTERIOR_DENTAL_SEALANT_COUNT', 'ROOT_CARIES', 'OTHER_NON_CARIOUS_ROOT_LESION'], how='any').describe()\n"
   ],
   "metadata": {
    "collapsed": false
   }
  },
  {
   "cell_type": "code",
   "execution_count": 5,
   "outputs": [
    {
     "data": {
      "text/plain": "       ANTERIOR_TOOTH_COUNT  POSTERIOR_TOOTH_COUNT  TOTAL_TOOTH_COUNT  \\\ncount          12755.000000           12755.000000       12755.000000   \nmean              10.838887              12.500274          23.339161   \nstd                2.983751               5.144294           7.532621   \nmin                0.000000               0.000000           0.000000   \n25%               12.000000               9.000000          20.000000   \n50%               12.000000              14.000000          26.000000   \n75%               12.000000              16.000000          28.000000   \nmax               12.000000              20.000000          32.000000   \n\n       ANTERIOR_CARIES_COUNT  POSTERIOR_CARIES_COUNT  TOTAL_CARIES_COUNT  \\\ncount           11679.000000             9800.000000         8954.000000   \nmean                1.704512                8.128061           10.021778   \nstd                 3.362081                5.672494            8.510732   \nmin                 0.000000                0.000000            0.000000   \n25%                 0.000000                3.000000            3.000000   \n50%                 0.000000                8.000000            8.000000   \n75%                 2.000000               14.000000           15.000000   \nmax                12.000000               16.000000           28.000000   \n\n       ANTERIOR_DENTAL_SEALANT_COUNT  POSTERIOR_DENTAL_SEALANT_COUNT  \\\ncount                    2991.000000                     1607.000000   \nmean                        0.004346                        1.669571   \nstd                         0.087598                        3.059756   \nmin                         0.000000                        0.000000   \n25%                         0.000000                        0.000000   \n50%                         0.000000                        0.000000   \n75%                         0.000000                        2.000000   \nmax                         2.000000                       16.000000   \n\n       TOTAL_SEALANT_COUNT  ROOT_CARIES  OTHER_NON_CARIOUS_ROOT_LESION  \\\ncount          1587.000000  8001.000000                    7999.000000   \nmean              1.686200     0.179353                       0.240280   \nstd               3.086166     0.420064                       0.503822   \nmin               0.000000     0.000000                       0.000000   \n25%               0.000000     0.000000                       0.000000   \n50%               0.000000     0.000000                       0.000000   \n75%               2.000000     0.000000                       0.000000   \nmax              18.000000     2.000000                       2.000000   \n\n       ANTERIOR_SIMPLE_01  POSTERIOR_SIMPLE_01  TOTAL_SIMPLE_01  \ncount        12755.000000         12755.000000     12755.000000  \nmean             0.392552             0.693375         0.712270  \nstd              0.488338             0.461110         0.452722  \nmin              0.000000             0.000000         0.000000  \n25%              0.000000             0.000000         0.000000  \n50%              0.000000             1.000000         1.000000  \n75%              1.000000             1.000000         1.000000  \nmax              1.000000             1.000000         1.000000  ",
      "text/html": "<div>\n<style scoped>\n    .dataframe tbody tr th:only-of-type {\n        vertical-align: middle;\n    }\n\n    .dataframe tbody tr th {\n        vertical-align: top;\n    }\n\n    .dataframe thead th {\n        text-align: right;\n    }\n</style>\n<table border=\"1\" class=\"dataframe\">\n  <thead>\n    <tr style=\"text-align: right;\">\n      <th></th>\n      <th>ANTERIOR_TOOTH_COUNT</th>\n      <th>POSTERIOR_TOOTH_COUNT</th>\n      <th>TOTAL_TOOTH_COUNT</th>\n      <th>ANTERIOR_CARIES_COUNT</th>\n      <th>POSTERIOR_CARIES_COUNT</th>\n      <th>TOTAL_CARIES_COUNT</th>\n      <th>ANTERIOR_DENTAL_SEALANT_COUNT</th>\n      <th>POSTERIOR_DENTAL_SEALANT_COUNT</th>\n      <th>TOTAL_SEALANT_COUNT</th>\n      <th>ROOT_CARIES</th>\n      <th>OTHER_NON_CARIOUS_ROOT_LESION</th>\n      <th>ANTERIOR_SIMPLE_01</th>\n      <th>POSTERIOR_SIMPLE_01</th>\n      <th>TOTAL_SIMPLE_01</th>\n    </tr>\n  </thead>\n  <tbody>\n    <tr>\n      <th>count</th>\n      <td>12755.000000</td>\n      <td>12755.000000</td>\n      <td>12755.000000</td>\n      <td>11679.000000</td>\n      <td>9800.000000</td>\n      <td>8954.000000</td>\n      <td>2991.000000</td>\n      <td>1607.000000</td>\n      <td>1587.000000</td>\n      <td>8001.000000</td>\n      <td>7999.000000</td>\n      <td>12755.000000</td>\n      <td>12755.000000</td>\n      <td>12755.000000</td>\n    </tr>\n    <tr>\n      <th>mean</th>\n      <td>10.838887</td>\n      <td>12.500274</td>\n      <td>23.339161</td>\n      <td>1.704512</td>\n      <td>8.128061</td>\n      <td>10.021778</td>\n      <td>0.004346</td>\n      <td>1.669571</td>\n      <td>1.686200</td>\n      <td>0.179353</td>\n      <td>0.240280</td>\n      <td>0.392552</td>\n      <td>0.693375</td>\n      <td>0.712270</td>\n    </tr>\n    <tr>\n      <th>std</th>\n      <td>2.983751</td>\n      <td>5.144294</td>\n      <td>7.532621</td>\n      <td>3.362081</td>\n      <td>5.672494</td>\n      <td>8.510732</td>\n      <td>0.087598</td>\n      <td>3.059756</td>\n      <td>3.086166</td>\n      <td>0.420064</td>\n      <td>0.503822</td>\n      <td>0.488338</td>\n      <td>0.461110</td>\n      <td>0.452722</td>\n    </tr>\n    <tr>\n      <th>min</th>\n      <td>0.000000</td>\n      <td>0.000000</td>\n      <td>0.000000</td>\n      <td>0.000000</td>\n      <td>0.000000</td>\n      <td>0.000000</td>\n      <td>0.000000</td>\n      <td>0.000000</td>\n      <td>0.000000</td>\n      <td>0.000000</td>\n      <td>0.000000</td>\n      <td>0.000000</td>\n      <td>0.000000</td>\n      <td>0.000000</td>\n    </tr>\n    <tr>\n      <th>25%</th>\n      <td>12.000000</td>\n      <td>9.000000</td>\n      <td>20.000000</td>\n      <td>0.000000</td>\n      <td>3.000000</td>\n      <td>3.000000</td>\n      <td>0.000000</td>\n      <td>0.000000</td>\n      <td>0.000000</td>\n      <td>0.000000</td>\n      <td>0.000000</td>\n      <td>0.000000</td>\n      <td>0.000000</td>\n      <td>0.000000</td>\n    </tr>\n    <tr>\n      <th>50%</th>\n      <td>12.000000</td>\n      <td>14.000000</td>\n      <td>26.000000</td>\n      <td>0.000000</td>\n      <td>8.000000</td>\n      <td>8.000000</td>\n      <td>0.000000</td>\n      <td>0.000000</td>\n      <td>0.000000</td>\n      <td>0.000000</td>\n      <td>0.000000</td>\n      <td>0.000000</td>\n      <td>1.000000</td>\n      <td>1.000000</td>\n    </tr>\n    <tr>\n      <th>75%</th>\n      <td>12.000000</td>\n      <td>16.000000</td>\n      <td>28.000000</td>\n      <td>2.000000</td>\n      <td>14.000000</td>\n      <td>15.000000</td>\n      <td>0.000000</td>\n      <td>2.000000</td>\n      <td>2.000000</td>\n      <td>0.000000</td>\n      <td>0.000000</td>\n      <td>1.000000</td>\n      <td>1.000000</td>\n      <td>1.000000</td>\n    </tr>\n    <tr>\n      <th>max</th>\n      <td>12.000000</td>\n      <td>20.000000</td>\n      <td>32.000000</td>\n      <td>12.000000</td>\n      <td>16.000000</td>\n      <td>28.000000</td>\n      <td>2.000000</td>\n      <td>16.000000</td>\n      <td>18.000000</td>\n      <td>2.000000</td>\n      <td>2.000000</td>\n      <td>1.000000</td>\n      <td>1.000000</td>\n      <td>1.000000</td>\n    </tr>\n  </tbody>\n</table>\n</div>"
     },
     "execution_count": 5,
     "metadata": {},
     "output_type": "execute_result"
    }
   ],
   "source": [
    "dental_data_01.dropna(subset=['ANTERIOR_CARIES_COUNT', 'POSTERIOR_CARIES_COUNT', 'ANTERIOR_DENTAL_SEALANT_COUNT', 'POSTERIOR_DENTAL_SEALANT_COUNT', 'ROOT_CARIES', 'OTHER_NON_CARIOUS_ROOT_LESION'], how='all').describe()\n"
   ],
   "metadata": {
    "collapsed": false
   }
  },
  {
   "cell_type": "code",
   "execution_count": 6,
   "outputs": [
    {
     "data": {
      "text/plain": "       ANTERIOR_TOOTH_COUNT  POSTERIOR_TOOTH_COUNT  TOTAL_TOOTH_COUNT  \\\ncount            347.000000             347.000000         347.000000   \nmean              11.974063              16.876081          28.850144   \nstd                0.206586               1.413878           1.436727   \nmin                9.000000              15.000000          25.000000   \n25%               12.000000              16.000000          28.000000   \n50%               12.000000              16.000000          28.000000   \n75%               12.000000              18.000000          30.000000   \nmax               12.000000              20.000000          32.000000   \n\n       ANTERIOR_CARIES_COUNT  POSTERIOR_CARIES_COUNT  TOTAL_CARIES_COUNT  \\\ncount             347.000000              347.000000          347.000000   \nmean                0.170029                3.000000            3.170029   \nstd                 0.638297                3.415368            3.626719   \nmin                 0.000000                0.000000            0.000000   \n25%                 0.000000                0.000000            0.000000   \n50%                 0.000000                2.000000            2.000000   \n75%                 0.000000                5.000000            5.000000   \nmax                 5.000000               16.000000           16.000000   \n\n       ANTERIOR_DENTAL_SEALANT_COUNT  POSTERIOR_DENTAL_SEALANT_COUNT  \\\ncount                          347.0                      347.000000   \nmean                             0.0                        1.357349   \nstd                              0.0                        2.807756   \nmin                              0.0                        0.000000   \n25%                              0.0                        0.000000   \n50%                              0.0                        0.000000   \n75%                              0.0                        1.500000   \nmax                              0.0                       16.000000   \n\n       TOTAL_SEALANT_COUNT  ROOT_CARIES  OTHER_NON_CARIOUS_ROOT_LESION  \\\ncount           347.000000   347.000000                     347.000000   \nmean              1.357349     0.014409                       0.002882   \nstd               2.807756     0.119343                       0.053683   \nmin               0.000000     0.000000                       0.000000   \n25%               0.000000     0.000000                       0.000000   \n50%               0.000000     0.000000                       0.000000   \n75%               1.500000     0.000000                       0.000000   \nmax              16.000000     1.000000                       1.000000   \n\n       ANTERIOR_SIMPLE_01  POSTERIOR_SIMPLE_01  TOTAL_SIMPLE_01  \ncount          347.000000           347.000000        347.00000  \nmean             0.106628             0.778098          0.78098  \nstd              0.309086             0.416126          0.41418  \nmin              0.000000             0.000000          0.00000  \n25%              0.000000             1.000000          1.00000  \n50%              0.000000             1.000000          1.00000  \n75%              0.000000             1.000000          1.00000  \nmax              1.000000             1.000000          1.00000  ",
      "text/html": "<div>\n<style scoped>\n    .dataframe tbody tr th:only-of-type {\n        vertical-align: middle;\n    }\n\n    .dataframe tbody tr th {\n        vertical-align: top;\n    }\n\n    .dataframe thead th {\n        text-align: right;\n    }\n</style>\n<table border=\"1\" class=\"dataframe\">\n  <thead>\n    <tr style=\"text-align: right;\">\n      <th></th>\n      <th>ANTERIOR_TOOTH_COUNT</th>\n      <th>POSTERIOR_TOOTH_COUNT</th>\n      <th>TOTAL_TOOTH_COUNT</th>\n      <th>ANTERIOR_CARIES_COUNT</th>\n      <th>POSTERIOR_CARIES_COUNT</th>\n      <th>TOTAL_CARIES_COUNT</th>\n      <th>ANTERIOR_DENTAL_SEALANT_COUNT</th>\n      <th>POSTERIOR_DENTAL_SEALANT_COUNT</th>\n      <th>TOTAL_SEALANT_COUNT</th>\n      <th>ROOT_CARIES</th>\n      <th>OTHER_NON_CARIOUS_ROOT_LESION</th>\n      <th>ANTERIOR_SIMPLE_01</th>\n      <th>POSTERIOR_SIMPLE_01</th>\n      <th>TOTAL_SIMPLE_01</th>\n    </tr>\n  </thead>\n  <tbody>\n    <tr>\n      <th>count</th>\n      <td>347.000000</td>\n      <td>347.000000</td>\n      <td>347.000000</td>\n      <td>347.000000</td>\n      <td>347.000000</td>\n      <td>347.000000</td>\n      <td>347.0</td>\n      <td>347.000000</td>\n      <td>347.000000</td>\n      <td>347.000000</td>\n      <td>347.000000</td>\n      <td>347.000000</td>\n      <td>347.000000</td>\n      <td>347.00000</td>\n    </tr>\n    <tr>\n      <th>mean</th>\n      <td>11.974063</td>\n      <td>16.876081</td>\n      <td>28.850144</td>\n      <td>0.170029</td>\n      <td>3.000000</td>\n      <td>3.170029</td>\n      <td>0.0</td>\n      <td>1.357349</td>\n      <td>1.357349</td>\n      <td>0.014409</td>\n      <td>0.002882</td>\n      <td>0.106628</td>\n      <td>0.778098</td>\n      <td>0.78098</td>\n    </tr>\n    <tr>\n      <th>std</th>\n      <td>0.206586</td>\n      <td>1.413878</td>\n      <td>1.436727</td>\n      <td>0.638297</td>\n      <td>3.415368</td>\n      <td>3.626719</td>\n      <td>0.0</td>\n      <td>2.807756</td>\n      <td>2.807756</td>\n      <td>0.119343</td>\n      <td>0.053683</td>\n      <td>0.309086</td>\n      <td>0.416126</td>\n      <td>0.41418</td>\n    </tr>\n    <tr>\n      <th>min</th>\n      <td>9.000000</td>\n      <td>15.000000</td>\n      <td>25.000000</td>\n      <td>0.000000</td>\n      <td>0.000000</td>\n      <td>0.000000</td>\n      <td>0.0</td>\n      <td>0.000000</td>\n      <td>0.000000</td>\n      <td>0.000000</td>\n      <td>0.000000</td>\n      <td>0.000000</td>\n      <td>0.000000</td>\n      <td>0.00000</td>\n    </tr>\n    <tr>\n      <th>25%</th>\n      <td>12.000000</td>\n      <td>16.000000</td>\n      <td>28.000000</td>\n      <td>0.000000</td>\n      <td>0.000000</td>\n      <td>0.000000</td>\n      <td>0.0</td>\n      <td>0.000000</td>\n      <td>0.000000</td>\n      <td>0.000000</td>\n      <td>0.000000</td>\n      <td>0.000000</td>\n      <td>1.000000</td>\n      <td>1.00000</td>\n    </tr>\n    <tr>\n      <th>50%</th>\n      <td>12.000000</td>\n      <td>16.000000</td>\n      <td>28.000000</td>\n      <td>0.000000</td>\n      <td>2.000000</td>\n      <td>2.000000</td>\n      <td>0.0</td>\n      <td>0.000000</td>\n      <td>0.000000</td>\n      <td>0.000000</td>\n      <td>0.000000</td>\n      <td>0.000000</td>\n      <td>1.000000</td>\n      <td>1.00000</td>\n    </tr>\n    <tr>\n      <th>75%</th>\n      <td>12.000000</td>\n      <td>18.000000</td>\n      <td>30.000000</td>\n      <td>0.000000</td>\n      <td>5.000000</td>\n      <td>5.000000</td>\n      <td>0.0</td>\n      <td>1.500000</td>\n      <td>1.500000</td>\n      <td>0.000000</td>\n      <td>0.000000</td>\n      <td>0.000000</td>\n      <td>1.000000</td>\n      <td>1.00000</td>\n    </tr>\n    <tr>\n      <th>max</th>\n      <td>12.000000</td>\n      <td>20.000000</td>\n      <td>32.000000</td>\n      <td>5.000000</td>\n      <td>16.000000</td>\n      <td>16.000000</td>\n      <td>0.0</td>\n      <td>16.000000</td>\n      <td>16.000000</td>\n      <td>1.000000</td>\n      <td>1.000000</td>\n      <td>1.000000</td>\n      <td>1.000000</td>\n      <td>1.00000</td>\n    </tr>\n  </tbody>\n</table>\n</div>"
     },
     "execution_count": 6,
     "metadata": {},
     "output_type": "execute_result"
    }
   ],
   "source": [
    "dental_data_01.dropna(subset=['ANTERIOR_CARIES_COUNT', 'POSTERIOR_CARIES_COUNT', 'ANTERIOR_DENTAL_SEALANT_COUNT', 'POSTERIOR_DENTAL_SEALANT_COUNT', 'ROOT_CARIES', 'OTHER_NON_CARIOUS_ROOT_LESION'], how='any').describe()"
   ],
   "metadata": {
    "collapsed": false
   }
  },
  {
   "cell_type": "code",
   "execution_count": null,
   "outputs": [],
   "source": [],
   "metadata": {
    "collapsed": false
   }
  }
 ],
 "metadata": {
  "kernelspec": {
   "display_name": "Python 3",
   "language": "python",
   "name": "python3"
  },
  "language_info": {
   "codemirror_mode": {
    "name": "ipython",
    "version": 2
   },
   "file_extension": ".py",
   "mimetype": "text/x-python",
   "name": "python",
   "nbconvert_exporter": "python",
   "pygments_lexer": "ipython2",
   "version": "2.7.6"
  }
 },
 "nbformat": 4,
 "nbformat_minor": 0
}
